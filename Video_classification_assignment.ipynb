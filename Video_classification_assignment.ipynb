{
 "cells": [
  {
   "cell_type": "markdown",
   "metadata": {},
   "source": [
    "# Problem : To classify the input  videoClip as walking or jogging  i.e. Video_Classification "
   ]
  },
  {
   "cell_type": "markdown",
   "metadata": {},
   "source": [
    "## Approach: there can be many ways to approach this problem , well considering computational alg. I opt for follwing approach\n",
    "1.Using squeeznet(pretrained )  to extract feature from image frames in sequence and then feeding it to LSTM to classify the label"
   ]
  },
  {
   "cell_type": "code",
   "execution_count": null,
   "metadata": {
    "collapsed": true
   },
   "outputs": [],
   "source": []
  },
  {
   "cell_type": "markdown",
   "metadata": {},
   "source": [
    "# <h1>Libraries and Utilities:</h1>\n",
    "\n",
    "<h2>Keras with tensorflow as backend</h2>\n",
    "Description: Deep learning library for Training and implementing deep learning architectures, for this task main training model uses a class of deep models RNN, follwed  by a simple MLP .\n",
    "\n",
    "<h2>FFMPEG</h2>\n",
    "for extractions of frames from videos , A specific number of frames has been used limited to 40\n",
    "so as to avoid redundancy\n",
    "<h2>Scipy, numpy </h2>\n",
    "for image/matrix manipulation\n"
   ]
  },
  {
   "cell_type": "markdown",
   "metadata": {},
   "source": []
  },
  {
   "cell_type": "code",
   "execution_count": 1,
   "metadata": {},
   "outputs": [
    {
     "name": "stderr",
     "output_type": "stream",
     "text": [
      "Using TensorFlow backend.\n"
     ]
    }
   ],
   "source": [
    "import keras"
   ]
  },
  {
   "cell_type": "code",
   "execution_count": null,
   "metadata": {
    "collapsed": true
   },
   "outputs": [],
   "source": [
    "#First we would like to have frames extracted from the video file , we will use  "
   ]
  },
  {
   "cell_type": "code",
   "execution_count": 12,
   "metadata": {
    "collapsed": true
   },
   "outputs": [],
   "source": [
    "import numpy as np"
   ]
  },
  {
   "cell_type": "code",
   "execution_count": 7,
   "metadata": {},
   "outputs": [
    {
     "data": {
      "text/plain": [
       "'D:\\\\pytorch_learning\\\\frames'"
      ]
     },
     "execution_count": 7,
     "metadata": {},
     "output_type": "execute_result"
    }
   ],
   "source": [
    "pwd"
   ]
  },
  {
   "cell_type": "code",
   "execution_count": 8,
   "metadata": {},
   "outputs": [
    {
     "name": "stdout",
     "output_type": "stream",
     "text": [
      " Volume in drive D is E:\n",
      " Volume Serial Number is 1A44-AA9C\n",
      "\n",
      " Directory of D:\\pytorch_learning\\frames\n",
      "\n",
      "06/24/2018  12:53 PM    <DIR>          .\n",
      "06/24/2018  12:53 PM    <DIR>          ..\n",
      "06/24/2018  12:53 PM    <DIR>          jogging\n",
      "06/24/2018  12:52 PM    <DIR>          walking\n",
      "               0 File(s)              0 bytes\n",
      "               4 Dir(s)  217,410,707,456 bytes free\n"
     ]
    }
   ],
   "source": [
    "ls"
   ]
  },
  {
   "cell_type": "markdown",
   "metadata": {},
   "source": [
    "### So the basic idea should be, \n",
    "1. for every video i extract 40 frames using FFMPEG,\n",
    "2. resize each frame to size >> (128,128,3)\n",
    "3. pass it through vgg16 or squeeznet (pretrained ) and store them into numpy array.\n",
    "4. input(128,128,3) <squeeznet> output(512)\n",
    "5. and hence we will generate the Final_data_array of size>>X>>(m,40,512) #m is total no. of clips\n",
    "6. now each video clip is an array of size >> (40,512)\n",
    "7. create labels y binary vector >> labels binary_vector will be of size =m\n",
    "8. then we will feed this to  our RNN ."
   ]
  },
  {
   "cell_type": "code",
   "execution_count": null,
   "metadata": {
    "collapsed": true
   },
   "outputs": [],
   "source": [
    "#for every video extract 40 frames using ffmpeg , read all the images , resize them, \n",
    "#pass them through cnn , write them into np array"
   ]
  },
  {
   "cell_type": "code",
   "execution_count": 22,
   "metadata": {},
   "outputs": [
    {
     "name": "stdout",
     "output_type": "stream",
     "text": [
      "D:\\int_data\\Data\n"
     ]
    }
   ],
   "source": [
    "cd int_data/Data/"
   ]
  },
  {
   "cell_type": "code",
   "execution_count": 23,
   "metadata": {},
   "outputs": [
    {
     "data": {
      "text/plain": [
       "'D:\\\\int_data\\\\Data'"
      ]
     },
     "execution_count": 23,
     "metadata": {},
     "output_type": "execute_result"
    }
   ],
   "source": [
    "pwd"
   ]
  },
  {
   "cell_type": "code",
   "execution_count": 25,
   "metadata": {
    "collapsed": true
   },
   "outputs": [],
   "source": [
    "import matplotlib.pyplot as plt"
   ]
  },
  {
   "cell_type": "code",
   "execution_count": 31,
   "metadata": {
    "collapsed": true
   },
   "outputs": [],
   "source": [
    "from keras.layers import Flatten"
   ]
  },
  {
   "cell_type": "code",
   "execution_count": 41,
   "metadata": {
    "collapsed": true
   },
   "outputs": [],
   "source": [
    "from keras_squeezenet import SqueezeNet"
   ]
  },
  {
   "cell_type": "code",
   "execution_count": 42,
   "metadata": {
    "collapsed": true
   },
   "outputs": [],
   "source": [
    "model_sq=SqueezeNet(include_top=False,weights=\"imagenet\",input_shape=(128,128,3))"
   ]
  },
  {
   "cell_type": "code",
   "execution_count": 43,
   "metadata": {},
   "outputs": [
    {
     "name": "stdout",
     "output_type": "stream",
     "text": [
      "__________________________________________________________________________________________________\n",
      "Layer (type)                    Output Shape         Param #     Connected to                     \n",
      "==================================================================================================\n",
      "input_3 (InputLayer)            (None, 128, 128, 3)  0                                            \n",
      "__________________________________________________________________________________________________\n",
      "conv1 (Conv2D)                  (None, 63, 63, 64)   1792        input_3[0][0]                    \n",
      "__________________________________________________________________________________________________\n",
      "relu_conv1 (Activation)         (None, 63, 63, 64)   0           conv1[0][0]                      \n",
      "__________________________________________________________________________________________________\n",
      "pool1 (MaxPooling2D)            (None, 31, 31, 64)   0           relu_conv1[0][0]                 \n",
      "__________________________________________________________________________________________________\n",
      "fire2/squeeze1x1 (Conv2D)       (None, 31, 31, 16)   1040        pool1[0][0]                      \n",
      "__________________________________________________________________________________________________\n",
      "fire2/relu_squeeze1x1 (Activati (None, 31, 31, 16)   0           fire2/squeeze1x1[0][0]           \n",
      "__________________________________________________________________________________________________\n",
      "fire2/expand1x1 (Conv2D)        (None, 31, 31, 64)   1088        fire2/relu_squeeze1x1[0][0]      \n",
      "__________________________________________________________________________________________________\n",
      "fire2/expand3x3 (Conv2D)        (None, 31, 31, 64)   9280        fire2/relu_squeeze1x1[0][0]      \n",
      "__________________________________________________________________________________________________\n",
      "fire2/relu_expand1x1 (Activatio (None, 31, 31, 64)   0           fire2/expand1x1[0][0]            \n",
      "__________________________________________________________________________________________________\n",
      "fire2/relu_expand3x3 (Activatio (None, 31, 31, 64)   0           fire2/expand3x3[0][0]            \n",
      "__________________________________________________________________________________________________\n",
      "fire2/concat (Concatenate)      (None, 31, 31, 128)  0           fire2/relu_expand1x1[0][0]       \n",
      "                                                                 fire2/relu_expand3x3[0][0]       \n",
      "__________________________________________________________________________________________________\n",
      "fire3/squeeze1x1 (Conv2D)       (None, 31, 31, 16)   2064        fire2/concat[0][0]               \n",
      "__________________________________________________________________________________________________\n",
      "fire3/relu_squeeze1x1 (Activati (None, 31, 31, 16)   0           fire3/squeeze1x1[0][0]           \n",
      "__________________________________________________________________________________________________\n",
      "fire3/expand1x1 (Conv2D)        (None, 31, 31, 64)   1088        fire3/relu_squeeze1x1[0][0]      \n",
      "__________________________________________________________________________________________________\n",
      "fire3/expand3x3 (Conv2D)        (None, 31, 31, 64)   9280        fire3/relu_squeeze1x1[0][0]      \n",
      "__________________________________________________________________________________________________\n",
      "fire3/relu_expand1x1 (Activatio (None, 31, 31, 64)   0           fire3/expand1x1[0][0]            \n",
      "__________________________________________________________________________________________________\n",
      "fire3/relu_expand3x3 (Activatio (None, 31, 31, 64)   0           fire3/expand3x3[0][0]            \n",
      "__________________________________________________________________________________________________\n",
      "fire3/concat (Concatenate)      (None, 31, 31, 128)  0           fire3/relu_expand1x1[0][0]       \n",
      "                                                                 fire3/relu_expand3x3[0][0]       \n",
      "__________________________________________________________________________________________________\n",
      "pool3 (MaxPooling2D)            (None, 15, 15, 128)  0           fire3/concat[0][0]               \n",
      "__________________________________________________________________________________________________\n",
      "fire4/squeeze1x1 (Conv2D)       (None, 15, 15, 32)   4128        pool3[0][0]                      \n",
      "__________________________________________________________________________________________________\n",
      "fire4/relu_squeeze1x1 (Activati (None, 15, 15, 32)   0           fire4/squeeze1x1[0][0]           \n",
      "__________________________________________________________________________________________________\n",
      "fire4/expand1x1 (Conv2D)        (None, 15, 15, 128)  4224        fire4/relu_squeeze1x1[0][0]      \n",
      "__________________________________________________________________________________________________\n",
      "fire4/expand3x3 (Conv2D)        (None, 15, 15, 128)  36992       fire4/relu_squeeze1x1[0][0]      \n",
      "__________________________________________________________________________________________________\n",
      "fire4/relu_expand1x1 (Activatio (None, 15, 15, 128)  0           fire4/expand1x1[0][0]            \n",
      "__________________________________________________________________________________________________\n",
      "fire4/relu_expand3x3 (Activatio (None, 15, 15, 128)  0           fire4/expand3x3[0][0]            \n",
      "__________________________________________________________________________________________________\n",
      "fire4/concat (Concatenate)      (None, 15, 15, 256)  0           fire4/relu_expand1x1[0][0]       \n",
      "                                                                 fire4/relu_expand3x3[0][0]       \n",
      "__________________________________________________________________________________________________\n",
      "fire5/squeeze1x1 (Conv2D)       (None, 15, 15, 32)   8224        fire4/concat[0][0]               \n",
      "__________________________________________________________________________________________________\n",
      "fire5/relu_squeeze1x1 (Activati (None, 15, 15, 32)   0           fire5/squeeze1x1[0][0]           \n",
      "__________________________________________________________________________________________________\n",
      "fire5/expand1x1 (Conv2D)        (None, 15, 15, 128)  4224        fire5/relu_squeeze1x1[0][0]      \n",
      "__________________________________________________________________________________________________\n",
      "fire5/expand3x3 (Conv2D)        (None, 15, 15, 128)  36992       fire5/relu_squeeze1x1[0][0]      \n",
      "__________________________________________________________________________________________________\n",
      "fire5/relu_expand1x1 (Activatio (None, 15, 15, 128)  0           fire5/expand1x1[0][0]            \n",
      "__________________________________________________________________________________________________\n",
      "fire5/relu_expand3x3 (Activatio (None, 15, 15, 128)  0           fire5/expand3x3[0][0]            \n",
      "__________________________________________________________________________________________________\n",
      "fire5/concat (Concatenate)      (None, 15, 15, 256)  0           fire5/relu_expand1x1[0][0]       \n",
      "                                                                 fire5/relu_expand3x3[0][0]       \n",
      "__________________________________________________________________________________________________\n",
      "pool5 (MaxPooling2D)            (None, 7, 7, 256)    0           fire5/concat[0][0]               \n",
      "__________________________________________________________________________________________________\n",
      "fire6/squeeze1x1 (Conv2D)       (None, 7, 7, 48)     12336       pool5[0][0]                      \n",
      "__________________________________________________________________________________________________\n",
      "fire6/relu_squeeze1x1 (Activati (None, 7, 7, 48)     0           fire6/squeeze1x1[0][0]           \n",
      "__________________________________________________________________________________________________\n",
      "fire6/expand1x1 (Conv2D)        (None, 7, 7, 192)    9408        fire6/relu_squeeze1x1[0][0]      \n",
      "__________________________________________________________________________________________________\n",
      "fire6/expand3x3 (Conv2D)        (None, 7, 7, 192)    83136       fire6/relu_squeeze1x1[0][0]      \n",
      "__________________________________________________________________________________________________\n",
      "fire6/relu_expand1x1 (Activatio (None, 7, 7, 192)    0           fire6/expand1x1[0][0]            \n",
      "__________________________________________________________________________________________________\n",
      "fire6/relu_expand3x3 (Activatio (None, 7, 7, 192)    0           fire6/expand3x3[0][0]            \n",
      "__________________________________________________________________________________________________\n",
      "fire6/concat (Concatenate)      (None, 7, 7, 384)    0           fire6/relu_expand1x1[0][0]       \n",
      "                                                                 fire6/relu_expand3x3[0][0]       \n",
      "__________________________________________________________________________________________________\n",
      "fire7/squeeze1x1 (Conv2D)       (None, 7, 7, 48)     18480       fire6/concat[0][0]               \n",
      "__________________________________________________________________________________________________\n",
      "fire7/relu_squeeze1x1 (Activati (None, 7, 7, 48)     0           fire7/squeeze1x1[0][0]           \n",
      "__________________________________________________________________________________________________\n",
      "fire7/expand1x1 (Conv2D)        (None, 7, 7, 192)    9408        fire7/relu_squeeze1x1[0][0]      \n",
      "__________________________________________________________________________________________________\n",
      "fire7/expand3x3 (Conv2D)        (None, 7, 7, 192)    83136       fire7/relu_squeeze1x1[0][0]      \n",
      "__________________________________________________________________________________________________\n",
      "fire7/relu_expand1x1 (Activatio (None, 7, 7, 192)    0           fire7/expand1x1[0][0]            \n",
      "__________________________________________________________________________________________________\n",
      "fire7/relu_expand3x3 (Activatio (None, 7, 7, 192)    0           fire7/expand3x3[0][0]            \n",
      "__________________________________________________________________________________________________\n",
      "fire7/concat (Concatenate)      (None, 7, 7, 384)    0           fire7/relu_expand1x1[0][0]       \n",
      "                                                                 fire7/relu_expand3x3[0][0]       \n",
      "__________________________________________________________________________________________________\n",
      "fire8/squeeze1x1 (Conv2D)       (None, 7, 7, 64)     24640       fire7/concat[0][0]               \n",
      "__________________________________________________________________________________________________\n",
      "fire8/relu_squeeze1x1 (Activati (None, 7, 7, 64)     0           fire8/squeeze1x1[0][0]           \n",
      "__________________________________________________________________________________________________\n",
      "fire8/expand1x1 (Conv2D)        (None, 7, 7, 256)    16640       fire8/relu_squeeze1x1[0][0]      \n",
      "__________________________________________________________________________________________________\n",
      "fire8/expand3x3 (Conv2D)        (None, 7, 7, 256)    147712      fire8/relu_squeeze1x1[0][0]      \n",
      "__________________________________________________________________________________________________\n",
      "fire8/relu_expand1x1 (Activatio (None, 7, 7, 256)    0           fire8/expand1x1[0][0]            \n",
      "__________________________________________________________________________________________________\n",
      "fire8/relu_expand3x3 (Activatio (None, 7, 7, 256)    0           fire8/expand3x3[0][0]            \n",
      "__________________________________________________________________________________________________\n",
      "fire8/concat (Concatenate)      (None, 7, 7, 512)    0           fire8/relu_expand1x1[0][0]       \n",
      "                                                                 fire8/relu_expand3x3[0][0]       \n",
      "__________________________________________________________________________________________________\n",
      "fire9/squeeze1x1 (Conv2D)       (None, 7, 7, 64)     32832       fire8/concat[0][0]               \n",
      "__________________________________________________________________________________________________\n",
      "fire9/relu_squeeze1x1 (Activati (None, 7, 7, 64)     0           fire9/squeeze1x1[0][0]           \n",
      "__________________________________________________________________________________________________\n",
      "fire9/expand1x1 (Conv2D)        (None, 7, 7, 256)    16640       fire9/relu_squeeze1x1[0][0]      \n",
      "__________________________________________________________________________________________________\n",
      "fire9/expand3x3 (Conv2D)        (None, 7, 7, 256)    147712      fire9/relu_squeeze1x1[0][0]      \n",
      "__________________________________________________________________________________________________\n",
      "fire9/relu_expand1x1 (Activatio (None, 7, 7, 256)    0           fire9/expand1x1[0][0]            \n",
      "__________________________________________________________________________________________________\n",
      "fire9/relu_expand3x3 (Activatio (None, 7, 7, 256)    0           fire9/expand3x3[0][0]            \n",
      "__________________________________________________________________________________________________\n",
      "fire9/concat (Concatenate)      (None, 7, 7, 512)    0           fire9/relu_expand1x1[0][0]       \n",
      "                                                                 fire9/relu_expand3x3[0][0]       \n",
      "==================================================================================================\n",
      "Total params: 722,496\n",
      "Trainable params: 722,496\n",
      "Non-trainable params: 0\n",
      "__________________________________________________________________________________________________\n"
     ]
    }
   ],
   "source": [
    "model_sq.summary()"
   ]
  },
  {
   "cell_type": "code",
   "execution_count": 44,
   "metadata": {
    "collapsed": true
   },
   "outputs": [],
   "source": [
    "from keras.layers import GlobalMaxPooling2D"
   ]
  },
  {
   "cell_type": "code",
   "execution_count": 45,
   "metadata": {
    "collapsed": true
   },
   "outputs": [],
   "source": [
    "t=GlobalMaxPooling2D()(model_sq.output)"
   ]
  },
  {
   "cell_type": "code",
   "execution_count": 46,
   "metadata": {},
   "outputs": [
    {
     "data": {
      "text/plain": [
       "<tf.Tensor 'global_max_pooling2d_1/Max:0' shape=(?, 512) dtype=float32>"
      ]
     },
     "execution_count": 46,
     "metadata": {},
     "output_type": "execute_result"
    }
   ],
   "source": [
    "t"
   ]
  },
  {
   "cell_type": "code",
   "execution_count": 47,
   "metadata": {
    "collapsed": true
   },
   "outputs": [],
   "source": [
    "model_fin=Model([model_sq.input],t)"
   ]
  },
  {
   "cell_type": "code",
   "execution_count": 48,
   "metadata": {},
   "outputs": [
    {
     "name": "stdout",
     "output_type": "stream",
     "text": [
      "__________________________________________________________________________________________________\n",
      "Layer (type)                    Output Shape         Param #     Connected to                     \n",
      "==================================================================================================\n",
      "input_3 (InputLayer)            (None, 128, 128, 3)  0                                            \n",
      "__________________________________________________________________________________________________\n",
      "conv1 (Conv2D)                  (None, 63, 63, 64)   1792        input_3[0][0]                    \n",
      "__________________________________________________________________________________________________\n",
      "relu_conv1 (Activation)         (None, 63, 63, 64)   0           conv1[0][0]                      \n",
      "__________________________________________________________________________________________________\n",
      "pool1 (MaxPooling2D)            (None, 31, 31, 64)   0           relu_conv1[0][0]                 \n",
      "__________________________________________________________________________________________________\n",
      "fire2/squeeze1x1 (Conv2D)       (None, 31, 31, 16)   1040        pool1[0][0]                      \n",
      "__________________________________________________________________________________________________\n",
      "fire2/relu_squeeze1x1 (Activati (None, 31, 31, 16)   0           fire2/squeeze1x1[0][0]           \n",
      "__________________________________________________________________________________________________\n",
      "fire2/expand1x1 (Conv2D)        (None, 31, 31, 64)   1088        fire2/relu_squeeze1x1[0][0]      \n",
      "__________________________________________________________________________________________________\n",
      "fire2/expand3x3 (Conv2D)        (None, 31, 31, 64)   9280        fire2/relu_squeeze1x1[0][0]      \n",
      "__________________________________________________________________________________________________\n",
      "fire2/relu_expand1x1 (Activatio (None, 31, 31, 64)   0           fire2/expand1x1[0][0]            \n",
      "__________________________________________________________________________________________________\n",
      "fire2/relu_expand3x3 (Activatio (None, 31, 31, 64)   0           fire2/expand3x3[0][0]            \n",
      "__________________________________________________________________________________________________\n",
      "fire2/concat (Concatenate)      (None, 31, 31, 128)  0           fire2/relu_expand1x1[0][0]       \n",
      "                                                                 fire2/relu_expand3x3[0][0]       \n",
      "__________________________________________________________________________________________________\n",
      "fire3/squeeze1x1 (Conv2D)       (None, 31, 31, 16)   2064        fire2/concat[0][0]               \n",
      "__________________________________________________________________________________________________\n",
      "fire3/relu_squeeze1x1 (Activati (None, 31, 31, 16)   0           fire3/squeeze1x1[0][0]           \n",
      "__________________________________________________________________________________________________\n",
      "fire3/expand1x1 (Conv2D)        (None, 31, 31, 64)   1088        fire3/relu_squeeze1x1[0][0]      \n",
      "__________________________________________________________________________________________________\n",
      "fire3/expand3x3 (Conv2D)        (None, 31, 31, 64)   9280        fire3/relu_squeeze1x1[0][0]      \n",
      "__________________________________________________________________________________________________\n",
      "fire3/relu_expand1x1 (Activatio (None, 31, 31, 64)   0           fire3/expand1x1[0][0]            \n",
      "__________________________________________________________________________________________________\n",
      "fire3/relu_expand3x3 (Activatio (None, 31, 31, 64)   0           fire3/expand3x3[0][0]            \n",
      "__________________________________________________________________________________________________\n",
      "fire3/concat (Concatenate)      (None, 31, 31, 128)  0           fire3/relu_expand1x1[0][0]       \n",
      "                                                                 fire3/relu_expand3x3[0][0]       \n",
      "__________________________________________________________________________________________________\n",
      "pool3 (MaxPooling2D)            (None, 15, 15, 128)  0           fire3/concat[0][0]               \n",
      "__________________________________________________________________________________________________\n",
      "fire4/squeeze1x1 (Conv2D)       (None, 15, 15, 32)   4128        pool3[0][0]                      \n",
      "__________________________________________________________________________________________________\n",
      "fire4/relu_squeeze1x1 (Activati (None, 15, 15, 32)   0           fire4/squeeze1x1[0][0]           \n",
      "__________________________________________________________________________________________________\n",
      "fire4/expand1x1 (Conv2D)        (None, 15, 15, 128)  4224        fire4/relu_squeeze1x1[0][0]      \n",
      "__________________________________________________________________________________________________\n",
      "fire4/expand3x3 (Conv2D)        (None, 15, 15, 128)  36992       fire4/relu_squeeze1x1[0][0]      \n",
      "__________________________________________________________________________________________________\n",
      "fire4/relu_expand1x1 (Activatio (None, 15, 15, 128)  0           fire4/expand1x1[0][0]            \n",
      "__________________________________________________________________________________________________\n",
      "fire4/relu_expand3x3 (Activatio (None, 15, 15, 128)  0           fire4/expand3x3[0][0]            \n",
      "__________________________________________________________________________________________________\n",
      "fire4/concat (Concatenate)      (None, 15, 15, 256)  0           fire4/relu_expand1x1[0][0]       \n",
      "                                                                 fire4/relu_expand3x3[0][0]       \n",
      "__________________________________________________________________________________________________\n",
      "fire5/squeeze1x1 (Conv2D)       (None, 15, 15, 32)   8224        fire4/concat[0][0]               \n",
      "__________________________________________________________________________________________________\n",
      "fire5/relu_squeeze1x1 (Activati (None, 15, 15, 32)   0           fire5/squeeze1x1[0][0]           \n",
      "__________________________________________________________________________________________________\n",
      "fire5/expand1x1 (Conv2D)        (None, 15, 15, 128)  4224        fire5/relu_squeeze1x1[0][0]      \n",
      "__________________________________________________________________________________________________\n",
      "fire5/expand3x3 (Conv2D)        (None, 15, 15, 128)  36992       fire5/relu_squeeze1x1[0][0]      \n",
      "__________________________________________________________________________________________________\n",
      "fire5/relu_expand1x1 (Activatio (None, 15, 15, 128)  0           fire5/expand1x1[0][0]            \n",
      "__________________________________________________________________________________________________\n",
      "fire5/relu_expand3x3 (Activatio (None, 15, 15, 128)  0           fire5/expand3x3[0][0]            \n",
      "__________________________________________________________________________________________________\n",
      "fire5/concat (Concatenate)      (None, 15, 15, 256)  0           fire5/relu_expand1x1[0][0]       \n",
      "                                                                 fire5/relu_expand3x3[0][0]       \n",
      "__________________________________________________________________________________________________\n",
      "pool5 (MaxPooling2D)            (None, 7, 7, 256)    0           fire5/concat[0][0]               \n",
      "__________________________________________________________________________________________________\n",
      "fire6/squeeze1x1 (Conv2D)       (None, 7, 7, 48)     12336       pool5[0][0]                      \n",
      "__________________________________________________________________________________________________\n",
      "fire6/relu_squeeze1x1 (Activati (None, 7, 7, 48)     0           fire6/squeeze1x1[0][0]           \n",
      "__________________________________________________________________________________________________\n",
      "fire6/expand1x1 (Conv2D)        (None, 7, 7, 192)    9408        fire6/relu_squeeze1x1[0][0]      \n",
      "__________________________________________________________________________________________________\n",
      "fire6/expand3x3 (Conv2D)        (None, 7, 7, 192)    83136       fire6/relu_squeeze1x1[0][0]      \n",
      "__________________________________________________________________________________________________\n",
      "fire6/relu_expand1x1 (Activatio (None, 7, 7, 192)    0           fire6/expand1x1[0][0]            \n",
      "__________________________________________________________________________________________________\n",
      "fire6/relu_expand3x3 (Activatio (None, 7, 7, 192)    0           fire6/expand3x3[0][0]            \n",
      "__________________________________________________________________________________________________\n",
      "fire6/concat (Concatenate)      (None, 7, 7, 384)    0           fire6/relu_expand1x1[0][0]       \n",
      "                                                                 fire6/relu_expand3x3[0][0]       \n",
      "__________________________________________________________________________________________________\n",
      "fire7/squeeze1x1 (Conv2D)       (None, 7, 7, 48)     18480       fire6/concat[0][0]               \n",
      "__________________________________________________________________________________________________\n",
      "fire7/relu_squeeze1x1 (Activati (None, 7, 7, 48)     0           fire7/squeeze1x1[0][0]           \n",
      "__________________________________________________________________________________________________\n",
      "fire7/expand1x1 (Conv2D)        (None, 7, 7, 192)    9408        fire7/relu_squeeze1x1[0][0]      \n",
      "__________________________________________________________________________________________________\n",
      "fire7/expand3x3 (Conv2D)        (None, 7, 7, 192)    83136       fire7/relu_squeeze1x1[0][0]      \n",
      "__________________________________________________________________________________________________\n",
      "fire7/relu_expand1x1 (Activatio (None, 7, 7, 192)    0           fire7/expand1x1[0][0]            \n",
      "__________________________________________________________________________________________________\n",
      "fire7/relu_expand3x3 (Activatio (None, 7, 7, 192)    0           fire7/expand3x3[0][0]            \n",
      "__________________________________________________________________________________________________\n",
      "fire7/concat (Concatenate)      (None, 7, 7, 384)    0           fire7/relu_expand1x1[0][0]       \n",
      "                                                                 fire7/relu_expand3x3[0][0]       \n",
      "__________________________________________________________________________________________________\n",
      "fire8/squeeze1x1 (Conv2D)       (None, 7, 7, 64)     24640       fire7/concat[0][0]               \n",
      "__________________________________________________________________________________________________\n",
      "fire8/relu_squeeze1x1 (Activati (None, 7, 7, 64)     0           fire8/squeeze1x1[0][0]           \n",
      "__________________________________________________________________________________________________\n",
      "fire8/expand1x1 (Conv2D)        (None, 7, 7, 256)    16640       fire8/relu_squeeze1x1[0][0]      \n",
      "__________________________________________________________________________________________________\n",
      "fire8/expand3x3 (Conv2D)        (None, 7, 7, 256)    147712      fire8/relu_squeeze1x1[0][0]      \n",
      "__________________________________________________________________________________________________\n",
      "fire8/relu_expand1x1 (Activatio (None, 7, 7, 256)    0           fire8/expand1x1[0][0]            \n",
      "__________________________________________________________________________________________________\n",
      "fire8/relu_expand3x3 (Activatio (None, 7, 7, 256)    0           fire8/expand3x3[0][0]            \n",
      "__________________________________________________________________________________________________\n",
      "fire8/concat (Concatenate)      (None, 7, 7, 512)    0           fire8/relu_expand1x1[0][0]       \n",
      "                                                                 fire8/relu_expand3x3[0][0]       \n",
      "__________________________________________________________________________________________________\n",
      "fire9/squeeze1x1 (Conv2D)       (None, 7, 7, 64)     32832       fire8/concat[0][0]               \n",
      "__________________________________________________________________________________________________\n",
      "fire9/relu_squeeze1x1 (Activati (None, 7, 7, 64)     0           fire9/squeeze1x1[0][0]           \n",
      "__________________________________________________________________________________________________\n",
      "fire9/expand1x1 (Conv2D)        (None, 7, 7, 256)    16640       fire9/relu_squeeze1x1[0][0]      \n",
      "__________________________________________________________________________________________________\n",
      "fire9/expand3x3 (Conv2D)        (None, 7, 7, 256)    147712      fire9/relu_squeeze1x1[0][0]      \n",
      "__________________________________________________________________________________________________\n",
      "fire9/relu_expand1x1 (Activatio (None, 7, 7, 256)    0           fire9/expand1x1[0][0]            \n",
      "__________________________________________________________________________________________________\n",
      "fire9/relu_expand3x3 (Activatio (None, 7, 7, 256)    0           fire9/expand3x3[0][0]            \n",
      "__________________________________________________________________________________________________\n",
      "fire9/concat (Concatenate)      (None, 7, 7, 512)    0           fire9/relu_expand1x1[0][0]       \n",
      "                                                                 fire9/relu_expand3x3[0][0]       \n",
      "__________________________________________________________________________________________________\n",
      "global_max_pooling2d_1 (GlobalM (None, 512)          0           fire9/concat[0][0]               \n",
      "==================================================================================================\n",
      "Total params: 722,496\n",
      "Trainable params: 722,496\n",
      "Non-trainable params: 0\n",
      "__________________________________________________________________________________________________\n"
     ]
    }
   ],
   "source": [
    "model_fin.summary()"
   ]
  },
  {
   "cell_type": "code",
   "execution_count": 50,
   "metadata": {
    "collapsed": true
   },
   "outputs": [],
   "source": [
    "import os\n"
   ]
  },
  {
   "cell_type": "markdown",
   "metadata": {},
   "source": [
    "### Preparing RNN-feedable data "
   ]
  },
  {
   "cell_type": "code",
   "execution_count": 51,
   "metadata": {
    "collapsed": true
   },
   "outputs": [],
   "source": [
    "jog_files=os.listdir(\"jogging/\")"
   ]
  },
  {
   "cell_type": "code",
   "execution_count": 90,
   "metadata": {
    "collapsed": true
   },
   "outputs": [],
   "source": [
    "jogging_final_data=np.zeros(shape=(50,40,512))"
   ]
  },
  {
   "cell_type": "code",
   "execution_count": 92,
   "metadata": {},
   "outputs": [
    {
     "name": "stderr",
     "output_type": "stream",
     "text": [
      "ffmpeg version N-91330-ga990184007 Copyright (c) 2000-2018 the FFmpeg developers\n",
      "  built with gcc 7.3.0 (GCC)\n",
      "  configuration: --enable-gpl --enable-version3 --enable-sdl2 --enable-bzlib --enable-fontconfig --enable-gnutls --enable-iconv --enable-libass --enable-libbluray --enable-libfreetype --enable-libmp3lame --enable-libopencore-amrnb --enable-libopencore-amrwb --enable-libopenjpeg --enable-libopus --enable-libshine --enable-libsnappy --enable-libsoxr --enable-libtheora --enable-libtwolame --enable-libvpx --enable-libwavpack --enable-libwebp --enable-libx264 --enable-libx265 --enable-libxml2 --enable-libzimg --enable-lzma --enable-zlib --enable-gmp --enable-libvidstab --enable-libvorbis --enable-libvo-amrwbenc --enable-libmysofa --enable-libspeex --enable-libxvid --enable-libaom --enable-libmfx --enable-amf --enable-ffnvcodec --enable-cuvid --enable-d3d11va --enable-nvenc --enable-nvdec --enable-dxva2 --enable-avisynth\n",
      "  libavutil      56. 18.102 / 56. 18.102\n",
      "  libavcodec     58. 20.103 / 58. 20.103\n",
      "  libavformat    58. 17.100 / 58. 17.100\n",
      "  libavdevice    58.  4.101 / 58.  4.101\n",
      "  libavfilter     7. 25.100 /  7. 25.100\n",
      "  libswscale      5.  2.100 /  5.  2.100\n",
      "  libswresample   3.  2.100 /  3.  2.100\n",
      "  libpostproc    55.  2.100 / 55.  2.100\n",
      "Input #0, avi, from 'jogging/person01_jogging_d1_uncomp.avi':\n",
      "  Duration: 00:00:16.60, start: 0.000000, bitrate: 838 kb/s\n",
      "    Stream #0:0: Video: mpeg4 (DX50 / 0x30355844), yuv420p, 160x120 [SAR 1:1 DAR 4:3], 831 kb/s, 25 fps, 25 tbr, 25 tbn, 30k tbc\n",
      "Stream mapping:\n",
      "  Stream #0:0 -> #0:0 (mpeg4 (native) -> mjpeg (native))\n",
      "Press [q] to stop, [?] for help\n",
      "[swscaler @ 00000275a777b000] deprecated pixel format used, make sure you did set range correctly\n",
      "Output #0, image2, to 'frames/jog%02d.jpg':\n",
      "  Metadata:\n",
      "    encoder         : Lavf58.17.100\n",
      "    Stream #0:0: Video: mjpeg, yuvj420p(pc), 160x120 [SAR 1:1 DAR 4:3], q=2-31, 200 kb/s, 25 fps, 25 tbn, 25 tbc\n",
      "    Metadata:\n",
      "      encoder         : Lavc58.20.103 mjpeg\n",
      "    Side data:\n",
      "      cpb: bitrate max/min/avg: 0/0/200000 buffer size: 0 vbv_delay: -1\n",
      "frame=   40 fps=0.0 q=9.2 Lsize=N/A time=00:00:01.60 bitrate=N/A speed=8.78x    \n",
      "video:80kB audio:0kB subtitle:0kB other streams:0kB global headers:0kB muxing overhead: unknown\n",
      "C:\\Program Files\\Anaconda3\\lib\\site-packages\\ipykernel\\__main__.py:7: DeprecationWarning: `imresize` is deprecated!\n",
      "`imresize` is deprecated in SciPy 1.0.0, and will be removed in 1.2.0.\n",
      "Use ``skimage.transform.resize`` instead.\n"
     ]
    },
    {
     "name": "stdout",
     "output_type": "stream",
     "text": [
      "0th video done\n"
     ]
    },
    {
     "name": "stderr",
     "output_type": "stream",
     "text": [
      "ffmpeg version N-91330-ga990184007 Copyright (c) 2000-2018 the FFmpeg developers\n",
      "  built with gcc 7.3.0 (GCC)\n",
      "  configuration: --enable-gpl --enable-version3 --enable-sdl2 --enable-bzlib --enable-fontconfig --enable-gnutls --enable-iconv --enable-libass --enable-libbluray --enable-libfreetype --enable-libmp3lame --enable-libopencore-amrnb --enable-libopencore-amrwb --enable-libopenjpeg --enable-libopus --enable-libshine --enable-libsnappy --enable-libsoxr --enable-libtheora --enable-libtwolame --enable-libvpx --enable-libwavpack --enable-libwebp --enable-libx264 --enable-libx265 --enable-libxml2 --enable-libzimg --enable-lzma --enable-zlib --enable-gmp --enable-libvidstab --enable-libvorbis --enable-libvo-amrwbenc --enable-libmysofa --enable-libspeex --enable-libxvid --enable-libaom --enable-libmfx --enable-amf --enable-ffnvcodec --enable-cuvid --enable-d3d11va --enable-nvenc --enable-nvdec --enable-dxva2 --enable-avisynth\n",
      "  libavutil      56. 18.102 / 56. 18.102\n",
      "  libavcodec     58. 20.103 / 58. 20.103\n",
      "  libavformat    58. 17.100 / 58. 17.100\n",
      "  libavdevice    58.  4.101 / 58.  4.101\n",
      "  libavfilter     7. 25.100 /  7. 25.100\n",
      "  libswscale      5.  2.100 /  5.  2.100\n",
      "  libswresample   3.  2.100 /  3.  2.100\n",
      "  libpostproc    55.  2.100 / 55.  2.100\n",
      "Input #0, avi, from 'jogging/person01_jogging_d2_uncomp.avi':\n",
      "  Duration: 00:00:17.00, start: 0.000000, bitrate: 712 kb/s\n",
      "    Stream #0:0: Video: mpeg4 (DX50 / 0x30355844), yuv420p, 160x120 [SAR 1:1 DAR 4:3], 704 kb/s, 25 fps, 25 tbr, 25 tbn, 30k tbc\n",
      "Stream mapping:\n",
      "  Stream #0:0 -> #0:0 (mpeg4 (native) -> mjpeg (native))\n",
      "Press [q] to stop, [?] for help\n",
      "[swscaler @ 0000020dfdd1e900] deprecated pixel format used, make sure you did set range correctly\n",
      "Output #0, image2, to 'frames/jog%02d.jpg':\n",
      "  Metadata:\n",
      "    encoder         : Lavf58.17.100\n",
      "    Stream #0:0: Video: mjpeg, yuvj420p(pc), 160x120 [SAR 1:1 DAR 4:3], q=2-31, 200 kb/s, 25 fps, 25 tbn, 25 tbc\n",
      "    Metadata:\n",
      "      encoder         : Lavc58.20.103 mjpeg\n",
      "    Side data:\n",
      "      cpb: bitrate max/min/avg: 0/0/200000 buffer size: 0 vbv_delay: -1\n",
      "frame=   23 fps=0.0 q=7.2 size=N/A time=00:00:00.92 bitrate=N/A speed=1.79x    \n",
      "frame=   40 fps=0.0 q=7.8 Lsize=N/A time=00:00:01.60 bitrate=N/A speed=1.89x    \n",
      "video:78kB audio:0kB subtitle:0kB other streams:0kB global headers:0kB muxing overhead: unknown\n"
     ]
    },
    {
     "name": "stdout",
     "output_type": "stream",
     "text": [
      "1th video done\n"
     ]
    },
    {
     "name": "stderr",
     "output_type": "stream",
     "text": [
      "ffmpeg version N-91330-ga990184007 Copyright (c) 2000-2018 the FFmpeg developers\n",
      "  built with gcc 7.3.0 (GCC)\n",
      "  configuration: --enable-gpl --enable-version3 --enable-sdl2 --enable-bzlib --enable-fontconfig --enable-gnutls --enable-iconv --enable-libass --enable-libbluray --enable-libfreetype --enable-libmp3lame --enable-libopencore-amrnb --enable-libopencore-amrwb --enable-libopenjpeg --enable-libopus --enable-libshine --enable-libsnappy --enable-libsoxr --enable-libtheora --enable-libtwolame --enable-libvpx --enable-libwavpack --enable-libwebp --enable-libx264 --enable-libx265 --enable-libxml2 --enable-libzimg --enable-lzma --enable-zlib --enable-gmp --enable-libvidstab --enable-libvorbis --enable-libvo-amrwbenc --enable-libmysofa --enable-libspeex --enable-libxvid --enable-libaom --enable-libmfx --enable-amf --enable-ffnvcodec --enable-cuvid --enable-d3d11va --enable-nvenc --enable-nvdec --enable-dxva2 --enable-avisynth\n",
      "  libavutil      56. 18.102 / 56. 18.102\n",
      "  libavcodec     58. 20.103 / 58. 20.103\n",
      "  libavformat    58. 17.100 / 58. 17.100\n",
      "  libavdevice    58.  4.101 / 58.  4.101\n",
      "  libavfilter     7. 25.100 /  7. 25.100\n",
      "  libswscale      5.  2.100 /  5.  2.100\n",
      "  libswresample   3.  2.100 /  3.  2.100\n",
      "  libpostproc    55.  2.100 / 55.  2.100\n",
      "Input #0, avi, from 'jogging/person01_jogging_d3_uncomp.avi':\n",
      "  Duration: 00:00:16.20, start: 0.000000, bitrate: 841 kb/s\n",
      "    Stream #0:0: Video: mpeg4 (DX50 / 0x30355844), yuv420p, 160x120 [SAR 1:1 DAR 4:3], 833 kb/s, 25 fps, 25 tbr, 25 tbn, 30k tbc\n",
      "Stream mapping:\n",
      "  Stream #0:0 -> #0:0 (mpeg4 (native) -> mjpeg (native))\n",
      "Press [q] to stop, [?] for help\n",
      "[swscaler @ 00000121a0568540] deprecated pixel format used, make sure you did set range correctly\n",
      "Output #0, image2, to 'frames/jog%02d.jpg':\n",
      "  Metadata:\n",
      "    encoder         : Lavf58.17.100\n",
      "    Stream #0:0: Video: mjpeg, yuvj420p(pc), 160x120 [SAR 1:1 DAR 4:3], q=2-31, 200 kb/s, 25 fps, 25 tbn, 25 tbc\n",
      "    Metadata:\n",
      "      encoder         : Lavc58.20.103 mjpeg\n",
      "    Side data:\n",
      "      cpb: bitrate max/min/avg: 0/0/200000 buffer size: 0 vbv_delay: -1\n",
      "frame=   20 fps=0.0 q=8.1 size=N/A time=00:00:00.80 bitrate=N/A speed=1.45x    \n",
      "frame=   40 fps=0.0 q=8.3 Lsize=N/A time=00:00:01.60 bitrate=N/A speed=1.76x    \n",
      "video:80kB audio:0kB subtitle:0kB other streams:0kB global headers:0kB muxing overhead: unknown\n"
     ]
    },
    {
     "name": "stdout",
     "output_type": "stream",
     "text": [
      "2th video done\n"
     ]
    },
    {
     "name": "stderr",
     "output_type": "stream",
     "text": [
      "ffmpeg version N-91330-ga990184007 Copyright (c) 2000-2018 the FFmpeg developers\n",
      "  built with gcc 7.3.0 (GCC)\n",
      "  configuration: --enable-gpl --enable-version3 --enable-sdl2 --enable-bzlib --enable-fontconfig --enable-gnutls --enable-iconv --enable-libass --enable-libbluray --enable-libfreetype --enable-libmp3lame --enable-libopencore-amrnb --enable-libopencore-amrwb --enable-libopenjpeg --enable-libopus --enable-libshine --enable-libsnappy --enable-libsoxr --enable-libtheora --enable-libtwolame --enable-libvpx --enable-libwavpack --enable-libwebp --enable-libx264 --enable-libx265 --enable-libxml2 --enable-libzimg --enable-lzma --enable-zlib --enable-gmp --enable-libvidstab --enable-libvorbis --enable-libvo-amrwbenc --enable-libmysofa --enable-libspeex --enable-libxvid --enable-libaom --enable-libmfx --enable-amf --enable-ffnvcodec --enable-cuvid --enable-d3d11va --enable-nvenc --enable-nvdec --enable-dxva2 --enable-avisynth\n",
      "  libavutil      56. 18.102 / 56. 18.102\n",
      "  libavcodec     58. 20.103 / 58. 20.103\n",
      "  libavformat    58. 17.100 / 58. 17.100\n",
      "  libavdevice    58.  4.101 / 58.  4.101\n",
      "  libavfilter     7. 25.100 /  7. 25.100\n",
      "  libswscale      5.  2.100 /  5.  2.100\n",
      "  libswresample   3.  2.100 /  3.  2.100\n",
      "  libpostproc    55.  2.100 / 55.  2.100\n",
      "Input #0, avi, from 'jogging/person01_jogging_d4_uncomp.avi':\n",
      "  Duration: 00:00:14.48, start: 0.000000, bitrate: 281 kb/s\n",
      "    Stream #0:0: Video: mpeg4 (DX50 / 0x30355844), yuv420p, 160x120 [SAR 1:1 DAR 4:3], 272 kb/s, 25 fps, 25 tbr, 25 tbn, 30k tbc\n",
      "Stream mapping:\n",
      "  Stream #0:0 -> #0:0 (mpeg4 (native) -> mjpeg (native))\n",
      "Press [q] to stop, [?] for help\n",
      "[swscaler @ 0000017984b40240] deprecated pixel format used, make sure you did set range correctly\n",
      "Output #0, image2, to 'frames/jog%02d.jpg':\n",
      "  Metadata:\n",
      "    encoder         : Lavf58.17.100\n",
      "    Stream #0:0: Video: mjpeg, yuvj420p(pc), 160x120 [SAR 1:1 DAR 4:3], q=2-31, 200 kb/s, 25 fps, 25 tbn, 25 tbc\n",
      "    Metadata:\n",
      "      encoder         : Lavc58.20.103 mjpeg\n",
      "    Side data:\n",
      "      cpb: bitrate max/min/avg: 0/0/200000 buffer size: 0 vbv_delay: -1\n",
      "frame=   18 fps=0.0 q=2.2 size=N/A time=00:00:00.72 bitrate=N/A speed=1.42x    \n",
      "frame=   40 fps=0.0 q=3.8 Lsize=N/A time=00:00:01.60 bitrate=N/A speed=2.35x    \n",
      "video:66kB audio:0kB subtitle:0kB other streams:0kB global headers:0kB muxing overhead: unknown\n"
     ]
    },
    {
     "name": "stdout",
     "output_type": "stream",
     "text": [
      "3th video done\n"
     ]
    },
    {
     "name": "stderr",
     "output_type": "stream",
     "text": [
      "ffmpeg version N-91330-ga990184007 Copyright (c) 2000-2018 the FFmpeg developers\n",
      "  built with gcc 7.3.0 (GCC)\n",
      "  configuration: --enable-gpl --enable-version3 --enable-sdl2 --enable-bzlib --enable-fontconfig --enable-gnutls --enable-iconv --enable-libass --enable-libbluray --enable-libfreetype --enable-libmp3lame --enable-libopencore-amrnb --enable-libopencore-amrwb --enable-libopenjpeg --enable-libopus --enable-libshine --enable-libsnappy --enable-libsoxr --enable-libtheora --enable-libtwolame --enable-libvpx --enable-libwavpack --enable-libwebp --enable-libx264 --enable-libx265 --enable-libxml2 --enable-libzimg --enable-lzma --enable-zlib --enable-gmp --enable-libvidstab --enable-libvorbis --enable-libvo-amrwbenc --enable-libmysofa --enable-libspeex --enable-libxvid --enable-libaom --enable-libmfx --enable-amf --enable-ffnvcodec --enable-cuvid --enable-d3d11va --enable-nvenc --enable-nvdec --enable-dxva2 --enable-avisynth\n",
      "  libavutil      56. 18.102 / 56. 18.102\n",
      "  libavcodec     58. 20.103 / 58. 20.103\n",
      "  libavformat    58. 17.100 / 58. 17.100\n",
      "  libavdevice    58.  4.101 / 58.  4.101\n",
      "  libavfilter     7. 25.100 /  7. 25.100\n",
      "  libswscale      5.  2.100 /  5.  2.100\n",
      "  libswresample   3.  2.100 /  3.  2.100\n",
      "  libpostproc    55.  2.100 / 55.  2.100\n",
      "Input #0, avi, from 'jogging/person02_jogging_d1_uncomp.avi':\n",
      "  Duration: 00:00:13.80, start: 0.000000, bitrate: 939 kb/s\n",
      "    Stream #0:0: Video: mpeg4 (DX50 / 0x30355844), yuv420p, 160x120 [SAR 1:1 DAR 4:3], 931 kb/s, 25 fps, 25 tbr, 25 tbn, 30k tbc\n",
      "Stream mapping:\n",
      "  Stream #0:0 -> #0:0 (mpeg4 (native) -> mjpeg (native))\n",
      "Press [q] to stop, [?] for help\n",
      "[swscaler @ 000002a4bab8a880] deprecated pixel format used, make sure you did set range correctly\n",
      "Output #0, image2, to 'frames/jog%02d.jpg':\n",
      "  Metadata:\n",
      "    encoder         : Lavf58.17.100\n",
      "    Stream #0:0: Video: mjpeg, yuvj420p(pc), 160x120 [SAR 1:1 DAR 4:3], q=2-31, 200 kb/s, 25 fps, 25 tbn, 25 tbc\n",
      "    Metadata:\n",
      "      encoder         : Lavc58.20.103 mjpeg\n",
      "    Side data:\n",
      "      cpb: bitrate max/min/avg: 0/0/200000 buffer size: 0 vbv_delay: -1\n",
      "frame=    5 fps=0.0 q=1.6 size=N/A time=00:00:00.20 bitrate=N/A speed=0.383x    \n",
      "frame=   11 fps=6.2 q=5.6 size=N/A time=00:00:00.44 bitrate=N/A speed=0.248x    \n",
      "frame=   40 fps= 20 q=8.5 Lsize=N/A time=00:00:01.60 bitrate=N/A speed=0.799x    \n",
      "video:80kB audio:0kB subtitle:0kB other streams:0kB global headers:0kB muxing overhead: unknown\n"
     ]
    },
    {
     "name": "stdout",
     "output_type": "stream",
     "text": [
      "4th video done\n"
     ]
    },
    {
     "name": "stderr",
     "output_type": "stream",
     "text": [
      "ffmpeg version N-91330-ga990184007 Copyright (c) 2000-2018 the FFmpeg developers\n",
      "  built with gcc 7.3.0 (GCC)\n",
      "  configuration: --enable-gpl --enable-version3 --enable-sdl2 --enable-bzlib --enable-fontconfig --enable-gnutls --enable-iconv --enable-libass --enable-libbluray --enable-libfreetype --enable-libmp3lame --enable-libopencore-amrnb --enable-libopencore-amrwb --enable-libopenjpeg --enable-libopus --enable-libshine --enable-libsnappy --enable-libsoxr --enable-libtheora --enable-libtwolame --enable-libvpx --enable-libwavpack --enable-libwebp --enable-libx264 --enable-libx265 --enable-libxml2 --enable-libzimg --enable-lzma --enable-zlib --enable-gmp --enable-libvidstab --enable-libvorbis --enable-libvo-amrwbenc --enable-libmysofa --enable-libspeex --enable-libxvid --enable-libaom --enable-libmfx --enable-amf --enable-ffnvcodec --enable-cuvid --enable-d3d11va --enable-nvenc --enable-nvdec --enable-dxva2 --enable-avisynth\n",
      "  libavutil      56. 18.102 / 56. 18.102\n",
      "  libavcodec     58. 20.103 / 58. 20.103\n",
      "  libavformat    58. 17.100 / 58. 17.100\n",
      "  libavdevice    58.  4.101 / 58.  4.101\n",
      "  libavfilter     7. 25.100 /  7. 25.100\n",
      "  libswscale      5.  2.100 /  5.  2.100\n",
      "  libswresample   3.  2.100 /  3.  2.100\n",
      "  libpostproc    55.  2.100 / 55.  2.100\n",
      "Input #0, avi, from 'jogging/person02_jogging_d2_uncomp.avi':\n",
      "  Duration: 00:00:25.04, start: 0.000000, bitrate: 828 kb/s\n",
      "    Stream #0:0: Video: mpeg4 (DX50 / 0x30355844), yuv420p, 160x120 [SAR 1:1 DAR 4:3], 821 kb/s, 25 fps, 25 tbr, 25 tbn, 30k tbc\n",
      "Stream mapping:\n",
      "  Stream #0:0 -> #0:0 (mpeg4 (native) -> mjpeg (native))\n",
      "Press [q] to stop, [?] for help\n",
      "[swscaler @ 000001be58ae9900] deprecated pixel format used, make sure you did set range correctly\n",
      "Output #0, image2, to 'frames/jog%02d.jpg':\n",
      "  Metadata:\n",
      "    encoder         : Lavf58.17.100\n",
      "    Stream #0:0: Video: mjpeg, yuvj420p(pc), 160x120 [SAR 1:1 DAR 4:3], q=2-31, 200 kb/s, 25 fps, 25 tbn, 25 tbc\n",
      "    Metadata:\n",
      "      encoder         : Lavc58.20.103 mjpeg\n",
      "    Side data:\n",
      "      cpb: bitrate max/min/avg: 0/0/200000 buffer size: 0 vbv_delay: -1\n",
      "frame=   27 fps=0.0 q=6.1 size=N/A time=00:00:01.08 bitrate=N/A speed=2.14x    \n",
      "frame=   40 fps=0.0 q=6.6 Lsize=N/A time=00:00:01.60 bitrate=N/A speed=2.01x    \n",
      "video:79kB audio:0kB subtitle:0kB other streams:0kB global headers:0kB muxing overhead: unknown\n"
     ]
    },
    {
     "name": "stdout",
     "output_type": "stream",
     "text": [
      "5th video done\n"
     ]
    },
    {
     "name": "stderr",
     "output_type": "stream",
     "text": [
      "ffmpeg version N-91330-ga990184007 Copyright (c) 2000-2018 the FFmpeg developers\n",
      "  built with gcc 7.3.0 (GCC)\n",
      "  configuration: --enable-gpl --enable-version3 --enable-sdl2 --enable-bzlib --enable-fontconfig --enable-gnutls --enable-iconv --enable-libass --enable-libbluray --enable-libfreetype --enable-libmp3lame --enable-libopencore-amrnb --enable-libopencore-amrwb --enable-libopenjpeg --enable-libopus --enable-libshine --enable-libsnappy --enable-libsoxr --enable-libtheora --enable-libtwolame --enable-libvpx --enable-libwavpack --enable-libwebp --enable-libx264 --enable-libx265 --enable-libxml2 --enable-libzimg --enable-lzma --enable-zlib --enable-gmp --enable-libvidstab --enable-libvorbis --enable-libvo-amrwbenc --enable-libmysofa --enable-libspeex --enable-libxvid --enable-libaom --enable-libmfx --enable-amf --enable-ffnvcodec --enable-cuvid --enable-d3d11va --enable-nvenc --enable-nvdec --enable-dxva2 --enable-avisynth\n",
      "  libavutil      56. 18.102 / 56. 18.102\n",
      "  libavcodec     58. 20.103 / 58. 20.103\n",
      "  libavformat    58. 17.100 / 58. 17.100\n",
      "  libavdevice    58.  4.101 / 58.  4.101\n",
      "  libavfilter     7. 25.100 /  7. 25.100\n",
      "  libswscale      5.  2.100 /  5.  2.100\n",
      "  libswresample   3.  2.100 /  3.  2.100\n",
      "  libpostproc    55.  2.100 / 55.  2.100\n",
      "Input #0, avi, from 'jogging/person02_jogging_d3_uncomp.avi':\n",
      "  Duration: 00:00:14.00, start: 0.000000, bitrate: 807 kb/s\n",
      "    Stream #0:0: Video: mpeg4 (DX50 / 0x30355844), yuv420p, 160x120 [SAR 1:1 DAR 4:3], 799 kb/s, 25 fps, 25 tbr, 25 tbn, 30k tbc\n",
      "Stream mapping:\n",
      "  Stream #0:0 -> #0:0 (mpeg4 (native) -> mjpeg (native))\n",
      "Press [q] to stop, [?] for help\n",
      "[swscaler @ 000001f26a35c7c0] deprecated pixel format used, make sure you did set range correctly\n",
      "Output #0, image2, to 'frames/jog%02d.jpg':\n",
      "  Metadata:\n",
      "    encoder         : Lavf58.17.100\n",
      "    Stream #0:0: Video: mjpeg, yuvj420p(pc), 160x120 [SAR 1:1 DAR 4:3], q=2-31, 200 kb/s, 25 fps, 25 tbn, 25 tbc\n",
      "    Metadata:\n",
      "      encoder         : Lavc58.20.103 mjpeg\n",
      "    Side data:\n",
      "      cpb: bitrate max/min/avg: 0/0/200000 buffer size: 0 vbv_delay: -1\n",
      "frame=   40 fps=0.0 q=7.9 Lsize=N/A time=00:00:01.60 bitrate=N/A speed=3.35x    \n",
      "video:79kB audio:0kB subtitle:0kB other streams:0kB global headers:0kB muxing overhead: unknown\n"
     ]
    },
    {
     "name": "stdout",
     "output_type": "stream",
     "text": [
      "6th video done\n"
     ]
    },
    {
     "name": "stderr",
     "output_type": "stream",
     "text": [
      "ffmpeg version N-91330-ga990184007 Copyright (c) 2000-2018 the FFmpeg developers\n",
      "  built with gcc 7.3.0 (GCC)\n",
      "  configuration: --enable-gpl --enable-version3 --enable-sdl2 --enable-bzlib --enable-fontconfig --enable-gnutls --enable-iconv --enable-libass --enable-libbluray --enable-libfreetype --enable-libmp3lame --enable-libopencore-amrnb --enable-libopencore-amrwb --enable-libopenjpeg --enable-libopus --enable-libshine --enable-libsnappy --enable-libsoxr --enable-libtheora --enable-libtwolame --enable-libvpx --enable-libwavpack --enable-libwebp --enable-libx264 --enable-libx265 --enable-libxml2 --enable-libzimg --enable-lzma --enable-zlib --enable-gmp --enable-libvidstab --enable-libvorbis --enable-libvo-amrwbenc --enable-libmysofa --enable-libspeex --enable-libxvid --enable-libaom --enable-libmfx --enable-amf --enable-ffnvcodec --enable-cuvid --enable-d3d11va --enable-nvenc --enable-nvdec --enable-dxva2 --enable-avisynth\n",
      "  libavutil      56. 18.102 / 56. 18.102\n",
      "  libavcodec     58. 20.103 / 58. 20.103\n",
      "  libavformat    58. 17.100 / 58. 17.100\n",
      "  libavdevice    58.  4.101 / 58.  4.101\n",
      "  libavfilter     7. 25.100 /  7. 25.100\n",
      "  libswscale      5.  2.100 /  5.  2.100\n",
      "  libswresample   3.  2.100 /  3.  2.100\n",
      "  libpostproc    55.  2.100 / 55.  2.100\n",
      "Input #0, avi, from 'jogging/person02_jogging_d4_uncomp.avi':\n",
      "  Duration: 00:00:12.96, start: 0.000000, bitrate: 422 kb/s\n",
      "    Stream #0:0: Video: mpeg4 (DX50 / 0x30355844), yuv420p, 160x120 [SAR 1:1 DAR 4:3], 413 kb/s, 25 fps, 25 tbr, 25 tbn, 30k tbc\n",
      "Stream mapping:\n",
      "  Stream #0:0 -> #0:0 (mpeg4 (native) -> mjpeg (native))\n",
      "Press [q] to stop, [?] for help\n",
      "[swscaler @ 000002a13c990a40] deprecated pixel format used, make sure you did set range correctly\n",
      "Output #0, image2, to 'frames/jog%02d.jpg':\n",
      "  Metadata:\n",
      "    encoder         : Lavf58.17.100\n",
      "    Stream #0:0: Video: mjpeg, yuvj420p(pc), 160x120 [SAR 1:1 DAR 4:3], q=2-31, 200 kb/s, 25 fps, 25 tbn, 25 tbc\n",
      "    Metadata:\n",
      "      encoder         : Lavc58.20.103 mjpeg\n",
      "    Side data:\n",
      "      cpb: bitrate max/min/avg: 0/0/200000 buffer size: 0 vbv_delay: -1\n",
      "frame=   40 fps=0.0 q=4.8 Lsize=N/A time=00:00:01.60 bitrate=N/A speed=5.45x    \n",
      "video:70kB audio:0kB subtitle:0kB other streams:0kB global headers:0kB muxing overhead: unknown\n"
     ]
    },
    {
     "name": "stdout",
     "output_type": "stream",
     "text": [
      "7th video done\n"
     ]
    },
    {
     "name": "stderr",
     "output_type": "stream",
     "text": [
      "ffmpeg version N-91330-ga990184007 Copyright (c) 2000-2018 the FFmpeg developers\n",
      "  built with gcc 7.3.0 (GCC)\n",
      "  configuration: --enable-gpl --enable-version3 --enable-sdl2 --enable-bzlib --enable-fontconfig --enable-gnutls --enable-iconv --enable-libass --enable-libbluray --enable-libfreetype --enable-libmp3lame --enable-libopencore-amrnb --enable-libopencore-amrwb --enable-libopenjpeg --enable-libopus --enable-libshine --enable-libsnappy --enable-libsoxr --enable-libtheora --enable-libtwolame --enable-libvpx --enable-libwavpack --enable-libwebp --enable-libx264 --enable-libx265 --enable-libxml2 --enable-libzimg --enable-lzma --enable-zlib --enable-gmp --enable-libvidstab --enable-libvorbis --enable-libvo-amrwbenc --enable-libmysofa --enable-libspeex --enable-libxvid --enable-libaom --enable-libmfx --enable-amf --enable-ffnvcodec --enable-cuvid --enable-d3d11va --enable-nvenc --enable-nvdec --enable-dxva2 --enable-avisynth\n",
      "  libavutil      56. 18.102 / 56. 18.102\n",
      "  libavcodec     58. 20.103 / 58. 20.103\n",
      "  libavformat    58. 17.100 / 58. 17.100\n",
      "  libavdevice    58.  4.101 / 58.  4.101\n",
      "  libavfilter     7. 25.100 /  7. 25.100\n",
      "  libswscale      5.  2.100 /  5.  2.100\n",
      "  libswresample   3.  2.100 /  3.  2.100\n",
      "  libpostproc    55.  2.100 / 55.  2.100\n",
      "Input #0, avi, from 'jogging/person03_jogging_d1_uncomp.avi':\n",
      "  Duration: 00:00:19.68, start: 0.000000, bitrate: 827 kb/s\n",
      "    Stream #0:0: Video: mpeg4 (DX50 / 0x30355844), yuv420p, 160x120 [SAR 1:1 DAR 4:3], 820 kb/s, 25 fps, 25 tbr, 25 tbn, 30k tbc\n",
      "Stream mapping:\n",
      "  Stream #0:0 -> #0:0 (mpeg4 (native) -> mjpeg (native))\n",
      "Press [q] to stop, [?] for help\n",
      "[swscaler @ 000002174ee1a2c0] deprecated pixel format used, make sure you did set range correctly\n",
      "Output #0, image2, to 'frames/jog%02d.jpg':\n",
      "  Metadata:\n",
      "    encoder         : Lavf58.17.100\n",
      "    Stream #0:0: Video: mjpeg, yuvj420p(pc), 160x120 [SAR 1:1 DAR 4:3], q=2-31, 200 kb/s, 25 fps, 25 tbn, 25 tbc\n",
      "    Metadata:\n",
      "      encoder         : Lavc58.20.103 mjpeg\n",
      "    Side data:\n",
      "      cpb: bitrate max/min/avg: 0/0/200000 buffer size: 0 vbv_delay: -1\n",
      "frame=   40 fps=0.0 q=7.6 Lsize=N/A time=00:00:01.60 bitrate=N/A speed=3.95x    \n",
      "video:78kB audio:0kB subtitle:0kB other streams:0kB global headers:0kB muxing overhead: unknown\n"
     ]
    },
    {
     "name": "stdout",
     "output_type": "stream",
     "text": [
      "8th video done\n"
     ]
    },
    {
     "name": "stderr",
     "output_type": "stream",
     "text": [
      "ffmpeg version N-91330-ga990184007 Copyright (c) 2000-2018 the FFmpeg developers\n",
      "  built with gcc 7.3.0 (GCC)\n",
      "  configuration: --enable-gpl --enable-version3 --enable-sdl2 --enable-bzlib --enable-fontconfig --enable-gnutls --enable-iconv --enable-libass --enable-libbluray --enable-libfreetype --enable-libmp3lame --enable-libopencore-amrnb --enable-libopencore-amrwb --enable-libopenjpeg --enable-libopus --enable-libshine --enable-libsnappy --enable-libsoxr --enable-libtheora --enable-libtwolame --enable-libvpx --enable-libwavpack --enable-libwebp --enable-libx264 --enable-libx265 --enable-libxml2 --enable-libzimg --enable-lzma --enable-zlib --enable-gmp --enable-libvidstab --enable-libvorbis --enable-libvo-amrwbenc --enable-libmysofa --enable-libspeex --enable-libxvid --enable-libaom --enable-libmfx --enable-amf --enable-ffnvcodec --enable-cuvid --enable-d3d11va --enable-nvenc --enable-nvdec --enable-dxva2 --enable-avisynth\n",
      "  libavutil      56. 18.102 / 56. 18.102\n",
      "  libavcodec     58. 20.103 / 58. 20.103\n",
      "  libavformat    58. 17.100 / 58. 17.100\n",
      "  libavdevice    58.  4.101 / 58.  4.101\n",
      "  libavfilter     7. 25.100 /  7. 25.100\n",
      "  libswscale      5.  2.100 /  5.  2.100\n",
      "  libswresample   3.  2.100 /  3.  2.100\n",
      "  libpostproc    55.  2.100 / 55.  2.100\n",
      "Input #0, avi, from 'jogging/person03_jogging_d2_uncomp.avi':\n",
      "  Duration: 00:00:24.80, start: 0.000000, bitrate: 836 kb/s\n",
      "    Stream #0:0: Video: mpeg4 (DX50 / 0x30355844), yuv420p, 160x120 [SAR 1:1 DAR 4:3], 830 kb/s, 25 fps, 25 tbr, 25 tbn, 30k tbc\n",
      "Stream mapping:\n",
      "  Stream #0:0 -> #0:0 (mpeg4 (native) -> mjpeg (native))\n",
      "Press [q] to stop, [?] for help\n",
      "[swscaler @ 000001479275e2c0] deprecated pixel format used, make sure you did set range correctly\n",
      "Output #0, image2, to 'frames/jog%02d.jpg':\n",
      "  Metadata:\n",
      "    encoder         : Lavf58.17.100\n",
      "    Stream #0:0: Video: mjpeg, yuvj420p(pc), 160x120 [SAR 1:1 DAR 4:3], q=2-31, 200 kb/s, 25 fps, 25 tbn, 25 tbc\n",
      "    Metadata:\n",
      "      encoder         : Lavc58.20.103 mjpeg\n",
      "    Side data:\n",
      "      cpb: bitrate max/min/avg: 0/0/200000 buffer size: 0 vbv_delay: -1\n",
      "frame=   40 fps=0.0 q=6.5 Lsize=N/A time=00:00:01.60 bitrate=N/A speed=4.43x    \n",
      "video:78kB audio:0kB subtitle:0kB other streams:0kB global headers:0kB muxing overhead: unknown\n"
     ]
    },
    {
     "name": "stdout",
     "output_type": "stream",
     "text": [
      "9th video done\n"
     ]
    },
    {
     "name": "stderr",
     "output_type": "stream",
     "text": [
      "ffmpeg version N-91330-ga990184007 Copyright (c) 2000-2018 the FFmpeg developers\n",
      "  built with gcc 7.3.0 (GCC)\n",
      "  configuration: --enable-gpl --enable-version3 --enable-sdl2 --enable-bzlib --enable-fontconfig --enable-gnutls --enable-iconv --enable-libass --enable-libbluray --enable-libfreetype --enable-libmp3lame --enable-libopencore-amrnb --enable-libopencore-amrwb --enable-libopenjpeg --enable-libopus --enable-libshine --enable-libsnappy --enable-libsoxr --enable-libtheora --enable-libtwolame --enable-libvpx --enable-libwavpack --enable-libwebp --enable-libx264 --enable-libx265 --enable-libxml2 --enable-libzimg --enable-lzma --enable-zlib --enable-gmp --enable-libvidstab --enable-libvorbis --enable-libvo-amrwbenc --enable-libmysofa --enable-libspeex --enable-libxvid --enable-libaom --enable-libmfx --enable-amf --enable-ffnvcodec --enable-cuvid --enable-d3d11va --enable-nvenc --enable-nvdec --enable-dxva2 --enable-avisynth\n",
      "  libavutil      56. 18.102 / 56. 18.102\n",
      "  libavcodec     58. 20.103 / 58. 20.103\n",
      "  libavformat    58. 17.100 / 58. 17.100\n",
      "  libavdevice    58.  4.101 / 58.  4.101\n",
      "  libavfilter     7. 25.100 /  7. 25.100\n",
      "  libswscale      5.  2.100 /  5.  2.100\n",
      "  libswresample   3.  2.100 /  3.  2.100\n",
      "  libpostproc    55.  2.100 / 55.  2.100\n",
      "Input #0, avi, from 'jogging/person03_jogging_d3_uncomp.avi':\n",
      "  Duration: 00:00:15.20, start: 0.000000, bitrate: 854 kb/s\n",
      "    Stream #0:0: Video: mpeg4 (DX50 / 0x30355844), yuv420p, 160x120 [SAR 1:1 DAR 4:3], 846 kb/s, 25 fps, 25 tbr, 25 tbn, 30k tbc\n",
      "Stream mapping:\n",
      "  Stream #0:0 -> #0:0 (mpeg4 (native) -> mjpeg (native))\n",
      "Press [q] to stop, [?] for help\n",
      "[swscaler @ 000001c147950ec0] deprecated pixel format used, make sure you did set range correctly\n",
      "Output #0, image2, to 'frames/jog%02d.jpg':\n",
      "  Metadata:\n",
      "    encoder         : Lavf58.17.100\n",
      "    Stream #0:0: Video: mjpeg, yuvj420p(pc), 160x120 [SAR 1:1 DAR 4:3], q=2-31, 200 kb/s, 25 fps, 25 tbn, 25 tbc\n",
      "    Metadata:\n",
      "      encoder         : Lavc58.20.103 mjpeg\n",
      "    Side data:\n",
      "      cpb: bitrate max/min/avg: 0/0/200000 buffer size: 0 vbv_delay: -1\n",
      "frame=   40 fps=0.0 q=6.9 Lsize=N/A time=00:00:01.60 bitrate=N/A speed=5.44x    \n",
      "video:77kB audio:0kB subtitle:0kB other streams:0kB global headers:0kB muxing overhead: unknown\n"
     ]
    },
    {
     "name": "stdout",
     "output_type": "stream",
     "text": [
      "10th video done\n"
     ]
    },
    {
     "name": "stderr",
     "output_type": "stream",
     "text": [
      "ffmpeg version N-91330-ga990184007 Copyright (c) 2000-2018 the FFmpeg developers\n",
      "  built with gcc 7.3.0 (GCC)\n",
      "  configuration: --enable-gpl --enable-version3 --enable-sdl2 --enable-bzlib --enable-fontconfig --enable-gnutls --enable-iconv --enable-libass --enable-libbluray --enable-libfreetype --enable-libmp3lame --enable-libopencore-amrnb --enable-libopencore-amrwb --enable-libopenjpeg --enable-libopus --enable-libshine --enable-libsnappy --enable-libsoxr --enable-libtheora --enable-libtwolame --enable-libvpx --enable-libwavpack --enable-libwebp --enable-libx264 --enable-libx265 --enable-libxml2 --enable-libzimg --enable-lzma --enable-zlib --enable-gmp --enable-libvidstab --enable-libvorbis --enable-libvo-amrwbenc --enable-libmysofa --enable-libspeex --enable-libxvid --enable-libaom --enable-libmfx --enable-amf --enable-ffnvcodec --enable-cuvid --enable-d3d11va --enable-nvenc --enable-nvdec --enable-dxva2 --enable-avisynth\n",
      "  libavutil      56. 18.102 / 56. 18.102\n",
      "  libavcodec     58. 20.103 / 58. 20.103\n",
      "  libavformat    58. 17.100 / 58. 17.100\n",
      "  libavdevice    58.  4.101 / 58.  4.101\n",
      "  libavfilter     7. 25.100 /  7. 25.100\n",
      "  libswscale      5.  2.100 /  5.  2.100\n",
      "  libswresample   3.  2.100 /  3.  2.100\n",
      "  libpostproc    55.  2.100 / 55.  2.100\n",
      "Input #0, avi, from 'jogging/person03_jogging_d4_uncomp.avi':\n",
      "  Duration: 00:00:14.40, start: 0.000000, bitrate: 367 kb/s\n",
      "    Stream #0:0: Video: mpeg4 (DX50 / 0x30355844), yuv420p, 160x120 [SAR 1:1 DAR 4:3], 358 kb/s, 25 fps, 25 tbr, 25 tbn, 30k tbc\n",
      "Stream mapping:\n",
      "  Stream #0:0 -> #0:0 (mpeg4 (native) -> mjpeg (native))\n",
      "Press [q] to stop, [?] for help\n",
      "[swscaler @ 000001de31701080] deprecated pixel format used, make sure you did set range correctly\n",
      "Output #0, image2, to 'frames/jog%02d.jpg':\n",
      "  Metadata:\n",
      "    encoder         : Lavf58.17.100\n",
      "    Stream #0:0: Video: mjpeg, yuvj420p(pc), 160x120 [SAR 1:1 DAR 4:3], q=2-31, 200 kb/s, 25 fps, 25 tbn, 25 tbc\n",
      "    Metadata:\n",
      "      encoder         : Lavc58.20.103 mjpeg\n",
      "    Side data:\n",
      "      cpb: bitrate max/min/avg: 0/0/200000 buffer size: 0 vbv_delay: -1\n",
      "frame=   40 fps=0.0 q=4.5 Lsize=N/A time=00:00:01.60 bitrate=N/A speed=3.91x    \n",
      "video:71kB audio:0kB subtitle:0kB other streams:0kB global headers:0kB muxing overhead: unknown\n"
     ]
    },
    {
     "name": "stdout",
     "output_type": "stream",
     "text": [
      "11th video done\n"
     ]
    },
    {
     "name": "stderr",
     "output_type": "stream",
     "text": [
      "ffmpeg version N-91330-ga990184007 Copyright (c) 2000-2018 the FFmpeg developers\n",
      "  built with gcc 7.3.0 (GCC)\n",
      "  configuration: --enable-gpl --enable-version3 --enable-sdl2 --enable-bzlib --enable-fontconfig --enable-gnutls --enable-iconv --enable-libass --enable-libbluray --enable-libfreetype --enable-libmp3lame --enable-libopencore-amrnb --enable-libopencore-amrwb --enable-libopenjpeg --enable-libopus --enable-libshine --enable-libsnappy --enable-libsoxr --enable-libtheora --enable-libtwolame --enable-libvpx --enable-libwavpack --enable-libwebp --enable-libx264 --enable-libx265 --enable-libxml2 --enable-libzimg --enable-lzma --enable-zlib --enable-gmp --enable-libvidstab --enable-libvorbis --enable-libvo-amrwbenc --enable-libmysofa --enable-libspeex --enable-libxvid --enable-libaom --enable-libmfx --enable-amf --enable-ffnvcodec --enable-cuvid --enable-d3d11va --enable-nvenc --enable-nvdec --enable-dxva2 --enable-avisynth\n",
      "  libavutil      56. 18.102 / 56. 18.102\n",
      "  libavcodec     58. 20.103 / 58. 20.103\n",
      "  libavformat    58. 17.100 / 58. 17.100\n",
      "  libavdevice    58.  4.101 / 58.  4.101\n",
      "  libavfilter     7. 25.100 /  7. 25.100\n",
      "  libswscale      5.  2.100 /  5.  2.100\n",
      "  libswresample   3.  2.100 /  3.  2.100\n",
      "  libpostproc    55.  2.100 / 55.  2.100\n",
      "Input #0, avi, from 'jogging/person04_jogging_d2_uncomp.avi':\n",
      "  Duration: 00:00:20.40, start: 0.000000, bitrate: 1071 kb/s\n",
      "    Stream #0:0: Video: mpeg4 (DX50 / 0x30355844), yuv420p, 160x120 [SAR 1:1 DAR 4:3], 1064 kb/s, 25 fps, 25 tbr, 25 tbn, 30k tbc\n",
      "Stream mapping:\n",
      "  Stream #0:0 -> #0:0 (mpeg4 (native) -> mjpeg (native))\n",
      "Press [q] to stop, [?] for help\n",
      "[swscaler @ 000001d61428a700] deprecated pixel format used, make sure you did set range correctly\n",
      "Output #0, image2, to 'frames/jog%02d.jpg':\n",
      "  Metadata:\n",
      "    encoder         : Lavf58.17.100\n",
      "    Stream #0:0: Video: mjpeg, yuvj420p(pc), 160x120 [SAR 1:1 DAR 4:3], q=2-31, 200 kb/s, 25 fps, 25 tbn, 25 tbc\n",
      "    Metadata:\n",
      "      encoder         : Lavc58.20.103 mjpeg\n",
      "    Side data:\n",
      "      cpb: bitrate max/min/avg: 0/0/200000 buffer size: 0 vbv_delay: -1\n",
      "frame=   40 fps=0.0 q=13.5 Lsize=N/A time=00:00:01.60 bitrate=N/A speed=3.37x    \n",
      "video:92kB audio:0kB subtitle:0kB other streams:0kB global headers:0kB muxing overhead: unknown\n"
     ]
    },
    {
     "name": "stdout",
     "output_type": "stream",
     "text": [
      "12th video done\n"
     ]
    },
    {
     "name": "stderr",
     "output_type": "stream",
     "text": [
      "ffmpeg version N-91330-ga990184007 Copyright (c) 2000-2018 the FFmpeg developers\n",
      "  built with gcc 7.3.0 (GCC)\n",
      "  configuration: --enable-gpl --enable-version3 --enable-sdl2 --enable-bzlib --enable-fontconfig --enable-gnutls --enable-iconv --enable-libass --enable-libbluray --enable-libfreetype --enable-libmp3lame --enable-libopencore-amrnb --enable-libopencore-amrwb --enable-libopenjpeg --enable-libopus --enable-libshine --enable-libsnappy --enable-libsoxr --enable-libtheora --enable-libtwolame --enable-libvpx --enable-libwavpack --enable-libwebp --enable-libx264 --enable-libx265 --enable-libxml2 --enable-libzimg --enable-lzma --enable-zlib --enable-gmp --enable-libvidstab --enable-libvorbis --enable-libvo-amrwbenc --enable-libmysofa --enable-libspeex --enable-libxvid --enable-libaom --enable-libmfx --enable-amf --enable-ffnvcodec --enable-cuvid --enable-d3d11va --enable-nvenc --enable-nvdec --enable-dxva2 --enable-avisynth\n",
      "  libavutil      56. 18.102 / 56. 18.102\n",
      "  libavcodec     58. 20.103 / 58. 20.103\n",
      "  libavformat    58. 17.100 / 58. 17.100\n",
      "  libavdevice    58.  4.101 / 58.  4.101\n",
      "  libavfilter     7. 25.100 /  7. 25.100\n",
      "  libswscale      5.  2.100 /  5.  2.100\n",
      "  libswresample   3.  2.100 /  3.  2.100\n",
      "  libpostproc    55.  2.100 / 55.  2.100\n",
      "Input #0, avi, from 'jogging/person04_jogging_d3_uncomp.avi':\n",
      "  Duration: 00:00:13.00, start: 0.000000, bitrate: 1281 kb/s\n",
      "    Stream #0:0: Video: mpeg4 (DX50 / 0x30355844), yuv420p, 160x120 [SAR 1:1 DAR 4:3], 1275 kb/s, 25 fps, 25 tbr, 25 tbn, 30k tbc\n",
      "Stream mapping:\n",
      "  Stream #0:0 -> #0:0 (mpeg4 (native) -> mjpeg (native))\n",
      "Press [q] to stop, [?] for help\n",
      "[swscaler @ 00000168500f1480] deprecated pixel format used, make sure you did set range correctly\n",
      "Output #0, image2, to 'frames/jog%02d.jpg':\n",
      "  Metadata:\n",
      "    encoder         : Lavf58.17.100\n",
      "    Stream #0:0: Video: mjpeg, yuvj420p(pc), 160x120 [SAR 1:1 DAR 4:3], q=2-31, 200 kb/s, 25 fps, 25 tbn, 25 tbc\n",
      "    Metadata:\n",
      "      encoder         : Lavc58.20.103 mjpeg\n",
      "    Side data:\n",
      "      cpb: bitrate max/min/avg: 0/0/200000 buffer size: 0 vbv_delay: -1\n",
      "frame=   40 fps=0.0 q=14.1 Lsize=N/A time=00:00:01.60 bitrate=N/A speed=3.51x    \n",
      "video:92kB audio:0kB subtitle:0kB other streams:0kB global headers:0kB muxing overhead: unknown\n"
     ]
    },
    {
     "name": "stdout",
     "output_type": "stream",
     "text": [
      "13th video done\n"
     ]
    },
    {
     "name": "stderr",
     "output_type": "stream",
     "text": [
      "ffmpeg version N-91330-ga990184007 Copyright (c) 2000-2018 the FFmpeg developers\n",
      "  built with gcc 7.3.0 (GCC)\n",
      "  configuration: --enable-gpl --enable-version3 --enable-sdl2 --enable-bzlib --enable-fontconfig --enable-gnutls --enable-iconv --enable-libass --enable-libbluray --enable-libfreetype --enable-libmp3lame --enable-libopencore-amrnb --enable-libopencore-amrwb --enable-libopenjpeg --enable-libopus --enable-libshine --enable-libsnappy --enable-libsoxr --enable-libtheora --enable-libtwolame --enable-libvpx --enable-libwavpack --enable-libwebp --enable-libx264 --enable-libx265 --enable-libxml2 --enable-libzimg --enable-lzma --enable-zlib --enable-gmp --enable-libvidstab --enable-libvorbis --enable-libvo-amrwbenc --enable-libmysofa --enable-libspeex --enable-libxvid --enable-libaom --enable-libmfx --enable-amf --enable-ffnvcodec --enable-cuvid --enable-d3d11va --enable-nvenc --enable-nvdec --enable-dxva2 --enable-avisynth\n",
      "  libavutil      56. 18.102 / 56. 18.102\n",
      "  libavcodec     58. 20.103 / 58. 20.103\n",
      "  libavformat    58. 17.100 / 58. 17.100\n",
      "  libavdevice    58.  4.101 / 58.  4.101\n",
      "  libavfilter     7. 25.100 /  7. 25.100\n",
      "  libswscale      5.  2.100 /  5.  2.100\n",
      "  libswresample   3.  2.100 /  3.  2.100\n",
      "  libpostproc    55.  2.100 / 55.  2.100\n",
      "Input #0, avi, from 'jogging/person04_jogging_d4_uncomp.avi':\n",
      "  Duration: 00:00:12.08, start: 0.000000, bitrate: 352 kb/s\n",
      "    Stream #0:0: Video: mpeg4 (DX50 / 0x30355844), yuv420p, 160x120 [SAR 1:1 DAR 4:3], 342 kb/s, 25 fps, 25 tbr, 25 tbn, 30k tbc\n",
      "Stream mapping:\n",
      "  Stream #0:0 -> #0:0 (mpeg4 (native) -> mjpeg (native))\n",
      "Press [q] to stop, [?] for help\n",
      "[swscaler @ 0000023b31b60180] deprecated pixel format used, make sure you did set range correctly\n",
      "Output #0, image2, to 'frames/jog%02d.jpg':\n",
      "  Metadata:\n",
      "    encoder         : Lavf58.17.100\n",
      "    Stream #0:0: Video: mjpeg, yuvj420p(pc), 160x120 [SAR 1:1 DAR 4:3], q=2-31, 200 kb/s, 25 fps, 25 tbn, 25 tbc\n",
      "    Metadata:\n",
      "      encoder         : Lavc58.20.103 mjpeg\n",
      "    Side data:\n",
      "      cpb: bitrate max/min/avg: 0/0/200000 buffer size: 0 vbv_delay: -1\n",
      "frame=   40 fps=0.0 q=3.9 Lsize=N/A time=00:00:01.60 bitrate=N/A speed=3.18x    \n",
      "video:66kB audio:0kB subtitle:0kB other streams:0kB global headers:0kB muxing overhead: unknown\n"
     ]
    },
    {
     "name": "stdout",
     "output_type": "stream",
     "text": [
      "14th video done\n"
     ]
    },
    {
     "name": "stderr",
     "output_type": "stream",
     "text": [
      "ffmpeg version N-91330-ga990184007 Copyright (c) 2000-2018 the FFmpeg developers\n",
      "  built with gcc 7.3.0 (GCC)\n",
      "  configuration: --enable-gpl --enable-version3 --enable-sdl2 --enable-bzlib --enable-fontconfig --enable-gnutls --enable-iconv --enable-libass --enable-libbluray --enable-libfreetype --enable-libmp3lame --enable-libopencore-amrnb --enable-libopencore-amrwb --enable-libopenjpeg --enable-libopus --enable-libshine --enable-libsnappy --enable-libsoxr --enable-libtheora --enable-libtwolame --enable-libvpx --enable-libwavpack --enable-libwebp --enable-libx264 --enable-libx265 --enable-libxml2 --enable-libzimg --enable-lzma --enable-zlib --enable-gmp --enable-libvidstab --enable-libvorbis --enable-libvo-amrwbenc --enable-libmysofa --enable-libspeex --enable-libxvid --enable-libaom --enable-libmfx --enable-amf --enable-ffnvcodec --enable-cuvid --enable-d3d11va --enable-nvenc --enable-nvdec --enable-dxva2 --enable-avisynth\n",
      "  libavutil      56. 18.102 / 56. 18.102\n",
      "  libavcodec     58. 20.103 / 58. 20.103\n",
      "  libavformat    58. 17.100 / 58. 17.100\n",
      "  libavdevice    58.  4.101 / 58.  4.101\n",
      "  libavfilter     7. 25.100 /  7. 25.100\n",
      "  libswscale      5.  2.100 /  5.  2.100\n",
      "  libswresample   3.  2.100 /  3.  2.100\n",
      "  libpostproc    55.  2.100 / 55.  2.100\n",
      "Input #0, avi, from 'jogging/person05_jogging_d1_uncomp.avi':\n",
      "  Duration: 00:00:15.12, start: 0.000000, bitrate: 1216 kb/s\n",
      "    Stream #0:0: Video: mpeg4 (DX50 / 0x30355844), yuv420p, 160x120 [SAR 1:1 DAR 4:3], 1210 kb/s, 25 fps, 25 tbr, 25 tbn, 30k tbc\n",
      "Stream mapping:\n",
      "  Stream #0:0 -> #0:0 (mpeg4 (native) -> mjpeg (native))\n",
      "Press [q] to stop, [?] for help\n",
      "[swscaler @ 000001b79b819400] deprecated pixel format used, make sure you did set range correctly\n",
      "Output #0, image2, to 'frames/jog%02d.jpg':\n",
      "  Metadata:\n",
      "    encoder         : Lavf58.17.100\n",
      "    Stream #0:0: Video: mjpeg, yuvj420p(pc), 160x120 [SAR 1:1 DAR 4:3], q=2-31, 200 kb/s, 25 fps, 25 tbn, 25 tbc\n",
      "    Metadata:\n",
      "      encoder         : Lavc58.20.103 mjpeg\n",
      "    Side data:\n",
      "      cpb: bitrate max/min/avg: 0/0/200000 buffer size: 0 vbv_delay: -1\n",
      "frame=   40 fps=0.0 q=12.6 Lsize=N/A time=00:00:01.60 bitrate=N/A speed=4.73x    \n",
      "video:91kB audio:0kB subtitle:0kB other streams:0kB global headers:0kB muxing overhead: unknown\n"
     ]
    },
    {
     "name": "stdout",
     "output_type": "stream",
     "text": [
      "15th video done\n"
     ]
    },
    {
     "name": "stderr",
     "output_type": "stream",
     "text": [
      "ffmpeg version N-91330-ga990184007 Copyright (c) 2000-2018 the FFmpeg developers\n",
      "  built with gcc 7.3.0 (GCC)\n",
      "  configuration: --enable-gpl --enable-version3 --enable-sdl2 --enable-bzlib --enable-fontconfig --enable-gnutls --enable-iconv --enable-libass --enable-libbluray --enable-libfreetype --enable-libmp3lame --enable-libopencore-amrnb --enable-libopencore-amrwb --enable-libopenjpeg --enable-libopus --enable-libshine --enable-libsnappy --enable-libsoxr --enable-libtheora --enable-libtwolame --enable-libvpx --enable-libwavpack --enable-libwebp --enable-libx264 --enable-libx265 --enable-libxml2 --enable-libzimg --enable-lzma --enable-zlib --enable-gmp --enable-libvidstab --enable-libvorbis --enable-libvo-amrwbenc --enable-libmysofa --enable-libspeex --enable-libxvid --enable-libaom --enable-libmfx --enable-amf --enable-ffnvcodec --enable-cuvid --enable-d3d11va --enable-nvenc --enable-nvdec --enable-dxva2 --enable-avisynth\n",
      "  libavutil      56. 18.102 / 56. 18.102\n",
      "  libavcodec     58. 20.103 / 58. 20.103\n",
      "  libavformat    58. 17.100 / 58. 17.100\n",
      "  libavdevice    58.  4.101 / 58.  4.101\n",
      "  libavfilter     7. 25.100 /  7. 25.100\n",
      "  libswscale      5.  2.100 /  5.  2.100\n",
      "  libswresample   3.  2.100 /  3.  2.100\n",
      "  libpostproc    55.  2.100 / 55.  2.100\n",
      "Input #0, avi, from 'jogging/person05_jogging_d2_uncomp.avi':\n",
      "  Duration: 00:00:16.00, start: 0.000000, bitrate: 1060 kb/s\n",
      "    Stream #0:0: Video: mpeg4 (DX50 / 0x30355844), yuv420p, 160x120 [SAR 1:1 DAR 4:3], 1054 kb/s, 25 fps, 25 tbr, 25 tbn, 30k tbc\n",
      "Stream mapping:\n",
      "  Stream #0:0 -> #0:0 (mpeg4 (native) -> mjpeg (native))\n",
      "Press [q] to stop, [?] for help\n",
      "[swscaler @ 000001f7f456c480] deprecated pixel format used, make sure you did set range correctly\n",
      "Output #0, image2, to 'frames/jog%02d.jpg':\n",
      "  Metadata:\n",
      "    encoder         : Lavf58.17.100\n",
      "    Stream #0:0: Video: mjpeg, yuvj420p(pc), 160x120 [SAR 1:1 DAR 4:3], q=2-31, 200 kb/s, 25 fps, 25 tbn, 25 tbc\n",
      "    Metadata:\n",
      "      encoder         : Lavc58.20.103 mjpeg\n",
      "    Side data:\n",
      "      cpb: bitrate max/min/avg: 0/0/200000 buffer size: 0 vbv_delay: -1\n",
      "frame=   40 fps=0.0 q=11.1 Lsize=N/A time=00:00:01.60 bitrate=N/A speed=3.18x    \n",
      "video:87kB audio:0kB subtitle:0kB other streams:0kB global headers:0kB muxing overhead: unknown\n"
     ]
    },
    {
     "name": "stdout",
     "output_type": "stream",
     "text": [
      "16th video done\n"
     ]
    },
    {
     "name": "stderr",
     "output_type": "stream",
     "text": [
      "ffmpeg version N-91330-ga990184007 Copyright (c) 2000-2018 the FFmpeg developers\n",
      "  built with gcc 7.3.0 (GCC)\n",
      "  configuration: --enable-gpl --enable-version3 --enable-sdl2 --enable-bzlib --enable-fontconfig --enable-gnutls --enable-iconv --enable-libass --enable-libbluray --enable-libfreetype --enable-libmp3lame --enable-libopencore-amrnb --enable-libopencore-amrwb --enable-libopenjpeg --enable-libopus --enable-libshine --enable-libsnappy --enable-libsoxr --enable-libtheora --enable-libtwolame --enable-libvpx --enable-libwavpack --enable-libwebp --enable-libx264 --enable-libx265 --enable-libxml2 --enable-libzimg --enable-lzma --enable-zlib --enable-gmp --enable-libvidstab --enable-libvorbis --enable-libvo-amrwbenc --enable-libmysofa --enable-libspeex --enable-libxvid --enable-libaom --enable-libmfx --enable-amf --enable-ffnvcodec --enable-cuvid --enable-d3d11va --enable-nvenc --enable-nvdec --enable-dxva2 --enable-avisynth\n",
      "  libavutil      56. 18.102 / 56. 18.102\n",
      "  libavcodec     58. 20.103 / 58. 20.103\n",
      "  libavformat    58. 17.100 / 58. 17.100\n",
      "  libavdevice    58.  4.101 / 58.  4.101\n",
      "  libavfilter     7. 25.100 /  7. 25.100\n",
      "  libswscale      5.  2.100 /  5.  2.100\n",
      "  libswresample   3.  2.100 /  3.  2.100\n",
      "  libpostproc    55.  2.100 / 55.  2.100\n",
      "Input #0, avi, from 'jogging/person05_jogging_d3_uncomp.avi':\n",
      "  Duration: 00:00:14.08, start: 0.000000, bitrate: 1149 kb/s\n",
      "    Stream #0:0: Video: mpeg4 (DX50 / 0x30355844), yuv420p, 160x120 [SAR 1:1 DAR 4:3], 1143 kb/s, 25 fps, 25 tbr, 25 tbn, 30k tbc\n",
      "Stream mapping:\n",
      "  Stream #0:0 -> #0:0 (mpeg4 (native) -> mjpeg (native))\n",
      "Press [q] to stop, [?] for help\n",
      "[swscaler @ 000001b99f7977c0] deprecated pixel format used, make sure you did set range correctly\n",
      "Output #0, image2, to 'frames/jog%02d.jpg':\n",
      "  Metadata:\n",
      "    encoder         : Lavf58.17.100\n",
      "    Stream #0:0: Video: mjpeg, yuvj420p(pc), 160x120 [SAR 1:1 DAR 4:3], q=2-31, 200 kb/s, 25 fps, 25 tbn, 25 tbc\n",
      "    Metadata:\n",
      "      encoder         : Lavc58.20.103 mjpeg\n",
      "    Side data:\n",
      "      cpb: bitrate max/min/avg: 0/0/200000 buffer size: 0 vbv_delay: -1\n",
      "frame=   40 fps=0.0 q=12.7 Lsize=N/A time=00:00:01.60 bitrate=N/A speed=4.28x    \n",
      "video:89kB audio:0kB subtitle:0kB other streams:0kB global headers:0kB muxing overhead: unknown\n"
     ]
    },
    {
     "name": "stdout",
     "output_type": "stream",
     "text": [
      "17th video done\n"
     ]
    },
    {
     "name": "stderr",
     "output_type": "stream",
     "text": [
      "ffmpeg version N-91330-ga990184007 Copyright (c) 2000-2018 the FFmpeg developers\n",
      "  built with gcc 7.3.0 (GCC)\n",
      "  configuration: --enable-gpl --enable-version3 --enable-sdl2 --enable-bzlib --enable-fontconfig --enable-gnutls --enable-iconv --enable-libass --enable-libbluray --enable-libfreetype --enable-libmp3lame --enable-libopencore-amrnb --enable-libopencore-amrwb --enable-libopenjpeg --enable-libopus --enable-libshine --enable-libsnappy --enable-libsoxr --enable-libtheora --enable-libtwolame --enable-libvpx --enable-libwavpack --enable-libwebp --enable-libx264 --enable-libx265 --enable-libxml2 --enable-libzimg --enable-lzma --enable-zlib --enable-gmp --enable-libvidstab --enable-libvorbis --enable-libvo-amrwbenc --enable-libmysofa --enable-libspeex --enable-libxvid --enable-libaom --enable-libmfx --enable-amf --enable-ffnvcodec --enable-cuvid --enable-d3d11va --enable-nvenc --enable-nvdec --enable-dxva2 --enable-avisynth\n",
      "  libavutil      56. 18.102 / 56. 18.102\n",
      "  libavcodec     58. 20.103 / 58. 20.103\n",
      "  libavformat    58. 17.100 / 58. 17.100\n",
      "  libavdevice    58.  4.101 / 58.  4.101\n",
      "  libavfilter     7. 25.100 /  7. 25.100\n",
      "  libswscale      5.  2.100 /  5.  2.100\n",
      "  libswresample   3.  2.100 /  3.  2.100\n",
      "  libpostproc    55.  2.100 / 55.  2.100\n",
      "Input #0, avi, from 'jogging/person05_jogging_d4_uncomp.avi':\n",
      "  Duration: 00:00:14.60, start: 0.000000, bitrate: 430 kb/s\n",
      "    Stream #0:0: Video: mpeg4 (DX50 / 0x30355844), yuv420p, 160x120 [SAR 1:1 DAR 4:3], 422 kb/s, 25 fps, 25 tbr, 25 tbn, 30k tbc\n",
      "Stream mapping:\n",
      "  Stream #0:0 -> #0:0 (mpeg4 (native) -> mjpeg (native))\n",
      "Press [q] to stop, [?] for help\n",
      "[swscaler @ 0000019970d8b700] deprecated pixel format used, make sure you did set range correctly\n",
      "Output #0, image2, to 'frames/jog%02d.jpg':\n",
      "  Metadata:\n",
      "    encoder         : Lavf58.17.100\n",
      "    Stream #0:0: Video: mjpeg, yuvj420p(pc), 160x120 [SAR 1:1 DAR 4:3], q=2-31, 200 kb/s, 25 fps, 25 tbn, 25 tbc\n",
      "    Metadata:\n",
      "      encoder         : Lavc58.20.103 mjpeg\n",
      "    Side data:\n",
      "      cpb: bitrate max/min/avg: 0/0/200000 buffer size: 0 vbv_delay: -1\n",
      "frame=   40 fps=0.0 q=4.7 Lsize=N/A time=00:00:01.60 bitrate=N/A speed=3.79x    \n",
      "video:71kB audio:0kB subtitle:0kB other streams:0kB global headers:0kB muxing overhead: unknown\n"
     ]
    },
    {
     "name": "stdout",
     "output_type": "stream",
     "text": [
      "18th video done\n"
     ]
    },
    {
     "name": "stderr",
     "output_type": "stream",
     "text": [
      "ffmpeg version N-91330-ga990184007 Copyright (c) 2000-2018 the FFmpeg developers\n",
      "  built with gcc 7.3.0 (GCC)\n",
      "  configuration: --enable-gpl --enable-version3 --enable-sdl2 --enable-bzlib --enable-fontconfig --enable-gnutls --enable-iconv --enable-libass --enable-libbluray --enable-libfreetype --enable-libmp3lame --enable-libopencore-amrnb --enable-libopencore-amrwb --enable-libopenjpeg --enable-libopus --enable-libshine --enable-libsnappy --enable-libsoxr --enable-libtheora --enable-libtwolame --enable-libvpx --enable-libwavpack --enable-libwebp --enable-libx264 --enable-libx265 --enable-libxml2 --enable-libzimg --enable-lzma --enable-zlib --enable-gmp --enable-libvidstab --enable-libvorbis --enable-libvo-amrwbenc --enable-libmysofa --enable-libspeex --enable-libxvid --enable-libaom --enable-libmfx --enable-amf --enable-ffnvcodec --enable-cuvid --enable-d3d11va --enable-nvenc --enable-nvdec --enable-dxva2 --enable-avisynth\n",
      "  libavutil      56. 18.102 / 56. 18.102\n",
      "  libavcodec     58. 20.103 / 58. 20.103\n",
      "  libavformat    58. 17.100 / 58. 17.100\n",
      "  libavdevice    58.  4.101 / 58.  4.101\n",
      "  libavfilter     7. 25.100 /  7. 25.100\n",
      "  libswscale      5.  2.100 /  5.  2.100\n",
      "  libswresample   3.  2.100 /  3.  2.100\n",
      "  libpostproc    55.  2.100 / 55.  2.100\n",
      "Input #0, avi, from 'jogging/person06_jogging_d1_uncomp.avi':\n",
      "  Duration: 00:00:12.20, start: 0.000000, bitrate: 722 kb/s\n",
      "    Stream #0:0: Video: mpeg4 (DX50 / 0x30355844), yuv420p, 160x120 [SAR 1:1 DAR 4:3], 713 kb/s, 25 fps, 25 tbr, 25 tbn, 30k tbc\n",
      "Stream mapping:\n",
      "  Stream #0:0 -> #0:0 (mpeg4 (native) -> mjpeg (native))\n",
      "Press [q] to stop, [?] for help\n",
      "[swscaler @ 000002b8bfe5a180] deprecated pixel format used, make sure you did set range correctly\n",
      "Output #0, image2, to 'frames/jog%02d.jpg':\n",
      "  Metadata:\n",
      "    encoder         : Lavf58.17.100\n",
      "    Stream #0:0: Video: mjpeg, yuvj420p(pc), 160x120 [SAR 1:1 DAR 4:3], q=2-31, 200 kb/s, 25 fps, 25 tbn, 25 tbc\n",
      "    Metadata:\n",
      "      encoder         : Lavc58.20.103 mjpeg\n",
      "    Side data:\n",
      "      cpb: bitrate max/min/avg: 0/0/200000 buffer size: 0 vbv_delay: -1\n",
      "frame=   25 fps=0.0 q=4.9 size=N/A time=00:00:01.00 bitrate=N/A speed=1.97x    \n",
      "frame=   40 fps=0.0 q=5.2 Lsize=N/A time=00:00:01.60 bitrate=N/A speed=2.19x    \n",
      "video:70kB audio:0kB subtitle:0kB other streams:0kB global headers:0kB muxing overhead: unknown\n"
     ]
    },
    {
     "name": "stdout",
     "output_type": "stream",
     "text": [
      "19th video done\n"
     ]
    },
    {
     "name": "stderr",
     "output_type": "stream",
     "text": [
      "ffmpeg version N-91330-ga990184007 Copyright (c) 2000-2018 the FFmpeg developers\n",
      "  built with gcc 7.3.0 (GCC)\n",
      "  configuration: --enable-gpl --enable-version3 --enable-sdl2 --enable-bzlib --enable-fontconfig --enable-gnutls --enable-iconv --enable-libass --enable-libbluray --enable-libfreetype --enable-libmp3lame --enable-libopencore-amrnb --enable-libopencore-amrwb --enable-libopenjpeg --enable-libopus --enable-libshine --enable-libsnappy --enable-libsoxr --enable-libtheora --enable-libtwolame --enable-libvpx --enable-libwavpack --enable-libwebp --enable-libx264 --enable-libx265 --enable-libxml2 --enable-libzimg --enable-lzma --enable-zlib --enable-gmp --enable-libvidstab --enable-libvorbis --enable-libvo-amrwbenc --enable-libmysofa --enable-libspeex --enable-libxvid --enable-libaom --enable-libmfx --enable-amf --enable-ffnvcodec --enable-cuvid --enable-d3d11va --enable-nvenc --enable-nvdec --enable-dxva2 --enable-avisynth\n",
      "  libavutil      56. 18.102 / 56. 18.102\n",
      "  libavcodec     58. 20.103 / 58. 20.103\n",
      "  libavformat    58. 17.100 / 58. 17.100\n",
      "  libavdevice    58.  4.101 / 58.  4.101\n",
      "  libavfilter     7. 25.100 /  7. 25.100\n",
      "  libswscale      5.  2.100 /  5.  2.100\n",
      "  libswresample   3.  2.100 /  3.  2.100\n",
      "  libpostproc    55.  2.100 / 55.  2.100\n",
      "Input #0, avi, from 'jogging/person06_jogging_d2_uncomp.avi':\n",
      "  Duration: 00:00:19.92, start: 0.000000, bitrate: 581 kb/s\n",
      "    Stream #0:0: Video: mpeg4 (DX50 / 0x30355844), yuv420p, 160x120 [SAR 1:1 DAR 4:3], 573 kb/s, 25 fps, 25 tbr, 25 tbn, 30k tbc\n",
      "Stream mapping:\n",
      "  Stream #0:0 -> #0:0 (mpeg4 (native) -> mjpeg (native))\n",
      "Press [q] to stop, [?] for help\n",
      "[swscaler @ 000002038da87f40] deprecated pixel format used, make sure you did set range correctly\n",
      "Output #0, image2, to 'frames/jog%02d.jpg':\n",
      "  Metadata:\n",
      "    encoder         : Lavf58.17.100\n",
      "    Stream #0:0: Video: mjpeg, yuvj420p(pc), 160x120 [SAR 1:1 DAR 4:3], q=2-31, 200 kb/s, 25 fps, 25 tbn, 25 tbc\n",
      "    Metadata:\n",
      "      encoder         : Lavc58.20.103 mjpeg\n",
      "    Side data:\n",
      "      cpb: bitrate max/min/avg: 0/0/200000 buffer size: 0 vbv_delay: -1\n",
      "frame=   40 fps=0.0 q=4.5 Lsize=N/A time=00:00:01.60 bitrate=N/A speed=4.37x    \n",
      "video:69kB audio:0kB subtitle:0kB other streams:0kB global headers:0kB muxing overhead: unknown\n"
     ]
    },
    {
     "name": "stdout",
     "output_type": "stream",
     "text": [
      "20th video done\n"
     ]
    },
    {
     "name": "stderr",
     "output_type": "stream",
     "text": [
      "ffmpeg version N-91330-ga990184007 Copyright (c) 2000-2018 the FFmpeg developers\n",
      "  built with gcc 7.3.0 (GCC)\n",
      "  configuration: --enable-gpl --enable-version3 --enable-sdl2 --enable-bzlib --enable-fontconfig --enable-gnutls --enable-iconv --enable-libass --enable-libbluray --enable-libfreetype --enable-libmp3lame --enable-libopencore-amrnb --enable-libopencore-amrwb --enable-libopenjpeg --enable-libopus --enable-libshine --enable-libsnappy --enable-libsoxr --enable-libtheora --enable-libtwolame --enable-libvpx --enable-libwavpack --enable-libwebp --enable-libx264 --enable-libx265 --enable-libxml2 --enable-libzimg --enable-lzma --enable-zlib --enable-gmp --enable-libvidstab --enable-libvorbis --enable-libvo-amrwbenc --enable-libmysofa --enable-libspeex --enable-libxvid --enable-libaom --enable-libmfx --enable-amf --enable-ffnvcodec --enable-cuvid --enable-d3d11va --enable-nvenc --enable-nvdec --enable-dxva2 --enable-avisynth\n",
      "  libavutil      56. 18.102 / 56. 18.102\n",
      "  libavcodec     58. 20.103 / 58. 20.103\n",
      "  libavformat    58. 17.100 / 58. 17.100\n",
      "  libavdevice    58.  4.101 / 58.  4.101\n",
      "  libavfilter     7. 25.100 /  7. 25.100\n",
      "  libswscale      5.  2.100 /  5.  2.100\n",
      "  libswresample   3.  2.100 /  3.  2.100\n",
      "  libpostproc    55.  2.100 / 55.  2.100\n",
      "Input #0, avi, from 'jogging/person06_jogging_d3_uncomp.avi':\n",
      "  Duration: 00:00:12.16, start: 0.000000, bitrate: 683 kb/s\n",
      "    Stream #0:0: Video: mpeg4 (DX50 / 0x30355844), yuv420p, 160x120 [SAR 1:1 DAR 4:3], 673 kb/s, 25 fps, 25 tbr, 25 tbn, 30k tbc\n",
      "Stream mapping:\n",
      "  Stream #0:0 -> #0:0 (mpeg4 (native) -> mjpeg (native))\n",
      "Press [q] to stop, [?] for help\n",
      "[swscaler @ 0000029407951780] deprecated pixel format used, make sure you did set range correctly\n",
      "Output #0, image2, to 'frames/jog%02d.jpg':\n",
      "  Metadata:\n",
      "    encoder         : Lavf58.17.100\n",
      "    Stream #0:0: Video: mjpeg, yuvj420p(pc), 160x120 [SAR 1:1 DAR 4:3], q=2-31, 200 kb/s, 25 fps, 25 tbn, 25 tbc\n",
      "    Metadata:\n",
      "      encoder         : Lavc58.20.103 mjpeg\n",
      "    Side data:\n",
      "      cpb: bitrate max/min/avg: 0/0/200000 buffer size: 0 vbv_delay: -1\n",
      "frame=   40 fps=0.0 q=5.9 Lsize=N/A time=00:00:01.60 bitrate=N/A speed= 3.6x    \n",
      "video:73kB audio:0kB subtitle:0kB other streams:0kB global headers:0kB muxing overhead: unknown\n"
     ]
    },
    {
     "name": "stdout",
     "output_type": "stream",
     "text": [
      "21th video done\n"
     ]
    },
    {
     "name": "stderr",
     "output_type": "stream",
     "text": [
      "ffmpeg version N-91330-ga990184007 Copyright (c) 2000-2018 the FFmpeg developers\n",
      "  built with gcc 7.3.0 (GCC)\n",
      "  configuration: --enable-gpl --enable-version3 --enable-sdl2 --enable-bzlib --enable-fontconfig --enable-gnutls --enable-iconv --enable-libass --enable-libbluray --enable-libfreetype --enable-libmp3lame --enable-libopencore-amrnb --enable-libopencore-amrwb --enable-libopenjpeg --enable-libopus --enable-libshine --enable-libsnappy --enable-libsoxr --enable-libtheora --enable-libtwolame --enable-libvpx --enable-libwavpack --enable-libwebp --enable-libx264 --enable-libx265 --enable-libxml2 --enable-libzimg --enable-lzma --enable-zlib --enable-gmp --enable-libvidstab --enable-libvorbis --enable-libvo-amrwbenc --enable-libmysofa --enable-libspeex --enable-libxvid --enable-libaom --enable-libmfx --enable-amf --enable-ffnvcodec --enable-cuvid --enable-d3d11va --enable-nvenc --enable-nvdec --enable-dxva2 --enable-avisynth\n",
      "  libavutil      56. 18.102 / 56. 18.102\n",
      "  libavcodec     58. 20.103 / 58. 20.103\n",
      "  libavformat    58. 17.100 / 58. 17.100\n",
      "  libavdevice    58.  4.101 / 58.  4.101\n",
      "  libavfilter     7. 25.100 /  7. 25.100\n",
      "  libswscale      5.  2.100 /  5.  2.100\n",
      "  libswresample   3.  2.100 /  3.  2.100\n",
      "  libpostproc    55.  2.100 / 55.  2.100\n",
      "Input #0, avi, from 'jogging/person06_jogging_d4_uncomp.avi':\n",
      "  Duration: 00:00:13.60, start: 0.000000, bitrate: 351 kb/s\n",
      "    Stream #0:0: Video: mpeg4 (DX50 / 0x30355844), yuv420p, 160x120 [SAR 1:1 DAR 4:3], 342 kb/s, 25 fps, 25 tbr, 25 tbn, 30k tbc\n",
      "Stream mapping:\n",
      "  Stream #0:0 -> #0:0 (mpeg4 (native) -> mjpeg (native))\n",
      "Press [q] to stop, [?] for help\n",
      "[swscaler @ 0000018246d55380] deprecated pixel format used, make sure you did set range correctly\n",
      "Output #0, image2, to 'frames/jog%02d.jpg':\n",
      "  Metadata:\n",
      "    encoder         : Lavf58.17.100\n",
      "    Stream #0:0: Video: mjpeg, yuvj420p(pc), 160x120 [SAR 1:1 DAR 4:3], q=2-31, 200 kb/s, 25 fps, 25 tbn, 25 tbc\n",
      "    Metadata:\n",
      "      encoder         : Lavc58.20.103 mjpeg\n",
      "    Side data:\n",
      "      cpb: bitrate max/min/avg: 0/0/200000 buffer size: 0 vbv_delay: -1\n",
      "frame=   40 fps=0.0 q=4.6 Lsize=N/A time=00:00:01.60 bitrate=N/A speed=4.97x    \n",
      "video:68kB audio:0kB subtitle:0kB other streams:0kB global headers:0kB muxing overhead: unknown\n"
     ]
    },
    {
     "name": "stdout",
     "output_type": "stream",
     "text": [
      "22th video done\n"
     ]
    },
    {
     "name": "stderr",
     "output_type": "stream",
     "text": [
      "ffmpeg version N-91330-ga990184007 Copyright (c) 2000-2018 the FFmpeg developers\n",
      "  built with gcc 7.3.0 (GCC)\n",
      "  configuration: --enable-gpl --enable-version3 --enable-sdl2 --enable-bzlib --enable-fontconfig --enable-gnutls --enable-iconv --enable-libass --enable-libbluray --enable-libfreetype --enable-libmp3lame --enable-libopencore-amrnb --enable-libopencore-amrwb --enable-libopenjpeg --enable-libopus --enable-libshine --enable-libsnappy --enable-libsoxr --enable-libtheora --enable-libtwolame --enable-libvpx --enable-libwavpack --enable-libwebp --enable-libx264 --enable-libx265 --enable-libxml2 --enable-libzimg --enable-lzma --enable-zlib --enable-gmp --enable-libvidstab --enable-libvorbis --enable-libvo-amrwbenc --enable-libmysofa --enable-libspeex --enable-libxvid --enable-libaom --enable-libmfx --enable-amf --enable-ffnvcodec --enable-cuvid --enable-d3d11va --enable-nvenc --enable-nvdec --enable-dxva2 --enable-avisynth\n",
      "  libavutil      56. 18.102 / 56. 18.102\n",
      "  libavcodec     58. 20.103 / 58. 20.103\n",
      "  libavformat    58. 17.100 / 58. 17.100\n",
      "  libavdevice    58.  4.101 / 58.  4.101\n",
      "  libavfilter     7. 25.100 /  7. 25.100\n",
      "  libswscale      5.  2.100 /  5.  2.100\n",
      "  libswresample   3.  2.100 /  3.  2.100\n",
      "  libpostproc    55.  2.100 / 55.  2.100\n",
      "Input #0, avi, from 'jogging/person07_jogging_d1_uncomp.avi':\n",
      "  Duration: 00:00:13.20, start: 0.000000, bitrate: 759 kb/s\n",
      "    Stream #0:0: Video: mpeg4 (DX50 / 0x30355844), yuv420p, 160x120 [SAR 1:1 DAR 4:3], 751 kb/s, 25 fps, 25 tbr, 25 tbn, 30k tbc\n",
      "Stream mapping:\n",
      "  Stream #0:0 -> #0:0 (mpeg4 (native) -> mjpeg (native))\n",
      "Press [q] to stop, [?] for help\n",
      "[swscaler @ 0000018ebbddb000] deprecated pixel format used, make sure you did set range correctly\n",
      "Output #0, image2, to 'frames/jog%02d.jpg':\n",
      "  Metadata:\n",
      "    encoder         : Lavf58.17.100\n",
      "    Stream #0:0: Video: mjpeg, yuvj420p(pc), 160x120 [SAR 1:1 DAR 4:3], q=2-31, 200 kb/s, 25 fps, 25 tbn, 25 tbc\n",
      "    Metadata:\n",
      "      encoder         : Lavc58.20.103 mjpeg\n",
      "    Side data:\n",
      "      cpb: bitrate max/min/avg: 0/0/200000 buffer size: 0 vbv_delay: -1\n",
      "frame=   40 fps=0.0 q=3.6 Lsize=N/A time=00:00:01.60 bitrate=N/A speed=5.19x    \n",
      "video:68kB audio:0kB subtitle:0kB other streams:0kB global headers:0kB muxing overhead: unknown\n"
     ]
    },
    {
     "name": "stdout",
     "output_type": "stream",
     "text": [
      "23th video done\n"
     ]
    },
    {
     "name": "stderr",
     "output_type": "stream",
     "text": [
      "ffmpeg version N-91330-ga990184007 Copyright (c) 2000-2018 the FFmpeg developers\n",
      "  built with gcc 7.3.0 (GCC)\n",
      "  configuration: --enable-gpl --enable-version3 --enable-sdl2 --enable-bzlib --enable-fontconfig --enable-gnutls --enable-iconv --enable-libass --enable-libbluray --enable-libfreetype --enable-libmp3lame --enable-libopencore-amrnb --enable-libopencore-amrwb --enable-libopenjpeg --enable-libopus --enable-libshine --enable-libsnappy --enable-libsoxr --enable-libtheora --enable-libtwolame --enable-libvpx --enable-libwavpack --enable-libwebp --enable-libx264 --enable-libx265 --enable-libxml2 --enable-libzimg --enable-lzma --enable-zlib --enable-gmp --enable-libvidstab --enable-libvorbis --enable-libvo-amrwbenc --enable-libmysofa --enable-libspeex --enable-libxvid --enable-libaom --enable-libmfx --enable-amf --enable-ffnvcodec --enable-cuvid --enable-d3d11va --enable-nvenc --enable-nvdec --enable-dxva2 --enable-avisynth\n",
      "  libavutil      56. 18.102 / 56. 18.102\n",
      "  libavcodec     58. 20.103 / 58. 20.103\n",
      "  libavformat    58. 17.100 / 58. 17.100\n",
      "  libavdevice    58.  4.101 / 58.  4.101\n",
      "  libavfilter     7. 25.100 /  7. 25.100\n",
      "  libswscale      5.  2.100 /  5.  2.100\n",
      "  libswresample   3.  2.100 /  3.  2.100\n",
      "  libpostproc    55.  2.100 / 55.  2.100\n",
      "Input #0, avi, from 'jogging/person07_jogging_d2_uncomp.avi':\n",
      "  Duration: 00:00:18.24, start: 0.000000, bitrate: 647 kb/s\n",
      "    Stream #0:0: Video: mpeg4 (DX50 / 0x30355844), yuv420p, 160x120 [SAR 1:1 DAR 4:3], 639 kb/s, 25 fps, 25 tbr, 25 tbn, 30k tbc\n",
      "Stream mapping:\n",
      "  Stream #0:0 -> #0:0 (mpeg4 (native) -> mjpeg (native))\n",
      "Press [q] to stop, [?] for help\n",
      "[swscaler @ 00000232bc86f340] deprecated pixel format used, make sure you did set range correctly\n",
      "Output #0, image2, to 'frames/jog%02d.jpg':\n",
      "  Metadata:\n",
      "    encoder         : Lavf58.17.100\n",
      "    Stream #0:0: Video: mjpeg, yuvj420p(pc), 160x120 [SAR 1:1 DAR 4:3], q=2-31, 200 kb/s, 25 fps, 25 tbn, 25 tbc\n",
      "    Metadata:\n",
      "      encoder         : Lavc58.20.103 mjpeg\n",
      "    Side data:\n",
      "      cpb: bitrate max/min/avg: 0/0/200000 buffer size: 0 vbv_delay: -1\n",
      "frame=   40 fps=0.0 q=4.2 Lsize=N/A time=00:00:01.60 bitrate=N/A speed=4.21x    \n",
      "video:68kB audio:0kB subtitle:0kB other streams:0kB global headers:0kB muxing overhead: unknown\n"
     ]
    },
    {
     "name": "stdout",
     "output_type": "stream",
     "text": [
      "24th video done\n"
     ]
    },
    {
     "name": "stderr",
     "output_type": "stream",
     "text": [
      "ffmpeg version N-91330-ga990184007 Copyright (c) 2000-2018 the FFmpeg developers\n",
      "  built with gcc 7.3.0 (GCC)\n",
      "  configuration: --enable-gpl --enable-version3 --enable-sdl2 --enable-bzlib --enable-fontconfig --enable-gnutls --enable-iconv --enable-libass --enable-libbluray --enable-libfreetype --enable-libmp3lame --enable-libopencore-amrnb --enable-libopencore-amrwb --enable-libopenjpeg --enable-libopus --enable-libshine --enable-libsnappy --enable-libsoxr --enable-libtheora --enable-libtwolame --enable-libvpx --enable-libwavpack --enable-libwebp --enable-libx264 --enable-libx265 --enable-libxml2 --enable-libzimg --enable-lzma --enable-zlib --enable-gmp --enable-libvidstab --enable-libvorbis --enable-libvo-amrwbenc --enable-libmysofa --enable-libspeex --enable-libxvid --enable-libaom --enable-libmfx --enable-amf --enable-ffnvcodec --enable-cuvid --enable-d3d11va --enable-nvenc --enable-nvdec --enable-dxva2 --enable-avisynth\n",
      "  libavutil      56. 18.102 / 56. 18.102\n",
      "  libavcodec     58. 20.103 / 58. 20.103\n",
      "  libavformat    58. 17.100 / 58. 17.100\n",
      "  libavdevice    58.  4.101 / 58.  4.101\n",
      "  libavfilter     7. 25.100 /  7. 25.100\n",
      "  libswscale      5.  2.100 /  5.  2.100\n",
      "  libswresample   3.  2.100 /  3.  2.100\n",
      "  libpostproc    55.  2.100 / 55.  2.100\n",
      "Input #0, avi, from 'jogging/person07_jogging_d3_uncomp.avi':\n",
      "  Duration: 00:00:12.48, start: 0.000000, bitrate: 643 kb/s\n",
      "    Stream #0:0: Video: mpeg4 (DX50 / 0x30355844), yuv420p, 160x120 [SAR 1:1 DAR 4:3], 634 kb/s, 25 fps, 25 tbr, 25 tbn, 30k tbc\n",
      "Stream mapping:\n",
      "  Stream #0:0 -> #0:0 (mpeg4 (native) -> mjpeg (native))\n",
      "Press [q] to stop, [?] for help\n",
      "[swscaler @ 000001d4f16e8280] deprecated pixel format used, make sure you did set range correctly\n",
      "Output #0, image2, to 'frames/jog%02d.jpg':\n",
      "  Metadata:\n",
      "    encoder         : Lavf58.17.100\n",
      "    Stream #0:0: Video: mjpeg, yuvj420p(pc), 160x120 [SAR 1:1 DAR 4:3], q=2-31, 200 kb/s, 25 fps, 25 tbn, 25 tbc\n",
      "    Metadata:\n",
      "      encoder         : Lavc58.20.103 mjpeg\n",
      "    Side data:\n",
      "      cpb: bitrate max/min/avg: 0/0/200000 buffer size: 0 vbv_delay: -1\n",
      "frame=   40 fps=0.0 q=4.7 Lsize=N/A time=00:00:01.60 bitrate=N/A speed=5.12x    \n",
      "video:68kB audio:0kB subtitle:0kB other streams:0kB global headers:0kB muxing overhead: unknown\n"
     ]
    },
    {
     "name": "stdout",
     "output_type": "stream",
     "text": [
      "25th video done\n"
     ]
    },
    {
     "name": "stderr",
     "output_type": "stream",
     "text": [
      "ffmpeg version N-91330-ga990184007 Copyright (c) 2000-2018 the FFmpeg developers\n",
      "  built with gcc 7.3.0 (GCC)\n",
      "  configuration: --enable-gpl --enable-version3 --enable-sdl2 --enable-bzlib --enable-fontconfig --enable-gnutls --enable-iconv --enable-libass --enable-libbluray --enable-libfreetype --enable-libmp3lame --enable-libopencore-amrnb --enable-libopencore-amrwb --enable-libopenjpeg --enable-libopus --enable-libshine --enable-libsnappy --enable-libsoxr --enable-libtheora --enable-libtwolame --enable-libvpx --enable-libwavpack --enable-libwebp --enable-libx264 --enable-libx265 --enable-libxml2 --enable-libzimg --enable-lzma --enable-zlib --enable-gmp --enable-libvidstab --enable-libvorbis --enable-libvo-amrwbenc --enable-libmysofa --enable-libspeex --enable-libxvid --enable-libaom --enable-libmfx --enable-amf --enable-ffnvcodec --enable-cuvid --enable-d3d11va --enable-nvenc --enable-nvdec --enable-dxva2 --enable-avisynth\n",
      "  libavutil      56. 18.102 / 56. 18.102\n",
      "  libavcodec     58. 20.103 / 58. 20.103\n",
      "  libavformat    58. 17.100 / 58. 17.100\n",
      "  libavdevice    58.  4.101 / 58.  4.101\n",
      "  libavfilter     7. 25.100 /  7. 25.100\n",
      "  libswscale      5.  2.100 /  5.  2.100\n",
      "  libswresample   3.  2.100 /  3.  2.100\n",
      "  libpostproc    55.  2.100 / 55.  2.100\n",
      "Input #0, avi, from 'jogging/person07_jogging_d4_uncomp.avi':\n",
      "  Duration: 00:00:22.80, start: 0.000000, bitrate: 516 kb/s\n",
      "    Stream #0:0: Video: mpeg4 (DX50 / 0x30355844), yuv420p, 160x120 [SAR 1:1 DAR 4:3], 509 kb/s, 25 fps, 25 tbr, 25 tbn, 30k tbc\n",
      "Stream mapping:\n",
      "  Stream #0:0 -> #0:0 (mpeg4 (native) -> mjpeg (native))\n",
      "Press [q] to stop, [?] for help\n",
      "[swscaler @ 000001ba7c855e40] deprecated pixel format used, make sure you did set range correctly\n",
      "Output #0, image2, to 'frames/jog%02d.jpg':\n",
      "  Metadata:\n",
      "    encoder         : Lavf58.17.100\n",
      "    Stream #0:0: Video: mjpeg, yuvj420p(pc), 160x120 [SAR 1:1 DAR 4:3], q=2-31, 200 kb/s, 25 fps, 25 tbn, 25 tbc\n",
      "    Metadata:\n",
      "      encoder         : Lavc58.20.103 mjpeg\n",
      "    Side data:\n",
      "      cpb: bitrate max/min/avg: 0/0/200000 buffer size: 0 vbv_delay: -1\n",
      "frame=   37 fps=0.0 q=3.6 size=N/A time=00:00:01.48 bitrate=N/A speed=2.94x    \n",
      "frame=   40 fps=0.0 q=3.5 Lsize=N/A time=00:00:01.60 bitrate=N/A speed=3.02x    \n",
      "video:66kB audio:0kB subtitle:0kB other streams:0kB global headers:0kB muxing overhead: unknown\n"
     ]
    },
    {
     "name": "stdout",
     "output_type": "stream",
     "text": [
      "26th video done\n"
     ]
    },
    {
     "name": "stderr",
     "output_type": "stream",
     "text": [
      "ffmpeg version N-91330-ga990184007 Copyright (c) 2000-2018 the FFmpeg developers\n",
      "  built with gcc 7.3.0 (GCC)\n",
      "  configuration: --enable-gpl --enable-version3 --enable-sdl2 --enable-bzlib --enable-fontconfig --enable-gnutls --enable-iconv --enable-libass --enable-libbluray --enable-libfreetype --enable-libmp3lame --enable-libopencore-amrnb --enable-libopencore-amrwb --enable-libopenjpeg --enable-libopus --enable-libshine --enable-libsnappy --enable-libsoxr --enable-libtheora --enable-libtwolame --enable-libvpx --enable-libwavpack --enable-libwebp --enable-libx264 --enable-libx265 --enable-libxml2 --enable-libzimg --enable-lzma --enable-zlib --enable-gmp --enable-libvidstab --enable-libvorbis --enable-libvo-amrwbenc --enable-libmysofa --enable-libspeex --enable-libxvid --enable-libaom --enable-libmfx --enable-amf --enable-ffnvcodec --enable-cuvid --enable-d3d11va --enable-nvenc --enable-nvdec --enable-dxva2 --enable-avisynth\n",
      "  libavutil      56. 18.102 / 56. 18.102\n",
      "  libavcodec     58. 20.103 / 58. 20.103\n",
      "  libavformat    58. 17.100 / 58. 17.100\n",
      "  libavdevice    58.  4.101 / 58.  4.101\n",
      "  libavfilter     7. 25.100 /  7. 25.100\n",
      "  libswscale      5.  2.100 /  5.  2.100\n",
      "  libswresample   3.  2.100 /  3.  2.100\n",
      "  libpostproc    55.  2.100 / 55.  2.100\n",
      "Input #0, avi, from 'jogging/person08_jogging_d1_uncomp.avi':\n",
      "  Duration: 00:00:16.00, start: 0.000000, bitrate: 1043 kb/s\n",
      "    Stream #0:0: Video: mpeg4 (DX50 / 0x30355844), yuv420p, 160x120 [SAR 1:1 DAR 4:3], 1036 kb/s, 25 fps, 25 tbr, 25 tbn, 30k tbc\n",
      "Stream mapping:\n",
      "  Stream #0:0 -> #0:0 (mpeg4 (native) -> mjpeg (native))\n",
      "Press [q] to stop, [?] for help\n",
      "[swscaler @ 000002f5698d14c0] deprecated pixel format used, make sure you did set range correctly\n",
      "Output #0, image2, to 'frames/jog%02d.jpg':\n",
      "  Metadata:\n",
      "    encoder         : Lavf58.17.100\n",
      "    Stream #0:0: Video: mjpeg, yuvj420p(pc), 160x120 [SAR 1:1 DAR 4:3], q=2-31, 200 kb/s, 25 fps, 25 tbn, 25 tbc\n",
      "    Metadata:\n",
      "      encoder         : Lavc58.20.103 mjpeg\n",
      "    Side data:\n",
      "      cpb: bitrate max/min/avg: 0/0/200000 buffer size: 0 vbv_delay: -1\n",
      "frame=   40 fps=0.0 q=10.6 Lsize=N/A time=00:00:01.60 bitrate=N/A speed=4.97x    \n",
      "video:87kB audio:0kB subtitle:0kB other streams:0kB global headers:0kB muxing overhead: unknown\n"
     ]
    },
    {
     "name": "stdout",
     "output_type": "stream",
     "text": [
      "27th video done\n"
     ]
    },
    {
     "name": "stderr",
     "output_type": "stream",
     "text": [
      "ffmpeg version N-91330-ga990184007 Copyright (c) 2000-2018 the FFmpeg developers\n",
      "  built with gcc 7.3.0 (GCC)\n",
      "  configuration: --enable-gpl --enable-version3 --enable-sdl2 --enable-bzlib --enable-fontconfig --enable-gnutls --enable-iconv --enable-libass --enable-libbluray --enable-libfreetype --enable-libmp3lame --enable-libopencore-amrnb --enable-libopencore-amrwb --enable-libopenjpeg --enable-libopus --enable-libshine --enable-libsnappy --enable-libsoxr --enable-libtheora --enable-libtwolame --enable-libvpx --enable-libwavpack --enable-libwebp --enable-libx264 --enable-libx265 --enable-libxml2 --enable-libzimg --enable-lzma --enable-zlib --enable-gmp --enable-libvidstab --enable-libvorbis --enable-libvo-amrwbenc --enable-libmysofa --enable-libspeex --enable-libxvid --enable-libaom --enable-libmfx --enable-amf --enable-ffnvcodec --enable-cuvid --enable-d3d11va --enable-nvenc --enable-nvdec --enable-dxva2 --enable-avisynth\n",
      "  libavutil      56. 18.102 / 56. 18.102\n",
      "  libavcodec     58. 20.103 / 58. 20.103\n",
      "  libavformat    58. 17.100 / 58. 17.100\n",
      "  libavdevice    58.  4.101 / 58.  4.101\n",
      "  libavfilter     7. 25.100 /  7. 25.100\n",
      "  libswscale      5.  2.100 /  5.  2.100\n",
      "  libswresample   3.  2.100 /  3.  2.100\n",
      "  libpostproc    55.  2.100 / 55.  2.100\n",
      "Input #0, avi, from 'jogging/person08_jogging_d3_uncomp.avi':\n",
      "  Duration: 00:00:16.00, start: 0.000000, bitrate: 955 kb/s\n",
      "    Stream #0:0: Video: mpeg4 (DX50 / 0x30355844), yuv420p, 160x120 [SAR 1:1 DAR 4:3], 948 kb/s, 25 fps, 25 tbr, 25 tbn, 30k tbc\n",
      "Stream mapping:\n",
      "  Stream #0:0 -> #0:0 (mpeg4 (native) -> mjpeg (native))\n",
      "Press [q] to stop, [?] for help\n",
      "[swscaler @ 0000021b1a6bf1c0] deprecated pixel format used, make sure you did set range correctly\n",
      "Output #0, image2, to 'frames/jog%02d.jpg':\n",
      "  Metadata:\n",
      "    encoder         : Lavf58.17.100\n",
      "    Stream #0:0: Video: mjpeg, yuvj420p(pc), 160x120 [SAR 1:1 DAR 4:3], q=2-31, 200 kb/s, 25 fps, 25 tbn, 25 tbc\n",
      "    Metadata:\n",
      "      encoder         : Lavc58.20.103 mjpeg\n",
      "    Side data:\n",
      "      cpb: bitrate max/min/avg: 0/0/200000 buffer size: 0 vbv_delay: -1\n",
      "frame=   40 fps=0.0 q=10.1 Lsize=N/A time=00:00:01.60 bitrate=N/A speed=4.35x    \n",
      "video:84kB audio:0kB subtitle:0kB other streams:0kB global headers:0kB muxing overhead: unknown\n"
     ]
    },
    {
     "name": "stdout",
     "output_type": "stream",
     "text": [
      "28th video done\n"
     ]
    },
    {
     "name": "stderr",
     "output_type": "stream",
     "text": [
      "ffmpeg version N-91330-ga990184007 Copyright (c) 2000-2018 the FFmpeg developers\n",
      "  built with gcc 7.3.0 (GCC)\n",
      "  configuration: --enable-gpl --enable-version3 --enable-sdl2 --enable-bzlib --enable-fontconfig --enable-gnutls --enable-iconv --enable-libass --enable-libbluray --enable-libfreetype --enable-libmp3lame --enable-libopencore-amrnb --enable-libopencore-amrwb --enable-libopenjpeg --enable-libopus --enable-libshine --enable-libsnappy --enable-libsoxr --enable-libtheora --enable-libtwolame --enable-libvpx --enable-libwavpack --enable-libwebp --enable-libx264 --enable-libx265 --enable-libxml2 --enable-libzimg --enable-lzma --enable-zlib --enable-gmp --enable-libvidstab --enable-libvorbis --enable-libvo-amrwbenc --enable-libmysofa --enable-libspeex --enable-libxvid --enable-libaom --enable-libmfx --enable-amf --enable-ffnvcodec --enable-cuvid --enable-d3d11va --enable-nvenc --enable-nvdec --enable-dxva2 --enable-avisynth\n",
      "  libavutil      56. 18.102 / 56. 18.102\n",
      "  libavcodec     58. 20.103 / 58. 20.103\n",
      "  libavformat    58. 17.100 / 58. 17.100\n",
      "  libavdevice    58.  4.101 / 58.  4.101\n",
      "  libavfilter     7. 25.100 /  7. 25.100\n",
      "  libswscale      5.  2.100 /  5.  2.100\n",
      "  libswresample   3.  2.100 /  3.  2.100\n",
      "  libpostproc    55.  2.100 / 55.  2.100\n",
      "Input #0, avi, from 'jogging/person08_jogging_d4_uncomp.avi':\n",
      "  Duration: 00:00:17.00, start: 0.000000, bitrate: 410 kb/s\n",
      "    Stream #0:0: Video: mpeg4 (DX50 / 0x30355844), yuv420p, 160x120 [SAR 1:1 DAR 4:3], 402 kb/s, 25 fps, 25 tbr, 25 tbn, 30k tbc\n",
      "Stream mapping:\n",
      "  Stream #0:0 -> #0:0 (mpeg4 (native) -> mjpeg (native))\n",
      "Press [q] to stop, [?] for help\n",
      "[swscaler @ 000002458b446140] deprecated pixel format used, make sure you did set range correctly\n",
      "Output #0, image2, to 'frames/jog%02d.jpg':\n",
      "  Metadata:\n",
      "    encoder         : Lavf58.17.100\n",
      "    Stream #0:0: Video: mjpeg, yuvj420p(pc), 160x120 [SAR 1:1 DAR 4:3], q=2-31, 200 kb/s, 25 fps, 25 tbn, 25 tbc\n",
      "    Metadata:\n",
      "      encoder         : Lavc58.20.103 mjpeg\n",
      "    Side data:\n",
      "      cpb: bitrate max/min/avg: 0/0/200000 buffer size: 0 vbv_delay: -1\n",
      "frame=   40 fps=0.0 q=3.9 Lsize=N/A time=00:00:01.60 bitrate=N/A speed=4.71x    \n",
      "video:68kB audio:0kB subtitle:0kB other streams:0kB global headers:0kB muxing overhead: unknown\n"
     ]
    },
    {
     "name": "stdout",
     "output_type": "stream",
     "text": [
      "29th video done\n"
     ]
    },
    {
     "name": "stderr",
     "output_type": "stream",
     "text": [
      "ffmpeg version N-91330-ga990184007 Copyright (c) 2000-2018 the FFmpeg developers\n",
      "  built with gcc 7.3.0 (GCC)\n",
      "  configuration: --enable-gpl --enable-version3 --enable-sdl2 --enable-bzlib --enable-fontconfig --enable-gnutls --enable-iconv --enable-libass --enable-libbluray --enable-libfreetype --enable-libmp3lame --enable-libopencore-amrnb --enable-libopencore-amrwb --enable-libopenjpeg --enable-libopus --enable-libshine --enable-libsnappy --enable-libsoxr --enable-libtheora --enable-libtwolame --enable-libvpx --enable-libwavpack --enable-libwebp --enable-libx264 --enable-libx265 --enable-libxml2 --enable-libzimg --enable-lzma --enable-zlib --enable-gmp --enable-libvidstab --enable-libvorbis --enable-libvo-amrwbenc --enable-libmysofa --enable-libspeex --enable-libxvid --enable-libaom --enable-libmfx --enable-amf --enable-ffnvcodec --enable-cuvid --enable-d3d11va --enable-nvenc --enable-nvdec --enable-dxva2 --enable-avisynth\n",
      "  libavutil      56. 18.102 / 56. 18.102\n",
      "  libavcodec     58. 20.103 / 58. 20.103\n",
      "  libavformat    58. 17.100 / 58. 17.100\n",
      "  libavdevice    58.  4.101 / 58.  4.101\n",
      "  libavfilter     7. 25.100 /  7. 25.100\n",
      "  libswscale      5.  2.100 /  5.  2.100\n",
      "  libswresample   3.  2.100 /  3.  2.100\n",
      "  libpostproc    55.  2.100 / 55.  2.100\n",
      "Input #0, avi, from 'jogging/person09_jogging_d1_uncomp.avi':\n",
      "  Duration: 00:00:18.60, start: 0.000000, bitrate: 1086 kb/s\n",
      "    Stream #0:0: Video: mpeg4 (DX50 / 0x30355844), yuv420p, 160x120 [SAR 1:1 DAR 4:3], 1080 kb/s, 25 fps, 25 tbr, 25 tbn, 30k tbc\n",
      "Stream mapping:\n",
      "  Stream #0:0 -> #0:0 (mpeg4 (native) -> mjpeg (native))\n",
      "Press [q] to stop, [?] for help\n",
      "[swscaler @ 000001cca9d2b980] deprecated pixel format used, make sure you did set range correctly\n",
      "Output #0, image2, to 'frames/jog%02d.jpg':\n",
      "  Metadata:\n",
      "    encoder         : Lavf58.17.100\n",
      "    Stream #0:0: Video: mjpeg, yuvj420p(pc), 160x120 [SAR 1:1 DAR 4:3], q=2-31, 200 kb/s, 25 fps, 25 tbn, 25 tbc\n",
      "    Metadata:\n",
      "      encoder         : Lavc58.20.103 mjpeg\n",
      "    Side data:\n",
      "      cpb: bitrate max/min/avg: 0/0/200000 buffer size: 0 vbv_delay: -1\n",
      "frame=   40 fps=0.0 q=10.7 size=N/A time=00:00:01.60 bitrate=N/A speed=3.13x    \n",
      "frame=   40 fps=0.0 q=10.7 Lsize=N/A time=00:00:01.60 bitrate=N/A speed=3.06x    \n",
      "video:86kB audio:0kB subtitle:0kB other streams:0kB global headers:0kB muxing overhead: unknown\n"
     ]
    },
    {
     "name": "stdout",
     "output_type": "stream",
     "text": [
      "30th video done\n"
     ]
    },
    {
     "name": "stderr",
     "output_type": "stream",
     "text": [
      "ffmpeg version N-91330-ga990184007 Copyright (c) 2000-2018 the FFmpeg developers\n",
      "  built with gcc 7.3.0 (GCC)\n",
      "  configuration: --enable-gpl --enable-version3 --enable-sdl2 --enable-bzlib --enable-fontconfig --enable-gnutls --enable-iconv --enable-libass --enable-libbluray --enable-libfreetype --enable-libmp3lame --enable-libopencore-amrnb --enable-libopencore-amrwb --enable-libopenjpeg --enable-libopus --enable-libshine --enable-libsnappy --enable-libsoxr --enable-libtheora --enable-libtwolame --enable-libvpx --enable-libwavpack --enable-libwebp --enable-libx264 --enable-libx265 --enable-libxml2 --enable-libzimg --enable-lzma --enable-zlib --enable-gmp --enable-libvidstab --enable-libvorbis --enable-libvo-amrwbenc --enable-libmysofa --enable-libspeex --enable-libxvid --enable-libaom --enable-libmfx --enable-amf --enable-ffnvcodec --enable-cuvid --enable-d3d11va --enable-nvenc --enable-nvdec --enable-dxva2 --enable-avisynth\n",
      "  libavutil      56. 18.102 / 56. 18.102\n",
      "  libavcodec     58. 20.103 / 58. 20.103\n",
      "  libavformat    58. 17.100 / 58. 17.100\n",
      "  libavdevice    58.  4.101 / 58.  4.101\n",
      "  libavfilter     7. 25.100 /  7. 25.100\n",
      "  libswscale      5.  2.100 /  5.  2.100\n",
      "  libswresample   3.  2.100 /  3.  2.100\n",
      "  libpostproc    55.  2.100 / 55.  2.100\n",
      "Input #0, avi, from 'jogging/person09_jogging_d2_uncomp.avi':\n",
      "  Duration: 00:00:21.60, start: 0.000000, bitrate: 883 kb/s\n",
      "    Stream #0:0: Video: mpeg4 (DX50 / 0x30355844), yuv420p, 160x120 [SAR 1:1 DAR 4:3], 877 kb/s, 25 fps, 25 tbr, 25 tbn, 30k tbc\n",
      "Stream mapping:\n",
      "  Stream #0:0 -> #0:0 (mpeg4 (native) -> mjpeg (native))\n",
      "Press [q] to stop, [?] for help\n",
      "[swscaler @ 00000267ecf26c80] deprecated pixel format used, make sure you did set range correctly\n",
      "Output #0, image2, to 'frames/jog%02d.jpg':\n",
      "  Metadata:\n",
      "    encoder         : Lavf58.17.100\n",
      "    Stream #0:0: Video: mjpeg, yuvj420p(pc), 160x120 [SAR 1:1 DAR 4:3], q=2-31, 200 kb/s, 25 fps, 25 tbn, 25 tbc\n",
      "    Metadata:\n",
      "      encoder         : Lavc58.20.103 mjpeg\n",
      "    Side data:\n",
      "      cpb: bitrate max/min/avg: 0/0/200000 buffer size: 0 vbv_delay: -1\n",
      "frame=   40 fps=0.0 q=8.1 Lsize=N/A time=00:00:01.60 bitrate=N/A speed=4.14x    \n",
      "video:81kB audio:0kB subtitle:0kB other streams:0kB global headers:0kB muxing overhead: unknown\n"
     ]
    },
    {
     "name": "stdout",
     "output_type": "stream",
     "text": [
      "31th video done\n"
     ]
    },
    {
     "name": "stderr",
     "output_type": "stream",
     "text": [
      "ffmpeg version N-91330-ga990184007 Copyright (c) 2000-2018 the FFmpeg developers\n",
      "  built with gcc 7.3.0 (GCC)\n",
      "  configuration: --enable-gpl --enable-version3 --enable-sdl2 --enable-bzlib --enable-fontconfig --enable-gnutls --enable-iconv --enable-libass --enable-libbluray --enable-libfreetype --enable-libmp3lame --enable-libopencore-amrnb --enable-libopencore-amrwb --enable-libopenjpeg --enable-libopus --enable-libshine --enable-libsnappy --enable-libsoxr --enable-libtheora --enable-libtwolame --enable-libvpx --enable-libwavpack --enable-libwebp --enable-libx264 --enable-libx265 --enable-libxml2 --enable-libzimg --enable-lzma --enable-zlib --enable-gmp --enable-libvidstab --enable-libvorbis --enable-libvo-amrwbenc --enable-libmysofa --enable-libspeex --enable-libxvid --enable-libaom --enable-libmfx --enable-amf --enable-ffnvcodec --enable-cuvid --enable-d3d11va --enable-nvenc --enable-nvdec --enable-dxva2 --enable-avisynth\n",
      "  libavutil      56. 18.102 / 56. 18.102\n",
      "  libavcodec     58. 20.103 / 58. 20.103\n",
      "  libavformat    58. 17.100 / 58. 17.100\n",
      "  libavdevice    58.  4.101 / 58.  4.101\n",
      "  libavfilter     7. 25.100 /  7. 25.100\n",
      "  libswscale      5.  2.100 /  5.  2.100\n",
      "  libswresample   3.  2.100 /  3.  2.100\n",
      "  libpostproc    55.  2.100 / 55.  2.100\n",
      "Input #0, avi, from 'jogging/person09_jogging_d3_uncomp.avi':\n",
      "  Duration: 00:00:17.60, start: 0.000000, bitrate: 1092 kb/s\n",
      "    Stream #0:0: Video: mpeg4 (DX50 / 0x30355844), yuv420p, 160x120 [SAR 1:1 DAR 4:3], 1086 kb/s, 25 fps, 25 tbr, 25 tbn, 30k tbc\n",
      "Stream mapping:\n",
      "  Stream #0:0 -> #0:0 (mpeg4 (native) -> mjpeg (native))\n",
      "Press [q] to stop, [?] for help\n",
      "[swscaler @ 000001c43dec5c00] deprecated pixel format used, make sure you did set range correctly\n",
      "Output #0, image2, to 'frames/jog%02d.jpg':\n",
      "  Metadata:\n",
      "    encoder         : Lavf58.17.100\n",
      "    Stream #0:0: Video: mjpeg, yuvj420p(pc), 160x120 [SAR 1:1 DAR 4:3], q=2-31, 200 kb/s, 25 fps, 25 tbn, 25 tbc\n",
      "    Metadata:\n",
      "      encoder         : Lavc58.20.103 mjpeg\n",
      "    Side data:\n",
      "      cpb: bitrate max/min/avg: 0/0/200000 buffer size: 0 vbv_delay: -1\n",
      "frame=   40 fps=0.0 q=12.4 Lsize=N/A time=00:00:01.60 bitrate=N/A speed=3.58x    \n",
      "video:90kB audio:0kB subtitle:0kB other streams:0kB global headers:0kB muxing overhead: unknown\n"
     ]
    },
    {
     "name": "stdout",
     "output_type": "stream",
     "text": [
      "32th video done\n"
     ]
    },
    {
     "name": "stderr",
     "output_type": "stream",
     "text": [
      "ffmpeg version N-91330-ga990184007 Copyright (c) 2000-2018 the FFmpeg developers\n",
      "  built with gcc 7.3.0 (GCC)\n",
      "  configuration: --enable-gpl --enable-version3 --enable-sdl2 --enable-bzlib --enable-fontconfig --enable-gnutls --enable-iconv --enable-libass --enable-libbluray --enable-libfreetype --enable-libmp3lame --enable-libopencore-amrnb --enable-libopencore-amrwb --enable-libopenjpeg --enable-libopus --enable-libshine --enable-libsnappy --enable-libsoxr --enable-libtheora --enable-libtwolame --enable-libvpx --enable-libwavpack --enable-libwebp --enable-libx264 --enable-libx265 --enable-libxml2 --enable-libzimg --enable-lzma --enable-zlib --enable-gmp --enable-libvidstab --enable-libvorbis --enable-libvo-amrwbenc --enable-libmysofa --enable-libspeex --enable-libxvid --enable-libaom --enable-libmfx --enable-amf --enable-ffnvcodec --enable-cuvid --enable-d3d11va --enable-nvenc --enable-nvdec --enable-dxva2 --enable-avisynth\n",
      "  libavutil      56. 18.102 / 56. 18.102\n",
      "  libavcodec     58. 20.103 / 58. 20.103\n",
      "  libavformat    58. 17.100 / 58. 17.100\n",
      "  libavdevice    58.  4.101 / 58.  4.101\n",
      "  libavfilter     7. 25.100 /  7. 25.100\n",
      "  libswscale      5.  2.100 /  5.  2.100\n",
      "  libswresample   3.  2.100 /  3.  2.100\n",
      "  libpostproc    55.  2.100 / 55.  2.100\n",
      "Input #0, avi, from 'jogging/person09_jogging_d4_uncomp.avi':\n",
      "  Duration: 00:00:14.00, start: 0.000000, bitrate: 500 kb/s\n",
      "    Stream #0:0: Video: mpeg4 (DX50 / 0x30355844), yuv420p, 160x120 [SAR 1:1 DAR 4:3], 491 kb/s, 25 fps, 25 tbr, 25 tbn, 30k tbc\n",
      "Stream mapping:\n",
      "  Stream #0:0 -> #0:0 (mpeg4 (native) -> mjpeg (native))\n",
      "Press [q] to stop, [?] for help\n",
      "[swscaler @ 000001c7d08288c0] deprecated pixel format used, make sure you did set range correctly\n",
      "Output #0, image2, to 'frames/jog%02d.jpg':\n",
      "  Metadata:\n",
      "    encoder         : Lavf58.17.100\n",
      "    Stream #0:0: Video: mjpeg, yuvj420p(pc), 160x120 [SAR 1:1 DAR 4:3], q=2-31, 200 kb/s, 25 fps, 25 tbn, 25 tbc\n",
      "    Metadata:\n",
      "      encoder         : Lavc58.20.103 mjpeg\n",
      "    Side data:\n",
      "      cpb: bitrate max/min/avg: 0/0/200000 buffer size: 0 vbv_delay: -1\n",
      "frame=   40 fps=0.0 q=4.2 Lsize=N/A time=00:00:01.60 bitrate=N/A speed=5.34x    \n",
      "video:68kB audio:0kB subtitle:0kB other streams:0kB global headers:0kB muxing overhead: unknown\n"
     ]
    },
    {
     "name": "stdout",
     "output_type": "stream",
     "text": [
      "33th video done\n"
     ]
    },
    {
     "name": "stderr",
     "output_type": "stream",
     "text": [
      "ffmpeg version N-91330-ga990184007 Copyright (c) 2000-2018 the FFmpeg developers\n",
      "  built with gcc 7.3.0 (GCC)\n",
      "  configuration: --enable-gpl --enable-version3 --enable-sdl2 --enable-bzlib --enable-fontconfig --enable-gnutls --enable-iconv --enable-libass --enable-libbluray --enable-libfreetype --enable-libmp3lame --enable-libopencore-amrnb --enable-libopencore-amrwb --enable-libopenjpeg --enable-libopus --enable-libshine --enable-libsnappy --enable-libsoxr --enable-libtheora --enable-libtwolame --enable-libvpx --enable-libwavpack --enable-libwebp --enable-libx264 --enable-libx265 --enable-libxml2 --enable-libzimg --enable-lzma --enable-zlib --enable-gmp --enable-libvidstab --enable-libvorbis --enable-libvo-amrwbenc --enable-libmysofa --enable-libspeex --enable-libxvid --enable-libaom --enable-libmfx --enable-amf --enable-ffnvcodec --enable-cuvid --enable-d3d11va --enable-nvenc --enable-nvdec --enable-dxva2 --enable-avisynth\n",
      "  libavutil      56. 18.102 / 56. 18.102\n",
      "  libavcodec     58. 20.103 / 58. 20.103\n",
      "  libavformat    58. 17.100 / 58. 17.100\n",
      "  libavdevice    58.  4.101 / 58.  4.101\n",
      "  libavfilter     7. 25.100 /  7. 25.100\n",
      "  libswscale      5.  2.100 /  5.  2.100\n",
      "  libswresample   3.  2.100 /  3.  2.100\n",
      "  libpostproc    55.  2.100 / 55.  2.100\n",
      "Input #0, avi, from 'jogging/person10_jogging_d1_uncomp.avi':\n",
      "  Duration: 00:00:17.00, start: 0.000000, bitrate: 773 kb/s\n",
      "    Stream #0:0: Video: mpeg4 (DX50 / 0x30355844), yuv420p, 160x120 [SAR 1:1 DAR 4:3], 766 kb/s, 25 fps, 25 tbr, 25 tbn, 30k tbc\n",
      "Stream mapping:\n",
      "  Stream #0:0 -> #0:0 (mpeg4 (native) -> mjpeg (native))\n",
      "Press [q] to stop, [?] for help\n",
      "[swscaler @ 000002217084fc00] deprecated pixel format used, make sure you did set range correctly\n",
      "Output #0, image2, to 'frames/jog%02d.jpg':\n",
      "  Metadata:\n",
      "    encoder         : Lavf58.17.100\n",
      "    Stream #0:0: Video: mjpeg, yuvj420p(pc), 160x120 [SAR 1:1 DAR 4:3], q=2-31, 200 kb/s, 25 fps, 25 tbn, 25 tbc\n",
      "    Metadata:\n",
      "      encoder         : Lavc58.20.103 mjpeg\n",
      "    Side data:\n",
      "      cpb: bitrate max/min/avg: 0/0/200000 buffer size: 0 vbv_delay: -1\n",
      "frame=   40 fps=0.0 q=6.9 Lsize=N/A time=00:00:01.60 bitrate=N/A speed=4.61x    \n",
      "video:77kB audio:0kB subtitle:0kB other streams:0kB global headers:0kB muxing overhead: unknown\n"
     ]
    },
    {
     "name": "stdout",
     "output_type": "stream",
     "text": [
      "34th video done\n"
     ]
    },
    {
     "name": "stderr",
     "output_type": "stream",
     "text": [
      "ffmpeg version N-91330-ga990184007 Copyright (c) 2000-2018 the FFmpeg developers\n",
      "  built with gcc 7.3.0 (GCC)\n",
      "  configuration: --enable-gpl --enable-version3 --enable-sdl2 --enable-bzlib --enable-fontconfig --enable-gnutls --enable-iconv --enable-libass --enable-libbluray --enable-libfreetype --enable-libmp3lame --enable-libopencore-amrnb --enable-libopencore-amrwb --enable-libopenjpeg --enable-libopus --enable-libshine --enable-libsnappy --enable-libsoxr --enable-libtheora --enable-libtwolame --enable-libvpx --enable-libwavpack --enable-libwebp --enable-libx264 --enable-libx265 --enable-libxml2 --enable-libzimg --enable-lzma --enable-zlib --enable-gmp --enable-libvidstab --enable-libvorbis --enable-libvo-amrwbenc --enable-libmysofa --enable-libspeex --enable-libxvid --enable-libaom --enable-libmfx --enable-amf --enable-ffnvcodec --enable-cuvid --enable-d3d11va --enable-nvenc --enable-nvdec --enable-dxva2 --enable-avisynth\n",
      "  libavutil      56. 18.102 / 56. 18.102\n",
      "  libavcodec     58. 20.103 / 58. 20.103\n",
      "  libavformat    58. 17.100 / 58. 17.100\n",
      "  libavdevice    58.  4.101 / 58.  4.101\n",
      "  libavfilter     7. 25.100 /  7. 25.100\n",
      "  libswscale      5.  2.100 /  5.  2.100\n",
      "  libswresample   3.  2.100 /  3.  2.100\n",
      "  libpostproc    55.  2.100 / 55.  2.100\n",
      "Input #0, avi, from 'jogging/person10_jogging_d2_uncomp.avi':\n",
      "  Duration: 00:00:26.20, start: 0.000000, bitrate: 701 kb/s\n",
      "    Stream #0:0: Video: mpeg4 (DX50 / 0x30355844), yuv420p, 160x120 [SAR 1:1 DAR 4:3], 694 kb/s, 25 fps, 25 tbr, 25 tbn, 30k tbc\n",
      "Stream mapping:\n",
      "  Stream #0:0 -> #0:0 (mpeg4 (native) -> mjpeg (native))\n",
      "Press [q] to stop, [?] for help\n",
      "[swscaler @ 00000241b76576c0] deprecated pixel format used, make sure you did set range correctly\n",
      "Output #0, image2, to 'frames/jog%02d.jpg':\n",
      "  Metadata:\n",
      "    encoder         : Lavf58.17.100\n",
      "    Stream #0:0: Video: mjpeg, yuvj420p(pc), 160x120 [SAR 1:1 DAR 4:3], q=2-31, 200 kb/s, 25 fps, 25 tbn, 25 tbc\n",
      "    Metadata:\n",
      "      encoder         : Lavc58.20.103 mjpeg\n",
      "    Side data:\n",
      "      cpb: bitrate max/min/avg: 0/0/200000 buffer size: 0 vbv_delay: -1\n",
      "frame=   40 fps=0.0 q=6.4 Lsize=N/A time=00:00:01.60 bitrate=N/A speed=4.17x    \n",
      "video:77kB audio:0kB subtitle:0kB other streams:0kB global headers:0kB muxing overhead: unknown\n"
     ]
    },
    {
     "name": "stdout",
     "output_type": "stream",
     "text": [
      "35th video done\n"
     ]
    },
    {
     "name": "stderr",
     "output_type": "stream",
     "text": [
      "ffmpeg version N-91330-ga990184007 Copyright (c) 2000-2018 the FFmpeg developers\n",
      "  built with gcc 7.3.0 (GCC)\n",
      "  configuration: --enable-gpl --enable-version3 --enable-sdl2 --enable-bzlib --enable-fontconfig --enable-gnutls --enable-iconv --enable-libass --enable-libbluray --enable-libfreetype --enable-libmp3lame --enable-libopencore-amrnb --enable-libopencore-amrwb --enable-libopenjpeg --enable-libopus --enable-libshine --enable-libsnappy --enable-libsoxr --enable-libtheora --enable-libtwolame --enable-libvpx --enable-libwavpack --enable-libwebp --enable-libx264 --enable-libx265 --enable-libxml2 --enable-libzimg --enable-lzma --enable-zlib --enable-gmp --enable-libvidstab --enable-libvorbis --enable-libvo-amrwbenc --enable-libmysofa --enable-libspeex --enable-libxvid --enable-libaom --enable-libmfx --enable-amf --enable-ffnvcodec --enable-cuvid --enable-d3d11va --enable-nvenc --enable-nvdec --enable-dxva2 --enable-avisynth\n",
      "  libavutil      56. 18.102 / 56. 18.102\n",
      "  libavcodec     58. 20.103 / 58. 20.103\n",
      "  libavformat    58. 17.100 / 58. 17.100\n",
      "  libavdevice    58.  4.101 / 58.  4.101\n",
      "  libavfilter     7. 25.100 /  7. 25.100\n",
      "  libswscale      5.  2.100 /  5.  2.100\n",
      "  libswresample   3.  2.100 /  3.  2.100\n",
      "  libpostproc    55.  2.100 / 55.  2.100\n",
      "Input #0, avi, from 'jogging/person10_jogging_d3_uncomp.avi':\n",
      "  Duration: 00:00:16.00, start: 0.000000, bitrate: 1003 kb/s\n",
      "    Stream #0:0: Video: mpeg4 (DX50 / 0x30355844), yuv420p, 160x120 [SAR 1:1 DAR 4:3], 996 kb/s, 25 fps, 25 tbr, 25 tbn, 30k tbc\n",
      "Stream mapping:\n",
      "  Stream #0:0 -> #0:0 (mpeg4 (native) -> mjpeg (native))\n",
      "Press [q] to stop, [?] for help\n",
      "[swscaler @ 0000022ed36da500] deprecated pixel format used, make sure you did set range correctly\n",
      "Output #0, image2, to 'frames/jog%02d.jpg':\n",
      "  Metadata:\n",
      "    encoder         : Lavf58.17.100\n",
      "    Stream #0:0: Video: mjpeg, yuvj420p(pc), 160x120 [SAR 1:1 DAR 4:3], q=2-31, 200 kb/s, 25 fps, 25 tbn, 25 tbc\n",
      "    Metadata:\n",
      "      encoder         : Lavc58.20.103 mjpeg\n",
      "    Side data:\n",
      "      cpb: bitrate max/min/avg: 0/0/200000 buffer size: 0 vbv_delay: -1\n",
      "frame=   40 fps=0.0 q=8.7 Lsize=N/A time=00:00:01.60 bitrate=N/A speed=5.21x    \n",
      "video:82kB audio:0kB subtitle:0kB other streams:0kB global headers:0kB muxing overhead: unknown\n"
     ]
    },
    {
     "name": "stdout",
     "output_type": "stream",
     "text": [
      "36th video done\n"
     ]
    },
    {
     "name": "stderr",
     "output_type": "stream",
     "text": [
      "ffmpeg version N-91330-ga990184007 Copyright (c) 2000-2018 the FFmpeg developers\n",
      "  built with gcc 7.3.0 (GCC)\n",
      "  configuration: --enable-gpl --enable-version3 --enable-sdl2 --enable-bzlib --enable-fontconfig --enable-gnutls --enable-iconv --enable-libass --enable-libbluray --enable-libfreetype --enable-libmp3lame --enable-libopencore-amrnb --enable-libopencore-amrwb --enable-libopenjpeg --enable-libopus --enable-libshine --enable-libsnappy --enable-libsoxr --enable-libtheora --enable-libtwolame --enable-libvpx --enable-libwavpack --enable-libwebp --enable-libx264 --enable-libx265 --enable-libxml2 --enable-libzimg --enable-lzma --enable-zlib --enable-gmp --enable-libvidstab --enable-libvorbis --enable-libvo-amrwbenc --enable-libmysofa --enable-libspeex --enable-libxvid --enable-libaom --enable-libmfx --enable-amf --enable-ffnvcodec --enable-cuvid --enable-d3d11va --enable-nvenc --enable-nvdec --enable-dxva2 --enable-avisynth\n",
      "  libavutil      56. 18.102 / 56. 18.102\n",
      "  libavcodec     58. 20.103 / 58. 20.103\n",
      "  libavformat    58. 17.100 / 58. 17.100\n",
      "  libavdevice    58.  4.101 / 58.  4.101\n",
      "  libavfilter     7. 25.100 /  7. 25.100\n",
      "  libswscale      5.  2.100 /  5.  2.100\n",
      "  libswresample   3.  2.100 /  3.  2.100\n",
      "  libpostproc    55.  2.100 / 55.  2.100\n",
      "Input #0, avi, from 'jogging/person10_jogging_d4_uncomp.avi':\n",
      "  Duration: 00:00:14.52, start: 0.000000, bitrate: 363 kb/s\n",
      "    Stream #0:0: Video: mpeg4 (DX50 / 0x30355844), yuv420p, 160x120 [SAR 1:1 DAR 4:3], 354 kb/s, 25 fps, 25 tbr, 25 tbn, 30k tbc\n",
      "Stream mapping:\n",
      "  Stream #0:0 -> #0:0 (mpeg4 (native) -> mjpeg (native))\n",
      "Press [q] to stop, [?] for help\n",
      "[swscaler @ 000001ec1f5f50c0] deprecated pixel format used, make sure you did set range correctly\n",
      "Output #0, image2, to 'frames/jog%02d.jpg':\n",
      "  Metadata:\n",
      "    encoder         : Lavf58.17.100\n",
      "    Stream #0:0: Video: mjpeg, yuvj420p(pc), 160x120 [SAR 1:1 DAR 4:3], q=2-31, 200 kb/s, 25 fps, 25 tbn, 25 tbc\n",
      "    Metadata:\n",
      "      encoder         : Lavc58.20.103 mjpeg\n",
      "    Side data:\n",
      "      cpb: bitrate max/min/avg: 0/0/200000 buffer size: 0 vbv_delay: -1\n",
      "frame=   40 fps=0.0 q=5.0 Lsize=N/A time=00:00:01.60 bitrate=N/A speed=5.06x    \n",
      "video:70kB audio:0kB subtitle:0kB other streams:0kB global headers:0kB muxing overhead: unknown\n"
     ]
    },
    {
     "name": "stdout",
     "output_type": "stream",
     "text": [
      "37th video done\n"
     ]
    },
    {
     "name": "stderr",
     "output_type": "stream",
     "text": [
      "ffmpeg version N-91330-ga990184007 Copyright (c) 2000-2018 the FFmpeg developers\n",
      "  built with gcc 7.3.0 (GCC)\n",
      "  configuration: --enable-gpl --enable-version3 --enable-sdl2 --enable-bzlib --enable-fontconfig --enable-gnutls --enable-iconv --enable-libass --enable-libbluray --enable-libfreetype --enable-libmp3lame --enable-libopencore-amrnb --enable-libopencore-amrwb --enable-libopenjpeg --enable-libopus --enable-libshine --enable-libsnappy --enable-libsoxr --enable-libtheora --enable-libtwolame --enable-libvpx --enable-libwavpack --enable-libwebp --enable-libx264 --enable-libx265 --enable-libxml2 --enable-libzimg --enable-lzma --enable-zlib --enable-gmp --enable-libvidstab --enable-libvorbis --enable-libvo-amrwbenc --enable-libmysofa --enable-libspeex --enable-libxvid --enable-libaom --enable-libmfx --enable-amf --enable-ffnvcodec --enable-cuvid --enable-d3d11va --enable-nvenc --enable-nvdec --enable-dxva2 --enable-avisynth\n",
      "  libavutil      56. 18.102 / 56. 18.102\n",
      "  libavcodec     58. 20.103 / 58. 20.103\n",
      "  libavformat    58. 17.100 / 58. 17.100\n",
      "  libavdevice    58.  4.101 / 58.  4.101\n",
      "  libavfilter     7. 25.100 /  7. 25.100\n",
      "  libswscale      5.  2.100 /  5.  2.100\n",
      "  libswresample   3.  2.100 /  3.  2.100\n",
      "  libpostproc    55.  2.100 / 55.  2.100\n",
      "Input #0, avi, from 'jogging/person11_jogging_d1_uncomp.avi':\n",
      "  Duration: 00:00:16.00, start: 0.000000, bitrate: 973 kb/s\n",
      "    Stream #0:0: Video: mpeg4 (DX50 / 0x30355844), yuv420p, 160x120 [SAR 1:1 DAR 4:3], 966 kb/s, 25 fps, 25 tbr, 25 tbn, 30k tbc\n",
      "Stream mapping:\n",
      "  Stream #0:0 -> #0:0 (mpeg4 (native) -> mjpeg (native))\n",
      "Press [q] to stop, [?] for help\n",
      "[swscaler @ 000001fc05f81700] deprecated pixel format used, make sure you did set range correctly\n",
      "Output #0, image2, to 'frames/jog%02d.jpg':\n",
      "  Metadata:\n",
      "    encoder         : Lavf58.17.100\n",
      "    Stream #0:0: Video: mjpeg, yuvj420p(pc), 160x120 [SAR 1:1 DAR 4:3], q=2-31, 200 kb/s, 25 fps, 25 tbn, 25 tbc\n",
      "    Metadata:\n",
      "      encoder         : Lavc58.20.103 mjpeg\n",
      "    Side data:\n",
      "      cpb: bitrate max/min/avg: 0/0/200000 buffer size: 0 vbv_delay: -1\n",
      "frame=   40 fps=0.0 q=9.7 Lsize=N/A time=00:00:01.60 bitrate=N/A speed=4.83x    \n",
      "video:81kB audio:0kB subtitle:0kB other streams:0kB global headers:0kB muxing overhead: unknown\n"
     ]
    },
    {
     "name": "stdout",
     "output_type": "stream",
     "text": [
      "38th video done\n"
     ]
    },
    {
     "name": "stderr",
     "output_type": "stream",
     "text": [
      "ffmpeg version N-91330-ga990184007 Copyright (c) 2000-2018 the FFmpeg developers\n",
      "  built with gcc 7.3.0 (GCC)\n",
      "  configuration: --enable-gpl --enable-version3 --enable-sdl2 --enable-bzlib --enable-fontconfig --enable-gnutls --enable-iconv --enable-libass --enable-libbluray --enable-libfreetype --enable-libmp3lame --enable-libopencore-amrnb --enable-libopencore-amrwb --enable-libopenjpeg --enable-libopus --enable-libshine --enable-libsnappy --enable-libsoxr --enable-libtheora --enable-libtwolame --enable-libvpx --enable-libwavpack --enable-libwebp --enable-libx264 --enable-libx265 --enable-libxml2 --enable-libzimg --enable-lzma --enable-zlib --enable-gmp --enable-libvidstab --enable-libvorbis --enable-libvo-amrwbenc --enable-libmysofa --enable-libspeex --enable-libxvid --enable-libaom --enable-libmfx --enable-amf --enable-ffnvcodec --enable-cuvid --enable-d3d11va --enable-nvenc --enable-nvdec --enable-dxva2 --enable-avisynth\n",
      "  libavutil      56. 18.102 / 56. 18.102\n",
      "  libavcodec     58. 20.103 / 58. 20.103\n",
      "  libavformat    58. 17.100 / 58. 17.100\n",
      "  libavdevice    58.  4.101 / 58.  4.101\n",
      "  libavfilter     7. 25.100 /  7. 25.100\n",
      "  libswscale      5.  2.100 /  5.  2.100\n",
      "  libswresample   3.  2.100 /  3.  2.100\n",
      "  libpostproc    55.  2.100 / 55.  2.100\n",
      "Input #0, avi, from 'jogging/person11_jogging_d2_uncomp.avi':\n",
      "  Duration: 00:00:18.00, start: 0.000000, bitrate: 986 kb/s\n",
      "    Stream #0:0: Video: mpeg4 (DX50 / 0x30355844), yuv420p, 160x120 [SAR 1:1 DAR 4:3], 980 kb/s, 25 fps, 25 tbr, 25 tbn, 30k tbc\n",
      "Stream mapping:\n",
      "  Stream #0:0 -> #0:0 (mpeg4 (native) -> mjpeg (native))\n",
      "Press [q] to stop, [?] for help\n",
      "[swscaler @ 000001b2ba76f740] deprecated pixel format used, make sure you did set range correctly\n",
      "Output #0, image2, to 'frames/jog%02d.jpg':\n",
      "  Metadata:\n",
      "    encoder         : Lavf58.17.100\n",
      "    Stream #0:0: Video: mjpeg, yuvj420p(pc), 160x120 [SAR 1:1 DAR 4:3], q=2-31, 200 kb/s, 25 fps, 25 tbn, 25 tbc\n",
      "    Metadata:\n",
      "      encoder         : Lavc58.20.103 mjpeg\n",
      "    Side data:\n",
      "      cpb: bitrate max/min/avg: 0/0/200000 buffer size: 0 vbv_delay: -1\n",
      "frame=   40 fps=0.0 q=10.3 Lsize=N/A time=00:00:01.60 bitrate=N/A speed=4.96x    \n",
      "video:82kB audio:0kB subtitle:0kB other streams:0kB global headers:0kB muxing overhead: unknown\n"
     ]
    },
    {
     "name": "stdout",
     "output_type": "stream",
     "text": [
      "39th video done\n"
     ]
    },
    {
     "name": "stderr",
     "output_type": "stream",
     "text": [
      "ffmpeg version N-91330-ga990184007 Copyright (c) 2000-2018 the FFmpeg developers\n",
      "  built with gcc 7.3.0 (GCC)\n",
      "  configuration: --enable-gpl --enable-version3 --enable-sdl2 --enable-bzlib --enable-fontconfig --enable-gnutls --enable-iconv --enable-libass --enable-libbluray --enable-libfreetype --enable-libmp3lame --enable-libopencore-amrnb --enable-libopencore-amrwb --enable-libopenjpeg --enable-libopus --enable-libshine --enable-libsnappy --enable-libsoxr --enable-libtheora --enable-libtwolame --enable-libvpx --enable-libwavpack --enable-libwebp --enable-libx264 --enable-libx265 --enable-libxml2 --enable-libzimg --enable-lzma --enable-zlib --enable-gmp --enable-libvidstab --enable-libvorbis --enable-libvo-amrwbenc --enable-libmysofa --enable-libspeex --enable-libxvid --enable-libaom --enable-libmfx --enable-amf --enable-ffnvcodec --enable-cuvid --enable-d3d11va --enable-nvenc --enable-nvdec --enable-dxva2 --enable-avisynth\n",
      "  libavutil      56. 18.102 / 56. 18.102\n",
      "  libavcodec     58. 20.103 / 58. 20.103\n",
      "  libavformat    58. 17.100 / 58. 17.100\n",
      "  libavdevice    58.  4.101 / 58.  4.101\n",
      "  libavfilter     7. 25.100 /  7. 25.100\n",
      "  libswscale      5.  2.100 /  5.  2.100\n",
      "  libswresample   3.  2.100 /  3.  2.100\n",
      "  libpostproc    55.  2.100 / 55.  2.100\n",
      "Input #0, avi, from 'jogging/person11_jogging_d3_uncomp.avi':\n",
      "  Duration: 00:00:16.60, start: 0.000000, bitrate: 1128 kb/s\n",
      "    Stream #0:0: Video: mpeg4 (DX50 / 0x30355844), yuv420p, 160x120 [SAR 1:1 DAR 4:3], 1121 kb/s, 25 fps, 25 tbr, 25 tbn, 30k tbc\n",
      "Stream mapping:\n",
      "  Stream #0:0 -> #0:0 (mpeg4 (native) -> mjpeg (native))\n",
      "Press [q] to stop, [?] for help\n",
      "[swscaler @ 00000204a2e31080] deprecated pixel format used, make sure you did set range correctly\n",
      "Output #0, image2, to 'frames/jog%02d.jpg':\n",
      "  Metadata:\n",
      "    encoder         : Lavf58.17.100\n",
      "    Stream #0:0: Video: mjpeg, yuvj420p(pc), 160x120 [SAR 1:1 DAR 4:3], q=2-31, 200 kb/s, 25 fps, 25 tbn, 25 tbc\n",
      "    Metadata:\n",
      "      encoder         : Lavc58.20.103 mjpeg\n",
      "    Side data:\n",
      "      cpb: bitrate max/min/avg: 0/0/200000 buffer size: 0 vbv_delay: -1\n",
      "frame=   40 fps=0.0 q=10.5 Lsize=N/A time=00:00:01.60 bitrate=N/A speed=4.87x    \n",
      "video:85kB audio:0kB subtitle:0kB other streams:0kB global headers:0kB muxing overhead: unknown\n"
     ]
    },
    {
     "name": "stdout",
     "output_type": "stream",
     "text": [
      "40th video done\n"
     ]
    },
    {
     "name": "stderr",
     "output_type": "stream",
     "text": [
      "ffmpeg version N-91330-ga990184007 Copyright (c) 2000-2018 the FFmpeg developers\n",
      "  built with gcc 7.3.0 (GCC)\n",
      "  configuration: --enable-gpl --enable-version3 --enable-sdl2 --enable-bzlib --enable-fontconfig --enable-gnutls --enable-iconv --enable-libass --enable-libbluray --enable-libfreetype --enable-libmp3lame --enable-libopencore-amrnb --enable-libopencore-amrwb --enable-libopenjpeg --enable-libopus --enable-libshine --enable-libsnappy --enable-libsoxr --enable-libtheora --enable-libtwolame --enable-libvpx --enable-libwavpack --enable-libwebp --enable-libx264 --enable-libx265 --enable-libxml2 --enable-libzimg --enable-lzma --enable-zlib --enable-gmp --enable-libvidstab --enable-libvorbis --enable-libvo-amrwbenc --enable-libmysofa --enable-libspeex --enable-libxvid --enable-libaom --enable-libmfx --enable-amf --enable-ffnvcodec --enable-cuvid --enable-d3d11va --enable-nvenc --enable-nvdec --enable-dxva2 --enable-avisynth\n",
      "  libavutil      56. 18.102 / 56. 18.102\n",
      "  libavcodec     58. 20.103 / 58. 20.103\n",
      "  libavformat    58. 17.100 / 58. 17.100\n",
      "  libavdevice    58.  4.101 / 58.  4.101\n",
      "  libavfilter     7. 25.100 /  7. 25.100\n",
      "  libswscale      5.  2.100 /  5.  2.100\n",
      "  libswresample   3.  2.100 /  3.  2.100\n",
      "  libpostproc    55.  2.100 / 55.  2.100\n",
      "Input #0, avi, from 'jogging/person11_jogging_d4_uncomp.avi':\n",
      "  Duration: 00:00:15.60, start: 0.000000, bitrate: 361 kb/s\n",
      "    Stream #0:0: Video: mpeg4 (DX50 / 0x30355844), yuv420p, 160x120 [SAR 1:1 DAR 4:3], 352 kb/s, 25 fps, 25 tbr, 25 tbn, 30k tbc\n",
      "Stream mapping:\n",
      "  Stream #0:0 -> #0:0 (mpeg4 (native) -> mjpeg (native))\n",
      "Press [q] to stop, [?] for help\n",
      "[swscaler @ 0000023286c58940] deprecated pixel format used, make sure you did set range correctly\n",
      "Output #0, image2, to 'frames/jog%02d.jpg':\n",
      "  Metadata:\n",
      "    encoder         : Lavf58.17.100\n",
      "    Stream #0:0: Video: mjpeg, yuvj420p(pc), 160x120 [SAR 1:1 DAR 4:3], q=2-31, 200 kb/s, 25 fps, 25 tbn, 25 tbc\n",
      "    Metadata:\n",
      "      encoder         : Lavc58.20.103 mjpeg\n",
      "    Side data:\n",
      "      cpb: bitrate max/min/avg: 0/0/200000 buffer size: 0 vbv_delay: -1\n",
      "frame=   40 fps=0.0 q=5.8 Lsize=N/A time=00:00:01.60 bitrate=N/A speed=3.43x    \n",
      "video:73kB audio:0kB subtitle:0kB other streams:0kB global headers:0kB muxing overhead: unknown\n"
     ]
    },
    {
     "name": "stdout",
     "output_type": "stream",
     "text": [
      "41th video done\n"
     ]
    },
    {
     "name": "stderr",
     "output_type": "stream",
     "text": [
      "ffmpeg version N-91330-ga990184007 Copyright (c) 2000-2018 the FFmpeg developers\n",
      "  built with gcc 7.3.0 (GCC)\n",
      "  configuration: --enable-gpl --enable-version3 --enable-sdl2 --enable-bzlib --enable-fontconfig --enable-gnutls --enable-iconv --enable-libass --enable-libbluray --enable-libfreetype --enable-libmp3lame --enable-libopencore-amrnb --enable-libopencore-amrwb --enable-libopenjpeg --enable-libopus --enable-libshine --enable-libsnappy --enable-libsoxr --enable-libtheora --enable-libtwolame --enable-libvpx --enable-libwavpack --enable-libwebp --enable-libx264 --enable-libx265 --enable-libxml2 --enable-libzimg --enable-lzma --enable-zlib --enable-gmp --enable-libvidstab --enable-libvorbis --enable-libvo-amrwbenc --enable-libmysofa --enable-libspeex --enable-libxvid --enable-libaom --enable-libmfx --enable-amf --enable-ffnvcodec --enable-cuvid --enable-d3d11va --enable-nvenc --enable-nvdec --enable-dxva2 --enable-avisynth\n",
      "  libavutil      56. 18.102 / 56. 18.102\n",
      "  libavcodec     58. 20.103 / 58. 20.103\n",
      "  libavformat    58. 17.100 / 58. 17.100\n",
      "  libavdevice    58.  4.101 / 58.  4.101\n",
      "  libavfilter     7. 25.100 /  7. 25.100\n",
      "  libswscale      5.  2.100 /  5.  2.100\n",
      "  libswresample   3.  2.100 /  3.  2.100\n",
      "  libpostproc    55.  2.100 / 55.  2.100\n",
      "Input #0, avi, from 'jogging/person12_jogging_d1_uncomp.avi':\n",
      "  Duration: 00:00:26.40, start: 0.000000, bitrate: 891 kb/s\n",
      "    Stream #0:0: Video: mpeg4 (DX50 / 0x30355844), yuv420p, 160x120 [SAR 1:1 DAR 4:3], 884 kb/s, 25 fps, 25 tbr, 25 tbn, 30k tbc\n",
      "Stream mapping:\n",
      "  Stream #0:0 -> #0:0 (mpeg4 (native) -> mjpeg (native))\n",
      "Press [q] to stop, [?] for help\n",
      "[swscaler @ 00000164cccdb180] deprecated pixel format used, make sure you did set range correctly\n",
      "Output #0, image2, to 'frames/jog%02d.jpg':\n",
      "  Metadata:\n",
      "    encoder         : Lavf58.17.100\n",
      "    Stream #0:0: Video: mjpeg, yuvj420p(pc), 160x120 [SAR 1:1 DAR 4:3], q=2-31, 200 kb/s, 25 fps, 25 tbn, 25 tbc\n",
      "    Metadata:\n",
      "      encoder         : Lavc58.20.103 mjpeg\n",
      "    Side data:\n",
      "      cpb: bitrate max/min/avg: 0/0/200000 buffer size: 0 vbv_delay: -1\n",
      "frame=   40 fps=0.0 q=11.7 Lsize=N/A time=00:00:01.60 bitrate=N/A speed=5.35x    \n",
      "video:89kB audio:0kB subtitle:0kB other streams:0kB global headers:0kB muxing overhead: unknown\n"
     ]
    },
    {
     "name": "stdout",
     "output_type": "stream",
     "text": [
      "42th video done\n"
     ]
    },
    {
     "name": "stderr",
     "output_type": "stream",
     "text": [
      "ffmpeg version N-91330-ga990184007 Copyright (c) 2000-2018 the FFmpeg developers\n",
      "  built with gcc 7.3.0 (GCC)\n",
      "  configuration: --enable-gpl --enable-version3 --enable-sdl2 --enable-bzlib --enable-fontconfig --enable-gnutls --enable-iconv --enable-libass --enable-libbluray --enable-libfreetype --enable-libmp3lame --enable-libopencore-amrnb --enable-libopencore-amrwb --enable-libopenjpeg --enable-libopus --enable-libshine --enable-libsnappy --enable-libsoxr --enable-libtheora --enable-libtwolame --enable-libvpx --enable-libwavpack --enable-libwebp --enable-libx264 --enable-libx265 --enable-libxml2 --enable-libzimg --enable-lzma --enable-zlib --enable-gmp --enable-libvidstab --enable-libvorbis --enable-libvo-amrwbenc --enable-libmysofa --enable-libspeex --enable-libxvid --enable-libaom --enable-libmfx --enable-amf --enable-ffnvcodec --enable-cuvid --enable-d3d11va --enable-nvenc --enable-nvdec --enable-dxva2 --enable-avisynth\n",
      "  libavutil      56. 18.102 / 56. 18.102\n",
      "  libavcodec     58. 20.103 / 58. 20.103\n",
      "  libavformat    58. 17.100 / 58. 17.100\n",
      "  libavdevice    58.  4.101 / 58.  4.101\n",
      "  libavfilter     7. 25.100 /  7. 25.100\n",
      "  libswscale      5.  2.100 /  5.  2.100\n",
      "  libswresample   3.  2.100 /  3.  2.100\n",
      "  libpostproc    55.  2.100 / 55.  2.100\n",
      "Input #0, avi, from 'jogging/person12_jogging_d2_uncomp.avi':\n",
      "  Duration: 00:00:20.40, start: 0.000000, bitrate: 942 kb/s\n",
      "    Stream #0:0: Video: mpeg4 (DX50 / 0x30355844), yuv420p, 160x120 [SAR 1:1 DAR 4:3], 935 kb/s, 25 fps, 25 tbr, 25 tbn, 30k tbc\n",
      "Stream mapping:\n",
      "  Stream #0:0 -> #0:0 (mpeg4 (native) -> mjpeg (native))\n",
      "Press [q] to stop, [?] for help\n",
      "[swscaler @ 000001d7ddb43f40] deprecated pixel format used, make sure you did set range correctly\n",
      "Output #0, image2, to 'frames/jog%02d.jpg':\n",
      "  Metadata:\n",
      "    encoder         : Lavf58.17.100\n",
      "    Stream #0:0: Video: mjpeg, yuvj420p(pc), 160x120 [SAR 1:1 DAR 4:3], q=2-31, 200 kb/s, 25 fps, 25 tbn, 25 tbc\n",
      "    Metadata:\n",
      "      encoder         : Lavc58.20.103 mjpeg\n",
      "    Side data:\n",
      "      cpb: bitrate max/min/avg: 0/0/200000 buffer size: 0 vbv_delay: -1\n",
      "frame=   40 fps=0.0 q=10.2 Lsize=N/A time=00:00:01.60 bitrate=N/A speed= 3.6x    \n",
      "video:86kB audio:0kB subtitle:0kB other streams:0kB global headers:0kB muxing overhead: unknown\n"
     ]
    },
    {
     "name": "stdout",
     "output_type": "stream",
     "text": [
      "43th video done\n"
     ]
    },
    {
     "name": "stderr",
     "output_type": "stream",
     "text": [
      "ffmpeg version N-91330-ga990184007 Copyright (c) 2000-2018 the FFmpeg developers\n",
      "  built with gcc 7.3.0 (GCC)\n",
      "  configuration: --enable-gpl --enable-version3 --enable-sdl2 --enable-bzlib --enable-fontconfig --enable-gnutls --enable-iconv --enable-libass --enable-libbluray --enable-libfreetype --enable-libmp3lame --enable-libopencore-amrnb --enable-libopencore-amrwb --enable-libopenjpeg --enable-libopus --enable-libshine --enable-libsnappy --enable-libsoxr --enable-libtheora --enable-libtwolame --enable-libvpx --enable-libwavpack --enable-libwebp --enable-libx264 --enable-libx265 --enable-libxml2 --enable-libzimg --enable-lzma --enable-zlib --enable-gmp --enable-libvidstab --enable-libvorbis --enable-libvo-amrwbenc --enable-libmysofa --enable-libspeex --enable-libxvid --enable-libaom --enable-libmfx --enable-amf --enable-ffnvcodec --enable-cuvid --enable-d3d11va --enable-nvenc --enable-nvdec --enable-dxva2 --enable-avisynth\n",
      "  libavutil      56. 18.102 / 56. 18.102\n",
      "  libavcodec     58. 20.103 / 58. 20.103\n",
      "  libavformat    58. 17.100 / 58. 17.100\n",
      "  libavdevice    58.  4.101 / 58.  4.101\n",
      "  libavfilter     7. 25.100 /  7. 25.100\n",
      "  libswscale      5.  2.100 /  5.  2.100\n",
      "  libswresample   3.  2.100 /  3.  2.100\n",
      "  libpostproc    55.  2.100 / 55.  2.100\n",
      "Input #0, avi, from 'jogging/person12_jogging_d3_uncomp.avi':\n",
      "  Duration: 00:00:16.40, start: 0.000000, bitrate: 1076 kb/s\n",
      "    Stream #0:0: Video: mpeg4 (DX50 / 0x30355844), yuv420p, 160x120 [SAR 1:1 DAR 4:3], 1069 kb/s, 25 fps, 25 tbr, 25 tbn, 30k tbc\n",
      "Stream mapping:\n",
      "  Stream #0:0 -> #0:0 (mpeg4 (native) -> mjpeg (native))\n",
      "Press [q] to stop, [?] for help\n",
      "[swscaler @ 00000259f1faf2c0] deprecated pixel format used, make sure you did set range correctly\n",
      "Output #0, image2, to 'frames/jog%02d.jpg':\n",
      "  Metadata:\n",
      "    encoder         : Lavf58.17.100\n",
      "    Stream #0:0: Video: mjpeg, yuvj420p(pc), 160x120 [SAR 1:1 DAR 4:3], q=2-31, 200 kb/s, 25 fps, 25 tbn, 25 tbc\n",
      "    Metadata:\n",
      "      encoder         : Lavc58.20.103 mjpeg\n",
      "    Side data:\n",
      "      cpb: bitrate max/min/avg: 0/0/200000 buffer size: 0 vbv_delay: -1\n",
      "frame=   40 fps=0.0 q=9.3 Lsize=N/A time=00:00:01.60 bitrate=N/A speed=4.77x    \n",
      "video:85kB audio:0kB subtitle:0kB other streams:0kB global headers:0kB muxing overhead: unknown\n"
     ]
    },
    {
     "name": "stdout",
     "output_type": "stream",
     "text": [
      "44th video done\n"
     ]
    },
    {
     "name": "stderr",
     "output_type": "stream",
     "text": [
      "ffmpeg version N-91330-ga990184007 Copyright (c) 2000-2018 the FFmpeg developers\n",
      "  built with gcc 7.3.0 (GCC)\n",
      "  configuration: --enable-gpl --enable-version3 --enable-sdl2 --enable-bzlib --enable-fontconfig --enable-gnutls --enable-iconv --enable-libass --enable-libbluray --enable-libfreetype --enable-libmp3lame --enable-libopencore-amrnb --enable-libopencore-amrwb --enable-libopenjpeg --enable-libopus --enable-libshine --enable-libsnappy --enable-libsoxr --enable-libtheora --enable-libtwolame --enable-libvpx --enable-libwavpack --enable-libwebp --enable-libx264 --enable-libx265 --enable-libxml2 --enable-libzimg --enable-lzma --enable-zlib --enable-gmp --enable-libvidstab --enable-libvorbis --enable-libvo-amrwbenc --enable-libmysofa --enable-libspeex --enable-libxvid --enable-libaom --enable-libmfx --enable-amf --enable-ffnvcodec --enable-cuvid --enable-d3d11va --enable-nvenc --enable-nvdec --enable-dxva2 --enable-avisynth\n",
      "  libavutil      56. 18.102 / 56. 18.102\n",
      "  libavcodec     58. 20.103 / 58. 20.103\n",
      "  libavformat    58. 17.100 / 58. 17.100\n",
      "  libavdevice    58.  4.101 / 58.  4.101\n",
      "  libavfilter     7. 25.100 /  7. 25.100\n",
      "  libswscale      5.  2.100 /  5.  2.100\n",
      "  libswresample   3.  2.100 /  3.  2.100\n",
      "  libpostproc    55.  2.100 / 55.  2.100\n",
      "Input #0, avi, from 'jogging/person12_jogging_d4_uncomp.avi':\n",
      "  Duration: 00:00:14.36, start: 0.000000, bitrate: 512 kb/s\n",
      "    Stream #0:0: Video: mpeg4 (DX50 / 0x30355844), yuv420p, 160x120 [SAR 1:1 DAR 4:3], 503 kb/s, 25 fps, 25 tbr, 25 tbn, 30k tbc\n",
      "Stream mapping:\n",
      "  Stream #0:0 -> #0:0 (mpeg4 (native) -> mjpeg (native))\n",
      "Press [q] to stop, [?] for help\n",
      "[swscaler @ 0000019942a26100] deprecated pixel format used, make sure you did set range correctly\n",
      "Output #0, image2, to 'frames/jog%02d.jpg':\n",
      "  Metadata:\n",
      "    encoder         : Lavf58.17.100\n",
      "    Stream #0:0: Video: mjpeg, yuvj420p(pc), 160x120 [SAR 1:1 DAR 4:3], q=2-31, 200 kb/s, 25 fps, 25 tbn, 25 tbc\n",
      "    Metadata:\n",
      "      encoder         : Lavc58.20.103 mjpeg\n",
      "    Side data:\n",
      "      cpb: bitrate max/min/avg: 0/0/200000 buffer size: 0 vbv_delay: -1\n",
      "frame=   40 fps=0.0 q=4.4 Lsize=N/A time=00:00:01.60 bitrate=N/A speed=4.26x    \n",
      "video:70kB audio:0kB subtitle:0kB other streams:0kB global headers:0kB muxing overhead: unknown\n"
     ]
    },
    {
     "name": "stdout",
     "output_type": "stream",
     "text": [
      "45th video done\n"
     ]
    },
    {
     "name": "stderr",
     "output_type": "stream",
     "text": [
      "ffmpeg version N-91330-ga990184007 Copyright (c) 2000-2018 the FFmpeg developers\n",
      "  built with gcc 7.3.0 (GCC)\n",
      "  configuration: --enable-gpl --enable-version3 --enable-sdl2 --enable-bzlib --enable-fontconfig --enable-gnutls --enable-iconv --enable-libass --enable-libbluray --enable-libfreetype --enable-libmp3lame --enable-libopencore-amrnb --enable-libopencore-amrwb --enable-libopenjpeg --enable-libopus --enable-libshine --enable-libsnappy --enable-libsoxr --enable-libtheora --enable-libtwolame --enable-libvpx --enable-libwavpack --enable-libwebp --enable-libx264 --enable-libx265 --enable-libxml2 --enable-libzimg --enable-lzma --enable-zlib --enable-gmp --enable-libvidstab --enable-libvorbis --enable-libvo-amrwbenc --enable-libmysofa --enable-libspeex --enable-libxvid --enable-libaom --enable-libmfx --enable-amf --enable-ffnvcodec --enable-cuvid --enable-d3d11va --enable-nvenc --enable-nvdec --enable-dxva2 --enable-avisynth\n",
      "  libavutil      56. 18.102 / 56. 18.102\n",
      "  libavcodec     58. 20.103 / 58. 20.103\n",
      "  libavformat    58. 17.100 / 58. 17.100\n",
      "  libavdevice    58.  4.101 / 58.  4.101\n",
      "  libavfilter     7. 25.100 /  7. 25.100\n",
      "  libswscale      5.  2.100 /  5.  2.100\n",
      "  libswresample   3.  2.100 /  3.  2.100\n",
      "  libpostproc    55.  2.100 / 55.  2.100\n",
      "Input #0, avi, from 'jogging/person13_jogging_d1_uncomp.avi':\n",
      "  Duration: 00:00:19.20, start: 0.000000, bitrate: 1068 kb/s\n",
      "    Stream #0:0: Video: mpeg4 (DX50 / 0x30355844), yuv420p, 160x120 [SAR 1:1 DAR 4:3], 1061 kb/s, 25 fps, 25 tbr, 25 tbn, 30k tbc\n",
      "Stream mapping:\n",
      "  Stream #0:0 -> #0:0 (mpeg4 (native) -> mjpeg (native))\n",
      "Press [q] to stop, [?] for help\n",
      "[swscaler @ 0000024396ec1a40] deprecated pixel format used, make sure you did set range correctly\n",
      "Output #0, image2, to 'frames/jog%02d.jpg':\n",
      "  Metadata:\n",
      "    encoder         : Lavf58.17.100\n",
      "    Stream #0:0: Video: mjpeg, yuvj420p(pc), 160x120 [SAR 1:1 DAR 4:3], q=2-31, 200 kb/s, 25 fps, 25 tbn, 25 tbc\n",
      "    Metadata:\n",
      "      encoder         : Lavc58.20.103 mjpeg\n",
      "    Side data:\n",
      "      cpb: bitrate max/min/avg: 0/0/200000 buffer size: 0 vbv_delay: -1\n",
      "frame=   40 fps=0.0 q=11.8 Lsize=N/A time=00:00:01.60 bitrate=N/A speed=4.72x    \n",
      "video:86kB audio:0kB subtitle:0kB other streams:0kB global headers:0kB muxing overhead: unknown\n"
     ]
    },
    {
     "name": "stdout",
     "output_type": "stream",
     "text": [
      "46th video done\n"
     ]
    },
    {
     "name": "stderr",
     "output_type": "stream",
     "text": [
      "ffmpeg version N-91330-ga990184007 Copyright (c) 2000-2018 the FFmpeg developers\n",
      "  built with gcc 7.3.0 (GCC)\n",
      "  configuration: --enable-gpl --enable-version3 --enable-sdl2 --enable-bzlib --enable-fontconfig --enable-gnutls --enable-iconv --enable-libass --enable-libbluray --enable-libfreetype --enable-libmp3lame --enable-libopencore-amrnb --enable-libopencore-amrwb --enable-libopenjpeg --enable-libopus --enable-libshine --enable-libsnappy --enable-libsoxr --enable-libtheora --enable-libtwolame --enable-libvpx --enable-libwavpack --enable-libwebp --enable-libx264 --enable-libx265 --enable-libxml2 --enable-libzimg --enable-lzma --enable-zlib --enable-gmp --enable-libvidstab --enable-libvorbis --enable-libvo-amrwbenc --enable-libmysofa --enable-libspeex --enable-libxvid --enable-libaom --enable-libmfx --enable-amf --enable-ffnvcodec --enable-cuvid --enable-d3d11va --enable-nvenc --enable-nvdec --enable-dxva2 --enable-avisynth\n",
      "  libavutil      56. 18.102 / 56. 18.102\n",
      "  libavcodec     58. 20.103 / 58. 20.103\n",
      "  libavformat    58. 17.100 / 58. 17.100\n",
      "  libavdevice    58.  4.101 / 58.  4.101\n",
      "  libavfilter     7. 25.100 /  7. 25.100\n",
      "  libswscale      5.  2.100 /  5.  2.100\n",
      "  libswresample   3.  2.100 /  3.  2.100\n",
      "  libpostproc    55.  2.100 / 55.  2.100\n",
      "Input #0, avi, from 'jogging/person13_jogging_d3_uncomp.avi':\n",
      "  Duration: 00:00:19.20, start: 0.000000, bitrate: 1003 kb/s\n",
      "    Stream #0:0: Video: mpeg4 (DX50 / 0x30355844), yuv420p, 160x120 [SAR 1:1 DAR 4:3], 996 kb/s, 25 fps, 25 tbr, 25 tbn, 30k tbc\n",
      "Stream mapping:\n",
      "  Stream #0:0 -> #0:0 (mpeg4 (native) -> mjpeg (native))\n",
      "Press [q] to stop, [?] for help\n",
      "[swscaler @ 0000018876071400] deprecated pixel format used, make sure you did set range correctly\n",
      "Output #0, image2, to 'frames/jog%02d.jpg':\n",
      "  Metadata:\n",
      "    encoder         : Lavf58.17.100\n",
      "    Stream #0:0: Video: mjpeg, yuvj420p(pc), 160x120 [SAR 1:1 DAR 4:3], q=2-31, 200 kb/s, 25 fps, 25 tbn, 25 tbc\n",
      "    Metadata:\n",
      "      encoder         : Lavc58.20.103 mjpeg\n",
      "    Side data:\n",
      "      cpb: bitrate max/min/avg: 0/0/200000 buffer size: 0 vbv_delay: -1\n",
      "frame=   40 fps=0.0 q=9.5 Lsize=N/A time=00:00:01.60 bitrate=N/A speed=4.28x    \n",
      "video:84kB audio:0kB subtitle:0kB other streams:0kB global headers:0kB muxing overhead: unknown\n"
     ]
    },
    {
     "name": "stdout",
     "output_type": "stream",
     "text": [
      "47th video done\n"
     ]
    },
    {
     "name": "stderr",
     "output_type": "stream",
     "text": [
      "ffmpeg version N-91330-ga990184007 Copyright (c) 2000-2018 the FFmpeg developers\n",
      "  built with gcc 7.3.0 (GCC)\n",
      "  configuration: --enable-gpl --enable-version3 --enable-sdl2 --enable-bzlib --enable-fontconfig --enable-gnutls --enable-iconv --enable-libass --enable-libbluray --enable-libfreetype --enable-libmp3lame --enable-libopencore-amrnb --enable-libopencore-amrwb --enable-libopenjpeg --enable-libopus --enable-libshine --enable-libsnappy --enable-libsoxr --enable-libtheora --enable-libtwolame --enable-libvpx --enable-libwavpack --enable-libwebp --enable-libx264 --enable-libx265 --enable-libxml2 --enable-libzimg --enable-lzma --enable-zlib --enable-gmp --enable-libvidstab --enable-libvorbis --enable-libvo-amrwbenc --enable-libmysofa --enable-libspeex --enable-libxvid --enable-libaom --enable-libmfx --enable-amf --enable-ffnvcodec --enable-cuvid --enable-d3d11va --enable-nvenc --enable-nvdec --enable-dxva2 --enable-avisynth\n",
      "  libavutil      56. 18.102 / 56. 18.102\n",
      "  libavcodec     58. 20.103 / 58. 20.103\n",
      "  libavformat    58. 17.100 / 58. 17.100\n",
      "  libavdevice    58.  4.101 / 58.  4.101\n",
      "  libavfilter     7. 25.100 /  7. 25.100\n",
      "  libswscale      5.  2.100 /  5.  2.100\n",
      "  libswresample   3.  2.100 /  3.  2.100\n",
      "  libpostproc    55.  2.100 / 55.  2.100\n",
      "Input #0, avi, from 'jogging/person13_jogging_d4_uncomp.avi':\n",
      "  Duration: 00:00:17.40, start: 0.000000, bitrate: 475 kb/s\n",
      "    Stream #0:0: Video: mpeg4 (DX50 / 0x30355844), yuv420p, 160x120 [SAR 1:1 DAR 4:3], 467 kb/s, 25 fps, 25 tbr, 25 tbn, 30k tbc\n",
      "Stream mapping:\n",
      "  Stream #0:0 -> #0:0 (mpeg4 (native) -> mjpeg (native))\n",
      "Press [q] to stop, [?] for help\n",
      "[swscaler @ 000001ea357035c0] deprecated pixel format used, make sure you did set range correctly\n",
      "Output #0, image2, to 'frames/jog%02d.jpg':\n",
      "  Metadata:\n",
      "    encoder         : Lavf58.17.100\n",
      "    Stream #0:0: Video: mjpeg, yuvj420p(pc), 160x120 [SAR 1:1 DAR 4:3], q=2-31, 200 kb/s, 25 fps, 25 tbn, 25 tbc\n",
      "    Metadata:\n",
      "      encoder         : Lavc58.20.103 mjpeg\n",
      "    Side data:\n",
      "      cpb: bitrate max/min/avg: 0/0/200000 buffer size: 0 vbv_delay: -1\n",
      "frame=   40 fps=0.0 q=3.4 Lsize=N/A time=00:00:01.60 bitrate=N/A speed=4.91x    \n",
      "video:66kB audio:0kB subtitle:0kB other streams:0kB global headers:0kB muxing overhead: unknown\n"
     ]
    },
    {
     "name": "stdout",
     "output_type": "stream",
     "text": [
      "48th video done\n"
     ]
    }
   ],
   "source": [
    "for ind,vid in enumerate(jog_files):  #iterating over all  Jogging videoClips\n",
    "    \n",
    "    arr=np.zeros(shape=(40,128,128,3))\n",
    "    vid_file=\"jogging/\"+vid\n",
    "    \n",
    "    !ffmpeg  -i $vid_file -vframes 40 frames/jog%02d.jpg   # FFMPEG to extract frames of each clip\n",
    "    \n",
    "    for i,img in enumerate(os.listdir(\"frames/\")):\n",
    "        img=plt.imread(\"frames/\"+img)\n",
    "        img=imresize(img,(128,128))\n",
    "        arr[i]=img\n",
    "        #print(str(i)+\"th image\")\n",
    "    ! rm  frames/*\n",
    "    pred=model_fin.predict(arr)\n",
    "    jogging_final_data[ind]=pred\n",
    "    \n",
    "    print(str(ind)+\"th video done\")"
   ]
  },
  {
   "cell_type": "code",
   "execution_count": 93,
   "metadata": {},
   "outputs": [
    {
     "data": {
      "text/plain": [
       "49"
      ]
     },
     "execution_count": 93,
     "metadata": {},
     "output_type": "execute_result"
    }
   ],
   "source": [
    "len(jog_files)"
   ]
  },
  {
   "cell_type": "code",
   "execution_count": 94,
   "metadata": {},
   "outputs": [
    {
     "data": {
      "text/plain": [
       "(50, 40, 512)"
      ]
     },
     "execution_count": 94,
     "metadata": {},
     "output_type": "execute_result"
    }
   ],
   "source": [
    "jogging_final_data.shape #this is our final jogging training data 50 videoClips each have 40 frames"
   ]
  },
  {
   "cell_type": "code",
   "execution_count": 98,
   "metadata": {},
   "outputs": [
    {
     "data": {
      "text/plain": [
       "array([[ 0.        ,  0.        ,  9.62548351, ...,  0.        ,\n",
       "         0.        ,  0.        ],\n",
       "       [ 0.        ,  0.        ,  9.62548351, ...,  0.        ,\n",
       "         0.        ,  0.        ],\n",
       "       [ 0.        ,  0.        ,  9.62548351, ...,  0.        ,\n",
       "         0.        ,  0.        ],\n",
       "       ...,\n",
       "       [ 0.        ,  0.        , 36.67172623, ...,  0.        ,\n",
       "         0.        ,  0.        ],\n",
       "       [ 0.        ,  0.        , 28.13210678, ...,  0.        ,\n",
       "        31.21777725,  0.        ],\n",
       "       [ 0.        ,  0.        , 31.35561562, ...,  0.        ,\n",
       "        21.76806641,  0.        ]])"
      ]
     },
     "execution_count": 98,
     "metadata": {},
     "output_type": "execute_result"
    }
   ],
   "source": [
    "jogging_final_data[1]"
   ]
  },
  {
   "cell_type": "code",
   "execution_count": null,
   "metadata": {
    "collapsed": true
   },
   "outputs": [],
   "source": []
  },
  {
   "cell_type": "markdown",
   "metadata": {},
   "source": [
    "### Similary For Walking videoClips"
   ]
  },
  {
   "cell_type": "code",
   "execution_count": 99,
   "metadata": {
    "collapsed": true
   },
   "outputs": [],
   "source": [
    "walk_vids=os.listdir(\"Walking/\")"
   ]
  },
  {
   "cell_type": "code",
   "execution_count": 101,
   "metadata": {
    "collapsed": true
   },
   "outputs": [],
   "source": [
    "walking_final_data=np.zeros(shape=(50,40,512))"
   ]
  },
  {
   "cell_type": "code",
   "execution_count": 102,
   "metadata": {},
   "outputs": [
    {
     "name": "stderr",
     "output_type": "stream",
     "text": [
      "ffmpeg version N-91330-ga990184007 Copyright (c) 2000-2018 the FFmpeg developers\n",
      "  built with gcc 7.3.0 (GCC)\n",
      "  configuration: --enable-gpl --enable-version3 --enable-sdl2 --enable-bzlib --enable-fontconfig --enable-gnutls --enable-iconv --enable-libass --enable-libbluray --enable-libfreetype --enable-libmp3lame --enable-libopencore-amrnb --enable-libopencore-amrwb --enable-libopenjpeg --enable-libopus --enable-libshine --enable-libsnappy --enable-libsoxr --enable-libtheora --enable-libtwolame --enable-libvpx --enable-libwavpack --enable-libwebp --enable-libx264 --enable-libx265 --enable-libxml2 --enable-libzimg --enable-lzma --enable-zlib --enable-gmp --enable-libvidstab --enable-libvorbis --enable-libvo-amrwbenc --enable-libmysofa --enable-libspeex --enable-libxvid --enable-libaom --enable-libmfx --enable-amf --enable-ffnvcodec --enable-cuvid --enable-d3d11va --enable-nvenc --enable-nvdec --enable-dxva2 --enable-avisynth\n",
      "  libavutil      56. 18.102 / 56. 18.102\n",
      "  libavcodec     58. 20.103 / 58. 20.103\n",
      "  libavformat    58. 17.100 / 58. 17.100\n",
      "  libavdevice    58.  4.101 / 58.  4.101\n",
      "  libavfilter     7. 25.100 /  7. 25.100\n",
      "  libswscale      5.  2.100 /  5.  2.100\n",
      "  libswresample   3.  2.100 /  3.  2.100\n",
      "  libpostproc    55.  2.100 / 55.  2.100\n",
      "Input #0, avi, from 'Walking//person01_walking_d1_uncomp.avi':\n",
      "  Duration: 00:00:22.20, start: 0.000000, bitrate: 861 kb/s\n",
      "    Stream #0:0: Video: mpeg4 (DX50 / 0x30355844), yuv420p, 160x120 [SAR 1:1 DAR 4:3], 854 kb/s, 25 fps, 25 tbr, 25 tbn, 30k tbc\n",
      "Stream mapping:\n",
      "  Stream #0:0 -> #0:0 (mpeg4 (native) -> mjpeg (native))\n",
      "Press [q] to stop, [?] for help\n",
      "[swscaler @ 000002c664da0ec0] deprecated pixel format used, make sure you did set range correctly\n",
      "Output #0, image2, to 'frames/walk%02d.jpg':\n",
      "  Metadata:\n",
      "    encoder         : Lavf58.17.100\n",
      "    Stream #0:0: Video: mjpeg, yuvj420p(pc), 160x120 [SAR 1:1 DAR 4:3], q=2-31, 200 kb/s, 25 fps, 25 tbn, 25 tbc\n",
      "    Metadata:\n",
      "      encoder         : Lavc58.20.103 mjpeg\n",
      "    Side data:\n",
      "      cpb: bitrate max/min/avg: 0/0/200000 buffer size: 0 vbv_delay: -1\n",
      "frame=   36 fps=0.0 q=8.9 size=N/A time=00:00:01.44 bitrate=N/A speed=2.84x    \n",
      "frame=   40 fps=0.0 q=9.3 Lsize=N/A time=00:00:01.60 bitrate=N/A speed=2.77x    \n",
      "video:80kB audio:0kB subtitle:0kB other streams:0kB global headers:0kB muxing overhead: unknown\n",
      "C:\\Program Files\\Anaconda3\\lib\\site-packages\\ipykernel\\__main__.py:7: DeprecationWarning: `imresize` is deprecated!\n",
      "`imresize` is deprecated in SciPy 1.0.0, and will be removed in 1.2.0.\n",
      "Use ``skimage.transform.resize`` instead.\n"
     ]
    },
    {
     "name": "stdout",
     "output_type": "stream",
     "text": [
      "0th video done\n"
     ]
    },
    {
     "name": "stderr",
     "output_type": "stream",
     "text": [
      "ffmpeg version N-91330-ga990184007 Copyright (c) 2000-2018 the FFmpeg developers\n",
      "  built with gcc 7.3.0 (GCC)\n",
      "  configuration: --enable-gpl --enable-version3 --enable-sdl2 --enable-bzlib --enable-fontconfig --enable-gnutls --enable-iconv --enable-libass --enable-libbluray --enable-libfreetype --enable-libmp3lame --enable-libopencore-amrnb --enable-libopencore-amrwb --enable-libopenjpeg --enable-libopus --enable-libshine --enable-libsnappy --enable-libsoxr --enable-libtheora --enable-libtwolame --enable-libvpx --enable-libwavpack --enable-libwebp --enable-libx264 --enable-libx265 --enable-libxml2 --enable-libzimg --enable-lzma --enable-zlib --enable-gmp --enable-libvidstab --enable-libvorbis --enable-libvo-amrwbenc --enable-libmysofa --enable-libspeex --enable-libxvid --enable-libaom --enable-libmfx --enable-amf --enable-ffnvcodec --enable-cuvid --enable-d3d11va --enable-nvenc --enable-nvdec --enable-dxva2 --enable-avisynth\n",
      "  libavutil      56. 18.102 / 56. 18.102\n",
      "  libavcodec     58. 20.103 / 58. 20.103\n",
      "  libavformat    58. 17.100 / 58. 17.100\n",
      "  libavdevice    58.  4.101 / 58.  4.101\n",
      "  libavfilter     7. 25.100 /  7. 25.100\n",
      "  libswscale      5.  2.100 /  5.  2.100\n",
      "  libswresample   3.  2.100 /  3.  2.100\n",
      "  libpostproc    55.  2.100 / 55.  2.100\n",
      "Input #0, avi, from 'Walking//person01_walking_d2_uncomp.avi':\n",
      "  Duration: 00:00:27.00, start: 0.000000, bitrate: 760 kb/s\n",
      "    Stream #0:0: Video: mpeg4 (DX50 / 0x30355844), yuv420p, 160x120 [SAR 1:1 DAR 4:3], 753 kb/s, 25 fps, 25 tbr, 25 tbn, 30k tbc\n",
      "Stream mapping:\n",
      "  Stream #0:0 -> #0:0 (mpeg4 (native) -> mjpeg (native))\n",
      "Press [q] to stop, [?] for help\n",
      "[swscaler @ 00000226c6c97540] deprecated pixel format used, make sure you did set range correctly\n",
      "Output #0, image2, to 'frames/walk%02d.jpg':\n",
      "  Metadata:\n",
      "    encoder         : Lavf58.17.100\n",
      "    Stream #0:0: Video: mjpeg, yuvj420p(pc), 160x120 [SAR 1:1 DAR 4:3], q=2-31, 200 kb/s, 25 fps, 25 tbn, 25 tbc\n",
      "    Metadata:\n",
      "      encoder         : Lavc58.20.103 mjpeg\n",
      "    Side data:\n",
      "      cpb: bitrate max/min/avg: 0/0/200000 buffer size: 0 vbv_delay: -1\n",
      "frame=   40 fps=0.0 q=8.0 Lsize=N/A time=00:00:01.60 bitrate=N/A speed=3.92x    \n",
      "video:80kB audio:0kB subtitle:0kB other streams:0kB global headers:0kB muxing overhead: unknown\n"
     ]
    },
    {
     "name": "stdout",
     "output_type": "stream",
     "text": [
      "1th video done\n"
     ]
    },
    {
     "name": "stderr",
     "output_type": "stream",
     "text": [
      "ffmpeg version N-91330-ga990184007 Copyright (c) 2000-2018 the FFmpeg developers\n",
      "  built with gcc 7.3.0 (GCC)\n",
      "  configuration: --enable-gpl --enable-version3 --enable-sdl2 --enable-bzlib --enable-fontconfig --enable-gnutls --enable-iconv --enable-libass --enable-libbluray --enable-libfreetype --enable-libmp3lame --enable-libopencore-amrnb --enable-libopencore-amrwb --enable-libopenjpeg --enable-libopus --enable-libshine --enable-libsnappy --enable-libsoxr --enable-libtheora --enable-libtwolame --enable-libvpx --enable-libwavpack --enable-libwebp --enable-libx264 --enable-libx265 --enable-libxml2 --enable-libzimg --enable-lzma --enable-zlib --enable-gmp --enable-libvidstab --enable-libvorbis --enable-libvo-amrwbenc --enable-libmysofa --enable-libspeex --enable-libxvid --enable-libaom --enable-libmfx --enable-amf --enable-ffnvcodec --enable-cuvid --enable-d3d11va --enable-nvenc --enable-nvdec --enable-dxva2 --enable-avisynth\n",
      "  libavutil      56. 18.102 / 56. 18.102\n",
      "  libavcodec     58. 20.103 / 58. 20.103\n",
      "  libavformat    58. 17.100 / 58. 17.100\n",
      "  libavdevice    58.  4.101 / 58.  4.101\n",
      "  libavfilter     7. 25.100 /  7. 25.100\n",
      "  libswscale      5.  2.100 /  5.  2.100\n",
      "  libswresample   3.  2.100 /  3.  2.100\n",
      "  libpostproc    55.  2.100 / 55.  2.100\n",
      "Input #0, avi, from 'Walking//person01_walking_d3_uncomp.avi':\n",
      "  Duration: 00:00:38.00, start: 0.000000, bitrate: 810 kb/s\n",
      "    Stream #0:0: Video: mpeg4 (DX50 / 0x30355844), yuv420p, 160x120 [SAR 1:1 DAR 4:3], 804 kb/s, 25 fps, 25 tbr, 25 tbn, 30k tbc\n",
      "Stream mapping:\n",
      "  Stream #0:0 -> #0:0 (mpeg4 (native) -> mjpeg (native))\n",
      "Press [q] to stop, [?] for help\n",
      "[swscaler @ 0000011a99b9c000] deprecated pixel format used, make sure you did set range correctly\n",
      "Output #0, image2, to 'frames/walk%02d.jpg':\n",
      "  Metadata:\n",
      "    encoder         : Lavf58.17.100\n",
      "    Stream #0:0: Video: mjpeg, yuvj420p(pc), 160x120 [SAR 1:1 DAR 4:3], q=2-31, 200 kb/s, 25 fps, 25 tbn, 25 tbc\n",
      "    Metadata:\n",
      "      encoder         : Lavc58.20.103 mjpeg\n",
      "    Side data:\n",
      "      cpb: bitrate max/min/avg: 0/0/200000 buffer size: 0 vbv_delay: -1\n",
      "frame=   40 fps=0.0 q=8.9 Lsize=N/A time=00:00:01.60 bitrate=N/A speed=4.56x    \n",
      "video:82kB audio:0kB subtitle:0kB other streams:0kB global headers:0kB muxing overhead: unknown\n"
     ]
    },
    {
     "name": "stdout",
     "output_type": "stream",
     "text": [
      "2th video done\n"
     ]
    },
    {
     "name": "stderr",
     "output_type": "stream",
     "text": [
      "ffmpeg version N-91330-ga990184007 Copyright (c) 2000-2018 the FFmpeg developers\n",
      "  built with gcc 7.3.0 (GCC)\n",
      "  configuration: --enable-gpl --enable-version3 --enable-sdl2 --enable-bzlib --enable-fontconfig --enable-gnutls --enable-iconv --enable-libass --enable-libbluray --enable-libfreetype --enable-libmp3lame --enable-libopencore-amrnb --enable-libopencore-amrwb --enable-libopenjpeg --enable-libopus --enable-libshine --enable-libsnappy --enable-libsoxr --enable-libtheora --enable-libtwolame --enable-libvpx --enable-libwavpack --enable-libwebp --enable-libx264 --enable-libx265 --enable-libxml2 --enable-libzimg --enable-lzma --enable-zlib --enable-gmp --enable-libvidstab --enable-libvorbis --enable-libvo-amrwbenc --enable-libmysofa --enable-libspeex --enable-libxvid --enable-libaom --enable-libmfx --enable-amf --enable-ffnvcodec --enable-cuvid --enable-d3d11va --enable-nvenc --enable-nvdec --enable-dxva2 --enable-avisynth\n",
      "  libavutil      56. 18.102 / 56. 18.102\n",
      "  libavcodec     58. 20.103 / 58. 20.103\n",
      "  libavformat    58. 17.100 / 58. 17.100\n",
      "  libavdevice    58.  4.101 / 58.  4.101\n",
      "  libavfilter     7. 25.100 /  7. 25.100\n",
      "  libswscale      5.  2.100 /  5.  2.100\n",
      "  libswresample   3.  2.100 /  3.  2.100\n",
      "  libpostproc    55.  2.100 / 55.  2.100\n",
      "Input #0, avi, from 'Walking//person01_walking_d4_uncomp.avi':\n",
      "  Duration: 00:00:22.60, start: 0.000000, bitrate: 295 kb/s\n",
      "    Stream #0:0: Video: mpeg4 (DX50 / 0x30355844), yuv420p, 160x120 [SAR 1:1 DAR 4:3], 287 kb/s, 25 fps, 25 tbr, 25 tbn, 30k tbc\n",
      "Stream mapping:\n",
      "  Stream #0:0 -> #0:0 (mpeg4 (native) -> mjpeg (native))\n",
      "Press [q] to stop, [?] for help\n",
      "[swscaler @ 0000021ed5ceb4c0] deprecated pixel format used, make sure you did set range correctly\n",
      "Output #0, image2, to 'frames/walk%02d.jpg':\n",
      "  Metadata:\n",
      "    encoder         : Lavf58.17.100\n",
      "    Stream #0:0: Video: mjpeg, yuvj420p(pc), 160x120 [SAR 1:1 DAR 4:3], q=2-31, 200 kb/s, 25 fps, 25 tbn, 25 tbc\n",
      "    Metadata:\n",
      "      encoder         : Lavc58.20.103 mjpeg\n",
      "    Side data:\n",
      "      cpb: bitrate max/min/avg: 0/0/200000 buffer size: 0 vbv_delay: -1\n",
      "frame=   40 fps=0.0 q=2.8 size=N/A time=00:00:01.60 bitrate=N/A speed=3.08x    \n",
      "frame=   40 fps=0.0 q=2.8 Lsize=N/A time=00:00:01.60 bitrate=N/A speed=2.91x    \n",
      "video:61kB audio:0kB subtitle:0kB other streams:0kB global headers:0kB muxing overhead: unknown\n"
     ]
    },
    {
     "name": "stdout",
     "output_type": "stream",
     "text": [
      "3th video done\n"
     ]
    },
    {
     "name": "stderr",
     "output_type": "stream",
     "text": [
      "ffmpeg version N-91330-ga990184007 Copyright (c) 2000-2018 the FFmpeg developers\n",
      "  built with gcc 7.3.0 (GCC)\n",
      "  configuration: --enable-gpl --enable-version3 --enable-sdl2 --enable-bzlib --enable-fontconfig --enable-gnutls --enable-iconv --enable-libass --enable-libbluray --enable-libfreetype --enable-libmp3lame --enable-libopencore-amrnb --enable-libopencore-amrwb --enable-libopenjpeg --enable-libopus --enable-libshine --enable-libsnappy --enable-libsoxr --enable-libtheora --enable-libtwolame --enable-libvpx --enable-libwavpack --enable-libwebp --enable-libx264 --enable-libx265 --enable-libxml2 --enable-libzimg --enable-lzma --enable-zlib --enable-gmp --enable-libvidstab --enable-libvorbis --enable-libvo-amrwbenc --enable-libmysofa --enable-libspeex --enable-libxvid --enable-libaom --enable-libmfx --enable-amf --enable-ffnvcodec --enable-cuvid --enable-d3d11va --enable-nvenc --enable-nvdec --enable-dxva2 --enable-avisynth\n",
      "  libavutil      56. 18.102 / 56. 18.102\n",
      "  libavcodec     58. 20.103 / 58. 20.103\n",
      "  libavformat    58. 17.100 / 58. 17.100\n",
      "  libavdevice    58.  4.101 / 58.  4.101\n",
      "  libavfilter     7. 25.100 /  7. 25.100\n",
      "  libswscale      5.  2.100 /  5.  2.100\n",
      "  libswresample   3.  2.100 /  3.  2.100\n",
      "  libpostproc    55.  2.100 / 55.  2.100\n",
      "Input #0, avi, from 'Walking//person02_walking_d1_uncomp.avi':\n",
      "  Duration: 00:00:18.00, start: 0.000000, bitrate: 913 kb/s\n",
      "    Stream #0:0: Video: mpeg4 (DX50 / 0x30355844), yuv420p, 160x120 [SAR 1:1 DAR 4:3], 906 kb/s, 25 fps, 25 tbr, 25 tbn, 30k tbc\n",
      "Stream mapping:\n",
      "  Stream #0:0 -> #0:0 (mpeg4 (native) -> mjpeg (native))\n",
      "Press [q] to stop, [?] for help\n",
      "[swscaler @ 00000249048292c0] deprecated pixel format used, make sure you did set range correctly\n",
      "Output #0, image2, to 'frames/walk%02d.jpg':\n",
      "  Metadata:\n",
      "    encoder         : Lavf58.17.100\n",
      "    Stream #0:0: Video: mjpeg, yuvj420p(pc), 160x120 [SAR 1:1 DAR 4:3], q=2-31, 200 kb/s, 25 fps, 25 tbn, 25 tbc\n",
      "    Metadata:\n",
      "      encoder         : Lavc58.20.103 mjpeg\n",
      "    Side data:\n",
      "      cpb: bitrate max/min/avg: 0/0/200000 buffer size: 0 vbv_delay: -1\n",
      "frame=   40 fps=0.0 q=8.0 Lsize=N/A time=00:00:01.60 bitrate=N/A speed=4.08x    \n",
      "video:79kB audio:0kB subtitle:0kB other streams:0kB global headers:0kB muxing overhead: unknown\n"
     ]
    },
    {
     "name": "stdout",
     "output_type": "stream",
     "text": [
      "4th video done\n"
     ]
    },
    {
     "name": "stderr",
     "output_type": "stream",
     "text": [
      "ffmpeg version N-91330-ga990184007 Copyright (c) 2000-2018 the FFmpeg developers\n",
      "  built with gcc 7.3.0 (GCC)\n",
      "  configuration: --enable-gpl --enable-version3 --enable-sdl2 --enable-bzlib --enable-fontconfig --enable-gnutls --enable-iconv --enable-libass --enable-libbluray --enable-libfreetype --enable-libmp3lame --enable-libopencore-amrnb --enable-libopencore-amrwb --enable-libopenjpeg --enable-libopus --enable-libshine --enable-libsnappy --enable-libsoxr --enable-libtheora --enable-libtwolame --enable-libvpx --enable-libwavpack --enable-libwebp --enable-libx264 --enable-libx265 --enable-libxml2 --enable-libzimg --enable-lzma --enable-zlib --enable-gmp --enable-libvidstab --enable-libvorbis --enable-libvo-amrwbenc --enable-libmysofa --enable-libspeex --enable-libxvid --enable-libaom --enable-libmfx --enable-amf --enable-ffnvcodec --enable-cuvid --enable-d3d11va --enable-nvenc --enable-nvdec --enable-dxva2 --enable-avisynth\n",
      "  libavutil      56. 18.102 / 56. 18.102\n",
      "  libavcodec     58. 20.103 / 58. 20.103\n",
      "  libavformat    58. 17.100 / 58. 17.100\n",
      "  libavdevice    58.  4.101 / 58.  4.101\n",
      "  libavfilter     7. 25.100 /  7. 25.100\n",
      "  libswscale      5.  2.100 /  5.  2.100\n",
      "  libswresample   3.  2.100 /  3.  2.100\n",
      "  libpostproc    55.  2.100 / 55.  2.100\n",
      "Input #0, avi, from 'Walking//person02_walking_d2_uncomp.avi':\n",
      "  Duration: 00:00:42.40, start: 0.000000, bitrate: 795 kb/s\n",
      "    Stream #0:0: Video: mpeg4 (DX50 / 0x30355844), yuv420p, 160x120 [SAR 1:1 DAR 4:3], 789 kb/s, 25 fps, 25 tbr, 25 tbn, 30k tbc\n",
      "Stream mapping:\n",
      "  Stream #0:0 -> #0:0 (mpeg4 (native) -> mjpeg (native))\n",
      "Press [q] to stop, [?] for help\n",
      "[swscaler @ 00000146a09b38c0] deprecated pixel format used, make sure you did set range correctly\n",
      "Output #0, image2, to 'frames/walk%02d.jpg':\n",
      "  Metadata:\n",
      "    encoder         : Lavf58.17.100\n",
      "    Stream #0:0: Video: mjpeg, yuvj420p(pc), 160x120 [SAR 1:1 DAR 4:3], q=2-31, 200 kb/s, 25 fps, 25 tbn, 25 tbc\n",
      "    Metadata:\n",
      "      encoder         : Lavc58.20.103 mjpeg\n",
      "    Side data:\n",
      "      cpb: bitrate max/min/avg: 0/0/200000 buffer size: 0 vbv_delay: -1\n",
      "frame=   40 fps=0.0 q=6.1 Lsize=N/A time=00:00:01.60 bitrate=N/A speed=4.27x    \n",
      "video:78kB audio:0kB subtitle:0kB other streams:0kB global headers:0kB muxing overhead: unknown\n"
     ]
    },
    {
     "name": "stdout",
     "output_type": "stream",
     "text": [
      "5th video done\n"
     ]
    },
    {
     "name": "stderr",
     "output_type": "stream",
     "text": [
      "ffmpeg version N-91330-ga990184007 Copyright (c) 2000-2018 the FFmpeg developers\n",
      "  built with gcc 7.3.0 (GCC)\n",
      "  configuration: --enable-gpl --enable-version3 --enable-sdl2 --enable-bzlib --enable-fontconfig --enable-gnutls --enable-iconv --enable-libass --enable-libbluray --enable-libfreetype --enable-libmp3lame --enable-libopencore-amrnb --enable-libopencore-amrwb --enable-libopenjpeg --enable-libopus --enable-libshine --enable-libsnappy --enable-libsoxr --enable-libtheora --enable-libtwolame --enable-libvpx --enable-libwavpack --enable-libwebp --enable-libx264 --enable-libx265 --enable-libxml2 --enable-libzimg --enable-lzma --enable-zlib --enable-gmp --enable-libvidstab --enable-libvorbis --enable-libvo-amrwbenc --enable-libmysofa --enable-libspeex --enable-libxvid --enable-libaom --enable-libmfx --enable-amf --enable-ffnvcodec --enable-cuvid --enable-d3d11va --enable-nvenc --enable-nvdec --enable-dxva2 --enable-avisynth\n",
      "  libavutil      56. 18.102 / 56. 18.102\n",
      "  libavcodec     58. 20.103 / 58. 20.103\n",
      "  libavformat    58. 17.100 / 58. 17.100\n",
      "  libavdevice    58.  4.101 / 58.  4.101\n",
      "  libavfilter     7. 25.100 /  7. 25.100\n",
      "  libswscale      5.  2.100 /  5.  2.100\n",
      "  libswresample   3.  2.100 /  3.  2.100\n",
      "  libpostproc    55.  2.100 / 55.  2.100\n",
      "Input #0, avi, from 'Walking//person02_walking_d3_uncomp.avi':\n",
      "  Duration: 00:00:21.68, start: 0.000000, bitrate: 815 kb/s\n",
      "    Stream #0:0: Video: mpeg4 (DX50 / 0x30355844), yuv420p, 160x120 [SAR 1:1 DAR 4:3], 808 kb/s, 25 fps, 25 tbr, 25 tbn, 30k tbc\n",
      "Stream mapping:\n",
      "  Stream #0:0 -> #0:0 (mpeg4 (native) -> mjpeg (native))\n",
      "Press [q] to stop, [?] for help\n",
      "[swscaler @ 000001e167dcfa40] deprecated pixel format used, make sure you did set range correctly\n",
      "Output #0, image2, to 'frames/walk%02d.jpg':\n",
      "  Metadata:\n",
      "    encoder         : Lavf58.17.100\n",
      "    Stream #0:0: Video: mjpeg, yuvj420p(pc), 160x120 [SAR 1:1 DAR 4:3], q=2-31, 200 kb/s, 25 fps, 25 tbn, 25 tbc\n",
      "    Metadata:\n",
      "      encoder         : Lavc58.20.103 mjpeg\n",
      "    Side data:\n",
      "      cpb: bitrate max/min/avg: 0/0/200000 buffer size: 0 vbv_delay: -1\n",
      "frame=   40 fps=0.0 q=8.4 Lsize=N/A time=00:00:01.60 bitrate=N/A speed=3.17x    \n",
      "video:79kB audio:0kB subtitle:0kB other streams:0kB global headers:0kB muxing overhead: unknown\n"
     ]
    },
    {
     "name": "stdout",
     "output_type": "stream",
     "text": [
      "6th video done\n"
     ]
    },
    {
     "name": "stderr",
     "output_type": "stream",
     "text": [
      "ffmpeg version N-91330-ga990184007 Copyright (c) 2000-2018 the FFmpeg developers\n",
      "  built with gcc 7.3.0 (GCC)\n",
      "  configuration: --enable-gpl --enable-version3 --enable-sdl2 --enable-bzlib --enable-fontconfig --enable-gnutls --enable-iconv --enable-libass --enable-libbluray --enable-libfreetype --enable-libmp3lame --enable-libopencore-amrnb --enable-libopencore-amrwb --enable-libopenjpeg --enable-libopus --enable-libshine --enable-libsnappy --enable-libsoxr --enable-libtheora --enable-libtwolame --enable-libvpx --enable-libwavpack --enable-libwebp --enable-libx264 --enable-libx265 --enable-libxml2 --enable-libzimg --enable-lzma --enable-zlib --enable-gmp --enable-libvidstab --enable-libvorbis --enable-libvo-amrwbenc --enable-libmysofa --enable-libspeex --enable-libxvid --enable-libaom --enable-libmfx --enable-amf --enable-ffnvcodec --enable-cuvid --enable-d3d11va --enable-nvenc --enable-nvdec --enable-dxva2 --enable-avisynth\n",
      "  libavutil      56. 18.102 / 56. 18.102\n",
      "  libavcodec     58. 20.103 / 58. 20.103\n",
      "  libavformat    58. 17.100 / 58. 17.100\n",
      "  libavdevice    58.  4.101 / 58.  4.101\n",
      "  libavfilter     7. 25.100 /  7. 25.100\n",
      "  libswscale      5.  2.100 /  5.  2.100\n",
      "  libswresample   3.  2.100 /  3.  2.100\n",
      "  libpostproc    55.  2.100 / 55.  2.100\n",
      "Input #0, avi, from 'Walking//person02_walking_d4_uncomp.avi':\n",
      "  Duration: 00:00:18.40, start: 0.000000, bitrate: 391 kb/s\n",
      "    Stream #0:0: Video: mpeg4 (DX50 / 0x30355844), yuv420p, 160x120 [SAR 1:1 DAR 4:3], 383 kb/s, 25 fps, 25 tbr, 25 tbn, 30k tbc\n",
      "Stream mapping:\n",
      "  Stream #0:0 -> #0:0 (mpeg4 (native) -> mjpeg (native))\n",
      "Press [q] to stop, [?] for help\n",
      "[swscaler @ 000001d0a19fa940] deprecated pixel format used, make sure you did set range correctly\n",
      "Output #0, image2, to 'frames/walk%02d.jpg':\n",
      "  Metadata:\n",
      "    encoder         : Lavf58.17.100\n",
      "    Stream #0:0: Video: mjpeg, yuvj420p(pc), 160x120 [SAR 1:1 DAR 4:3], q=2-31, 200 kb/s, 25 fps, 25 tbn, 25 tbc\n",
      "    Metadata:\n",
      "      encoder         : Lavc58.20.103 mjpeg\n",
      "    Side data:\n",
      "      cpb: bitrate max/min/avg: 0/0/200000 buffer size: 0 vbv_delay: -1\n",
      "frame=   40 fps=0.0 q=4.0 Lsize=N/A time=00:00:01.60 bitrate=N/A speed=3.73x    \n",
      "video:68kB audio:0kB subtitle:0kB other streams:0kB global headers:0kB muxing overhead: unknown\n"
     ]
    },
    {
     "name": "stdout",
     "output_type": "stream",
     "text": [
      "7th video done\n"
     ]
    },
    {
     "name": "stderr",
     "output_type": "stream",
     "text": [
      "ffmpeg version N-91330-ga990184007 Copyright (c) 2000-2018 the FFmpeg developers\n",
      "  built with gcc 7.3.0 (GCC)\n",
      "  configuration: --enable-gpl --enable-version3 --enable-sdl2 --enable-bzlib --enable-fontconfig --enable-gnutls --enable-iconv --enable-libass --enable-libbluray --enable-libfreetype --enable-libmp3lame --enable-libopencore-amrnb --enable-libopencore-amrwb --enable-libopenjpeg --enable-libopus --enable-libshine --enable-libsnappy --enable-libsoxr --enable-libtheora --enable-libtwolame --enable-libvpx --enable-libwavpack --enable-libwebp --enable-libx264 --enable-libx265 --enable-libxml2 --enable-libzimg --enable-lzma --enable-zlib --enable-gmp --enable-libvidstab --enable-libvorbis --enable-libvo-amrwbenc --enable-libmysofa --enable-libspeex --enable-libxvid --enable-libaom --enable-libmfx --enable-amf --enable-ffnvcodec --enable-cuvid --enable-d3d11va --enable-nvenc --enable-nvdec --enable-dxva2 --enable-avisynth\n",
      "  libavutil      56. 18.102 / 56. 18.102\n",
      "  libavcodec     58. 20.103 / 58. 20.103\n",
      "  libavformat    58. 17.100 / 58. 17.100\n",
      "  libavdevice    58.  4.101 / 58.  4.101\n",
      "  libavfilter     7. 25.100 /  7. 25.100\n",
      "  libswscale      5.  2.100 /  5.  2.100\n",
      "  libswresample   3.  2.100 /  3.  2.100\n",
      "  libpostproc    55.  2.100 / 55.  2.100\n",
      "Input #0, avi, from 'Walking//person03_walking_d1_uncomp.avi':\n",
      "  Duration: 00:00:25.60, start: 0.000000, bitrate: 836 kb/s\n",
      "    Stream #0:0: Video: mpeg4 (DX50 / 0x30355844), yuv420p, 160x120 [SAR 1:1 DAR 4:3], 829 kb/s, 25 fps, 25 tbr, 25 tbn, 30k tbc\n",
      "Stream mapping:\n",
      "  Stream #0:0 -> #0:0 (mpeg4 (native) -> mjpeg (native))\n",
      "Press [q] to stop, [?] for help\n",
      "[swscaler @ 0000024b41ae3e00] deprecated pixel format used, make sure you did set range correctly\n",
      "Output #0, image2, to 'frames/walk%02d.jpg':\n",
      "  Metadata:\n",
      "    encoder         : Lavf58.17.100\n",
      "    Stream #0:0: Video: mjpeg, yuvj420p(pc), 160x120 [SAR 1:1 DAR 4:3], q=2-31, 200 kb/s, 25 fps, 25 tbn, 25 tbc\n",
      "    Metadata:\n",
      "      encoder         : Lavc58.20.103 mjpeg\n",
      "    Side data:\n",
      "      cpb: bitrate max/min/avg: 0/0/200000 buffer size: 0 vbv_delay: -1\n",
      "frame=   40 fps=0.0 q=7.3 Lsize=N/A time=00:00:01.60 bitrate=N/A speed=3.72x    \n",
      "video:78kB audio:0kB subtitle:0kB other streams:0kB global headers:0kB muxing overhead: unknown\n"
     ]
    },
    {
     "name": "stdout",
     "output_type": "stream",
     "text": [
      "8th video done\n"
     ]
    },
    {
     "name": "stderr",
     "output_type": "stream",
     "text": [
      "ffmpeg version N-91330-ga990184007 Copyright (c) 2000-2018 the FFmpeg developers\n",
      "  built with gcc 7.3.0 (GCC)\n",
      "  configuration: --enable-gpl --enable-version3 --enable-sdl2 --enable-bzlib --enable-fontconfig --enable-gnutls --enable-iconv --enable-libass --enable-libbluray --enable-libfreetype --enable-libmp3lame --enable-libopencore-amrnb --enable-libopencore-amrwb --enable-libopenjpeg --enable-libopus --enable-libshine --enable-libsnappy --enable-libsoxr --enable-libtheora --enable-libtwolame --enable-libvpx --enable-libwavpack --enable-libwebp --enable-libx264 --enable-libx265 --enable-libxml2 --enable-libzimg --enable-lzma --enable-zlib --enable-gmp --enable-libvidstab --enable-libvorbis --enable-libvo-amrwbenc --enable-libmysofa --enable-libspeex --enable-libxvid --enable-libaom --enable-libmfx --enable-amf --enable-ffnvcodec --enable-cuvid --enable-d3d11va --enable-nvenc --enable-nvdec --enable-dxva2 --enable-avisynth\n",
      "  libavutil      56. 18.102 / 56. 18.102\n",
      "  libavcodec     58. 20.103 / 58. 20.103\n",
      "  libavformat    58. 17.100 / 58. 17.100\n",
      "  libavdevice    58.  4.101 / 58.  4.101\n",
      "  libavfilter     7. 25.100 /  7. 25.100\n",
      "  libswscale      5.  2.100 /  5.  2.100\n",
      "  libswresample   3.  2.100 /  3.  2.100\n",
      "  libpostproc    55.  2.100 / 55.  2.100\n",
      "Input #0, avi, from 'Walking//person03_walking_d2_uncomp.avi':\n",
      "  Duration: 00:00:38.40, start: 0.000000, bitrate: 802 kb/s\n",
      "    Stream #0:0: Video: mpeg4 (DX50 / 0x30355844), yuv420p, 160x120 [SAR 1:1 DAR 4:3], 797 kb/s, 25 fps, 25 tbr, 25 tbn, 30k tbc\n",
      "Stream mapping:\n",
      "  Stream #0:0 -> #0:0 (mpeg4 (native) -> mjpeg (native))\n",
      "Press [q] to stop, [?] for help\n",
      "[swscaler @ 0000017793ef8040] deprecated pixel format used, make sure you did set range correctly\n",
      "Output #0, image2, to 'frames/walk%02d.jpg':\n",
      "  Metadata:\n",
      "    encoder         : Lavf58.17.100\n",
      "    Stream #0:0: Video: mjpeg, yuvj420p(pc), 160x120 [SAR 1:1 DAR 4:3], q=2-31, 200 kb/s, 25 fps, 25 tbn, 25 tbc\n",
      "    Metadata:\n",
      "      encoder         : Lavc58.20.103 mjpeg\n",
      "    Side data:\n",
      "      cpb: bitrate max/min/avg: 0/0/200000 buffer size: 0 vbv_delay: -1\n",
      "frame=   40 fps=0.0 q=6.5 Lsize=N/A time=00:00:01.60 bitrate=N/A speed=4.13x    \n",
      "video:77kB audio:0kB subtitle:0kB other streams:0kB global headers:0kB muxing overhead: unknown\n"
     ]
    },
    {
     "name": "stdout",
     "output_type": "stream",
     "text": [
      "9th video done\n"
     ]
    },
    {
     "name": "stderr",
     "output_type": "stream",
     "text": [
      "ffmpeg version N-91330-ga990184007 Copyright (c) 2000-2018 the FFmpeg developers\n",
      "  built with gcc 7.3.0 (GCC)\n",
      "  configuration: --enable-gpl --enable-version3 --enable-sdl2 --enable-bzlib --enable-fontconfig --enable-gnutls --enable-iconv --enable-libass --enable-libbluray --enable-libfreetype --enable-libmp3lame --enable-libopencore-amrnb --enable-libopencore-amrwb --enable-libopenjpeg --enable-libopus --enable-libshine --enable-libsnappy --enable-libsoxr --enable-libtheora --enable-libtwolame --enable-libvpx --enable-libwavpack --enable-libwebp --enable-libx264 --enable-libx265 --enable-libxml2 --enable-libzimg --enable-lzma --enable-zlib --enable-gmp --enable-libvidstab --enable-libvorbis --enable-libvo-amrwbenc --enable-libmysofa --enable-libspeex --enable-libxvid --enable-libaom --enable-libmfx --enable-amf --enable-ffnvcodec --enable-cuvid --enable-d3d11va --enable-nvenc --enable-nvdec --enable-dxva2 --enable-avisynth\n",
      "  libavutil      56. 18.102 / 56. 18.102\n",
      "  libavcodec     58. 20.103 / 58. 20.103\n",
      "  libavformat    58. 17.100 / 58. 17.100\n",
      "  libavdevice    58.  4.101 / 58.  4.101\n",
      "  libavfilter     7. 25.100 /  7. 25.100\n",
      "  libswscale      5.  2.100 /  5.  2.100\n",
      "  libswresample   3.  2.100 /  3.  2.100\n",
      "  libpostproc    55.  2.100 / 55.  2.100\n",
      "Input #0, avi, from 'Walking//person03_walking_d3_uncomp.avi':\n",
      "  Duration: 00:00:44.80, start: 0.000000, bitrate: 829 kb/s\n",
      "    Stream #0:0: Video: mpeg4 (DX50 / 0x30355844), yuv420p, 160x120 [SAR 1:1 DAR 4:3], 823 kb/s, 25 fps, 25 tbr, 25 tbn, 30k tbc\n",
      "Stream mapping:\n",
      "  Stream #0:0 -> #0:0 (mpeg4 (native) -> mjpeg (native))\n",
      "Press [q] to stop, [?] for help\n",
      "[swscaler @ 000001ce0a3b0c80] deprecated pixel format used, make sure you did set range correctly\n",
      "Output #0, image2, to 'frames/walk%02d.jpg':\n",
      "  Metadata:\n",
      "    encoder         : Lavf58.17.100\n",
      "    Stream #0:0: Video: mjpeg, yuvj420p(pc), 160x120 [SAR 1:1 DAR 4:3], q=2-31, 200 kb/s, 25 fps, 25 tbn, 25 tbc\n",
      "    Metadata:\n",
      "      encoder         : Lavc58.20.103 mjpeg\n",
      "    Side data:\n",
      "      cpb: bitrate max/min/avg: 0/0/200000 buffer size: 0 vbv_delay: -1\n",
      "frame=   40 fps=0.0 q=6.6 Lsize=N/A time=00:00:01.60 bitrate=N/A speed=4.17x    \n",
      "video:79kB audio:0kB subtitle:0kB other streams:0kB global headers:0kB muxing overhead: unknown\n"
     ]
    },
    {
     "name": "stdout",
     "output_type": "stream",
     "text": [
      "10th video done\n"
     ]
    },
    {
     "name": "stderr",
     "output_type": "stream",
     "text": [
      "ffmpeg version N-91330-ga990184007 Copyright (c) 2000-2018 the FFmpeg developers\n",
      "  built with gcc 7.3.0 (GCC)\n",
      "  configuration: --enable-gpl --enable-version3 --enable-sdl2 --enable-bzlib --enable-fontconfig --enable-gnutls --enable-iconv --enable-libass --enable-libbluray --enable-libfreetype --enable-libmp3lame --enable-libopencore-amrnb --enable-libopencore-amrwb --enable-libopenjpeg --enable-libopus --enable-libshine --enable-libsnappy --enable-libsoxr --enable-libtheora --enable-libtwolame --enable-libvpx --enable-libwavpack --enable-libwebp --enable-libx264 --enable-libx265 --enable-libxml2 --enable-libzimg --enable-lzma --enable-zlib --enable-gmp --enable-libvidstab --enable-libvorbis --enable-libvo-amrwbenc --enable-libmysofa --enable-libspeex --enable-libxvid --enable-libaom --enable-libmfx --enable-amf --enable-ffnvcodec --enable-cuvid --enable-d3d11va --enable-nvenc --enable-nvdec --enable-dxva2 --enable-avisynth\n",
      "  libavutil      56. 18.102 / 56. 18.102\n",
      "  libavcodec     58. 20.103 / 58. 20.103\n",
      "  libavformat    58. 17.100 / 58. 17.100\n",
      "  libavdevice    58.  4.101 / 58.  4.101\n",
      "  libavfilter     7. 25.100 /  7. 25.100\n",
      "  libswscale      5.  2.100 /  5.  2.100\n",
      "  libswresample   3.  2.100 /  3.  2.100\n",
      "  libpostproc    55.  2.100 / 55.  2.100\n",
      "Input #0, avi, from 'Walking//person03_walking_d4_uncomp.avi':\n",
      "  Duration: 00:00:17.28, start: 0.000000, bitrate: 400 kb/s\n",
      "    Stream #0:0: Video: mpeg4 (DX50 / 0x30355844), yuv420p, 160x120 [SAR 1:1 DAR 4:3], 391 kb/s, 25 fps, 25 tbr, 25 tbn, 30k tbc\n",
      "Stream mapping:\n",
      "  Stream #0:0 -> #0:0 (mpeg4 (native) -> mjpeg (native))\n",
      "Press [q] to stop, [?] for help\n",
      "[swscaler @ 00000295dc614ec0] deprecated pixel format used, make sure you did set range correctly\n",
      "Output #0, image2, to 'frames/walk%02d.jpg':\n",
      "  Metadata:\n",
      "    encoder         : Lavf58.17.100\n",
      "    Stream #0:0: Video: mjpeg, yuvj420p(pc), 160x120 [SAR 1:1 DAR 4:3], q=2-31, 200 kb/s, 25 fps, 25 tbn, 25 tbc\n",
      "    Metadata:\n",
      "      encoder         : Lavc58.20.103 mjpeg\n",
      "    Side data:\n",
      "      cpb: bitrate max/min/avg: 0/0/200000 buffer size: 0 vbv_delay: -1\n",
      "frame=   40 fps=0.0 q=5.1 Lsize=N/A time=00:00:01.60 bitrate=N/A speed=4.21x    \n",
      "video:71kB audio:0kB subtitle:0kB other streams:0kB global headers:0kB muxing overhead: unknown\n"
     ]
    },
    {
     "name": "stdout",
     "output_type": "stream",
     "text": [
      "11th video done\n"
     ]
    },
    {
     "name": "stderr",
     "output_type": "stream",
     "text": [
      "ffmpeg version N-91330-ga990184007 Copyright (c) 2000-2018 the FFmpeg developers\n",
      "  built with gcc 7.3.0 (GCC)\n",
      "  configuration: --enable-gpl --enable-version3 --enable-sdl2 --enable-bzlib --enable-fontconfig --enable-gnutls --enable-iconv --enable-libass --enable-libbluray --enable-libfreetype --enable-libmp3lame --enable-libopencore-amrnb --enable-libopencore-amrwb --enable-libopenjpeg --enable-libopus --enable-libshine --enable-libsnappy --enable-libsoxr --enable-libtheora --enable-libtwolame --enable-libvpx --enable-libwavpack --enable-libwebp --enable-libx264 --enable-libx265 --enable-libxml2 --enable-libzimg --enable-lzma --enable-zlib --enable-gmp --enable-libvidstab --enable-libvorbis --enable-libvo-amrwbenc --enable-libmysofa --enable-libspeex --enable-libxvid --enable-libaom --enable-libmfx --enable-amf --enable-ffnvcodec --enable-cuvid --enable-d3d11va --enable-nvenc --enable-nvdec --enable-dxva2 --enable-avisynth\n",
      "  libavutil      56. 18.102 / 56. 18.102\n",
      "  libavcodec     58. 20.103 / 58. 20.103\n",
      "  libavformat    58. 17.100 / 58. 17.100\n",
      "  libavdevice    58.  4.101 / 58.  4.101\n",
      "  libavfilter     7. 25.100 /  7. 25.100\n",
      "  libswscale      5.  2.100 /  5.  2.100\n",
      "  libswresample   3.  2.100 /  3.  2.100\n",
      "  libpostproc    55.  2.100 / 55.  2.100\n",
      "Input #0, avi, from 'Walking//person04_walking_d1_uncomp.avi':\n",
      "  Duration: 00:00:18.80, start: 0.000000, bitrate: 928 kb/s\n",
      "    Stream #0:0: Video: mpeg4 (DX50 / 0x30355844), yuv420p, 160x120 [SAR 1:1 DAR 4:3], 920 kb/s, 25 fps, 25 tbr, 25 tbn, 30k tbc\n",
      "Stream mapping:\n",
      "  Stream #0:0 -> #0:0 (mpeg4 (native) -> mjpeg (native))\n",
      "Press [q] to stop, [?] for help\n",
      "[swscaler @ 000001c8ce288240] deprecated pixel format used, make sure you did set range correctly\n",
      "Output #0, image2, to 'frames/walk%02d.jpg':\n",
      "  Metadata:\n",
      "    encoder         : Lavf58.17.100\n",
      "    Stream #0:0: Video: mjpeg, yuvj420p(pc), 160x120 [SAR 1:1 DAR 4:3], q=2-31, 200 kb/s, 25 fps, 25 tbn, 25 tbc\n",
      "    Metadata:\n",
      "      encoder         : Lavc58.20.103 mjpeg\n",
      "    Side data:\n",
      "      cpb: bitrate max/min/avg: 0/0/200000 buffer size: 0 vbv_delay: -1\n",
      "frame=   40 fps=0.0 q=9.8 Lsize=N/A time=00:00:01.60 bitrate=N/A speed=4.15x    \n",
      "video:82kB audio:0kB subtitle:0kB other streams:0kB global headers:0kB muxing overhead: unknown\n"
     ]
    },
    {
     "name": "stdout",
     "output_type": "stream",
     "text": [
      "12th video done\n"
     ]
    },
    {
     "name": "stderr",
     "output_type": "stream",
     "text": [
      "ffmpeg version N-91330-ga990184007 Copyright (c) 2000-2018 the FFmpeg developers\n",
      "  built with gcc 7.3.0 (GCC)\n",
      "  configuration: --enable-gpl --enable-version3 --enable-sdl2 --enable-bzlib --enable-fontconfig --enable-gnutls --enable-iconv --enable-libass --enable-libbluray --enable-libfreetype --enable-libmp3lame --enable-libopencore-amrnb --enable-libopencore-amrwb --enable-libopenjpeg --enable-libopus --enable-libshine --enable-libsnappy --enable-libsoxr --enable-libtheora --enable-libtwolame --enable-libvpx --enable-libwavpack --enable-libwebp --enable-libx264 --enable-libx265 --enable-libxml2 --enable-libzimg --enable-lzma --enable-zlib --enable-gmp --enable-libvidstab --enable-libvorbis --enable-libvo-amrwbenc --enable-libmysofa --enable-libspeex --enable-libxvid --enable-libaom --enable-libmfx --enable-amf --enable-ffnvcodec --enable-cuvid --enable-d3d11va --enable-nvenc --enable-nvdec --enable-dxva2 --enable-avisynth\n",
      "  libavutil      56. 18.102 / 56. 18.102\n",
      "  libavcodec     58. 20.103 / 58. 20.103\n",
      "  libavformat    58. 17.100 / 58. 17.100\n",
      "  libavdevice    58.  4.101 / 58.  4.101\n",
      "  libavfilter     7. 25.100 /  7. 25.100\n",
      "  libswscale      5.  2.100 /  5.  2.100\n",
      "  libswresample   3.  2.100 /  3.  2.100\n",
      "  libpostproc    55.  2.100 / 55.  2.100\n",
      "Input #0, avi, from 'Walking//person04_walking_d2_uncomp.avi':\n",
      "  Duration: 00:00:33.60, start: 0.000000, bitrate: 787 kb/s\n",
      "    Stream #0:0: Video: mpeg4 (DX50 / 0x30355844), yuv420p, 160x120 [SAR 1:1 DAR 4:3], 780 kb/s, 25 fps, 25 tbr, 25 tbn, 30k tbc\n",
      "Stream mapping:\n",
      "  Stream #0:0 -> #0:0 (mpeg4 (native) -> mjpeg (native))\n",
      "Press [q] to stop, [?] for help\n",
      "[swscaler @ 000002637b363200] deprecated pixel format used, make sure you did set range correctly\n",
      "Output #0, image2, to 'frames/walk%02d.jpg':\n",
      "  Metadata:\n",
      "    encoder         : Lavf58.17.100\n",
      "    Stream #0:0: Video: mjpeg, yuvj420p(pc), 160x120 [SAR 1:1 DAR 4:3], q=2-31, 200 kb/s, 25 fps, 25 tbn, 25 tbc\n",
      "    Metadata:\n",
      "      encoder         : Lavc58.20.103 mjpeg\n",
      "    Side data:\n",
      "      cpb: bitrate max/min/avg: 0/0/200000 buffer size: 0 vbv_delay: -1\n",
      "frame=   40 fps=0.0 q=13.3 Lsize=N/A time=00:00:01.60 bitrate=N/A speed=4.92x    \n",
      "video:92kB audio:0kB subtitle:0kB other streams:0kB global headers:0kB muxing overhead: unknown\n"
     ]
    },
    {
     "name": "stdout",
     "output_type": "stream",
     "text": [
      "13th video done\n"
     ]
    },
    {
     "name": "stderr",
     "output_type": "stream",
     "text": [
      "ffmpeg version N-91330-ga990184007 Copyright (c) 2000-2018 the FFmpeg developers\n",
      "  built with gcc 7.3.0 (GCC)\n",
      "  configuration: --enable-gpl --enable-version3 --enable-sdl2 --enable-bzlib --enable-fontconfig --enable-gnutls --enable-iconv --enable-libass --enable-libbluray --enable-libfreetype --enable-libmp3lame --enable-libopencore-amrnb --enable-libopencore-amrwb --enable-libopenjpeg --enable-libopus --enable-libshine --enable-libsnappy --enable-libsoxr --enable-libtheora --enable-libtwolame --enable-libvpx --enable-libwavpack --enable-libwebp --enable-libx264 --enable-libx265 --enable-libxml2 --enable-libzimg --enable-lzma --enable-zlib --enable-gmp --enable-libvidstab --enable-libvorbis --enable-libvo-amrwbenc --enable-libmysofa --enable-libspeex --enable-libxvid --enable-libaom --enable-libmfx --enable-amf --enable-ffnvcodec --enable-cuvid --enable-d3d11va --enable-nvenc --enable-nvdec --enable-dxva2 --enable-avisynth\n",
      "  libavutil      56. 18.102 / 56. 18.102\n",
      "  libavcodec     58. 20.103 / 58. 20.103\n",
      "  libavformat    58. 17.100 / 58. 17.100\n",
      "  libavdevice    58.  4.101 / 58.  4.101\n",
      "  libavfilter     7. 25.100 /  7. 25.100\n",
      "  libswscale      5.  2.100 /  5.  2.100\n",
      "  libswresample   3.  2.100 /  3.  2.100\n",
      "  libpostproc    55.  2.100 / 55.  2.100\n",
      "Input #0, avi, from 'Walking//person04_walking_d3_uncomp.avi':\n",
      "  Duration: 00:00:19.20, start: 0.000000, bitrate: 1126 kb/s\n",
      "    Stream #0:0: Video: mpeg4 (DX50 / 0x30355844), yuv420p, 160x120 [SAR 1:1 DAR 4:3], 1120 kb/s, 25 fps, 25 tbr, 25 tbn, 30k tbc\n",
      "Stream mapping:\n",
      "  Stream #0:0 -> #0:0 (mpeg4 (native) -> mjpeg (native))\n",
      "Press [q] to stop, [?] for help\n",
      "[swscaler @ 0000026ec1499000] deprecated pixel format used, make sure you did set range correctly\n",
      "Output #0, image2, to 'frames/walk%02d.jpg':\n",
      "  Metadata:\n",
      "    encoder         : Lavf58.17.100\n",
      "    Stream #0:0: Video: mjpeg, yuvj420p(pc), 160x120 [SAR 1:1 DAR 4:3], q=2-31, 200 kb/s, 25 fps, 25 tbn, 25 tbc\n",
      "    Metadata:\n",
      "      encoder         : Lavc58.20.103 mjpeg\n",
      "    Side data:\n",
      "      cpb: bitrate max/min/avg: 0/0/200000 buffer size: 0 vbv_delay: -1\n",
      "frame=   40 fps=0.0 q=16.3 Lsize=N/A time=00:00:01.60 bitrate=N/A speed=5.16x    \n",
      "video:93kB audio:0kB subtitle:0kB other streams:0kB global headers:0kB muxing overhead: unknown\n"
     ]
    },
    {
     "name": "stdout",
     "output_type": "stream",
     "text": [
      "14th video done\n"
     ]
    },
    {
     "name": "stderr",
     "output_type": "stream",
     "text": [
      "ffmpeg version N-91330-ga990184007 Copyright (c) 2000-2018 the FFmpeg developers\n",
      "  built with gcc 7.3.0 (GCC)\n",
      "  configuration: --enable-gpl --enable-version3 --enable-sdl2 --enable-bzlib --enable-fontconfig --enable-gnutls --enable-iconv --enable-libass --enable-libbluray --enable-libfreetype --enable-libmp3lame --enable-libopencore-amrnb --enable-libopencore-amrwb --enable-libopenjpeg --enable-libopus --enable-libshine --enable-libsnappy --enable-libsoxr --enable-libtheora --enable-libtwolame --enable-libvpx --enable-libwavpack --enable-libwebp --enable-libx264 --enable-libx265 --enable-libxml2 --enable-libzimg --enable-lzma --enable-zlib --enable-gmp --enable-libvidstab --enable-libvorbis --enable-libvo-amrwbenc --enable-libmysofa --enable-libspeex --enable-libxvid --enable-libaom --enable-libmfx --enable-amf --enable-ffnvcodec --enable-cuvid --enable-d3d11va --enable-nvenc --enable-nvdec --enable-dxva2 --enable-avisynth\n",
      "  libavutil      56. 18.102 / 56. 18.102\n",
      "  libavcodec     58. 20.103 / 58. 20.103\n",
      "  libavformat    58. 17.100 / 58. 17.100\n",
      "  libavdevice    58.  4.101 / 58.  4.101\n",
      "  libavfilter     7. 25.100 /  7. 25.100\n",
      "  libswscale      5.  2.100 /  5.  2.100\n",
      "  libswresample   3.  2.100 /  3.  2.100\n",
      "  libpostproc    55.  2.100 / 55.  2.100\n",
      "Input #0, avi, from 'Walking//person04_walking_d4_uncomp.avi':\n",
      "  Duration: 00:00:16.72, start: 0.000000, bitrate: 360 kb/s\n",
      "    Stream #0:0: Video: mpeg4 (DX50 / 0x30355844), yuv420p, 160x120 [SAR 1:1 DAR 4:3], 352 kb/s, 25 fps, 25 tbr, 25 tbn, 30k tbc\n",
      "Stream mapping:\n",
      "  Stream #0:0 -> #0:0 (mpeg4 (native) -> mjpeg (native))\n",
      "Press [q] to stop, [?] for help\n",
      "[swscaler @ 0000021d21bbf940] deprecated pixel format used, make sure you did set range correctly\n",
      "Output #0, image2, to 'frames/walk%02d.jpg':\n",
      "  Metadata:\n",
      "    encoder         : Lavf58.17.100\n",
      "    Stream #0:0: Video: mjpeg, yuvj420p(pc), 160x120 [SAR 1:1 DAR 4:3], q=2-31, 200 kb/s, 25 fps, 25 tbn, 25 tbc\n",
      "    Metadata:\n",
      "      encoder         : Lavc58.20.103 mjpeg\n",
      "    Side data:\n",
      "      cpb: bitrate max/min/avg: 0/0/200000 buffer size: 0 vbv_delay: -1\n",
      "frame=   40 fps=0.0 q=3.6 Lsize=N/A time=00:00:01.60 bitrate=N/A speed=3.22x    \n",
      "video:65kB audio:0kB subtitle:0kB other streams:0kB global headers:0kB muxing overhead: unknown\n"
     ]
    },
    {
     "name": "stdout",
     "output_type": "stream",
     "text": [
      "15th video done\n"
     ]
    },
    {
     "name": "stderr",
     "output_type": "stream",
     "text": [
      "ffmpeg version N-91330-ga990184007 Copyright (c) 2000-2018 the FFmpeg developers\n",
      "  built with gcc 7.3.0 (GCC)\n",
      "  configuration: --enable-gpl --enable-version3 --enable-sdl2 --enable-bzlib --enable-fontconfig --enable-gnutls --enable-iconv --enable-libass --enable-libbluray --enable-libfreetype --enable-libmp3lame --enable-libopencore-amrnb --enable-libopencore-amrwb --enable-libopenjpeg --enable-libopus --enable-libshine --enable-libsnappy --enable-libsoxr --enable-libtheora --enable-libtwolame --enable-libvpx --enable-libwavpack --enable-libwebp --enable-libx264 --enable-libx265 --enable-libxml2 --enable-libzimg --enable-lzma --enable-zlib --enable-gmp --enable-libvidstab --enable-libvorbis --enable-libvo-amrwbenc --enable-libmysofa --enable-libspeex --enable-libxvid --enable-libaom --enable-libmfx --enable-amf --enable-ffnvcodec --enable-cuvid --enable-d3d11va --enable-nvenc --enable-nvdec --enable-dxva2 --enable-avisynth\n",
      "  libavutil      56. 18.102 / 56. 18.102\n",
      "  libavcodec     58. 20.103 / 58. 20.103\n",
      "  libavformat    58. 17.100 / 58. 17.100\n",
      "  libavdevice    58.  4.101 / 58.  4.101\n",
      "  libavfilter     7. 25.100 /  7. 25.100\n",
      "  libswscale      5.  2.100 /  5.  2.100\n",
      "  libswresample   3.  2.100 /  3.  2.100\n",
      "  libpostproc    55.  2.100 / 55.  2.100\n",
      "Input #0, avi, from 'Walking//person05_walking_d1_uncomp.avi':\n",
      "  Duration: 00:00:21.40, start: 0.000000, bitrate: 1042 kb/s\n",
      "    Stream #0:0: Video: mpeg4 (DX50 / 0x30355844), yuv420p, 160x120 [SAR 1:1 DAR 4:3], 1036 kb/s, 25 fps, 25 tbr, 25 tbn, 30k tbc\n",
      "Stream mapping:\n",
      "  Stream #0:0 -> #0:0 (mpeg4 (native) -> mjpeg (native))\n",
      "Press [q] to stop, [?] for help\n",
      "[swscaler @ 000001cc7795a280] deprecated pixel format used, make sure you did set range correctly\n",
      "Output #0, image2, to 'frames/walk%02d.jpg':\n",
      "  Metadata:\n",
      "    encoder         : Lavf58.17.100\n",
      "    Stream #0:0: Video: mjpeg, yuvj420p(pc), 160x120 [SAR 1:1 DAR 4:3], q=2-31, 200 kb/s, 25 fps, 25 tbn, 25 tbc\n",
      "    Metadata:\n",
      "      encoder         : Lavc58.20.103 mjpeg\n",
      "    Side data:\n",
      "      cpb: bitrate max/min/avg: 0/0/200000 buffer size: 0 vbv_delay: -1\n",
      "frame=   33 fps=0.0 q=12.3 size=N/A time=00:00:01.32 bitrate=N/A speed=2.59x    \n",
      "frame=   40 fps=0.0 q=12.8 Lsize=N/A time=00:00:01.60 bitrate=N/A speed=2.63x    \n",
      "video:89kB audio:0kB subtitle:0kB other streams:0kB global headers:0kB muxing overhead: unknown\n"
     ]
    },
    {
     "name": "stdout",
     "output_type": "stream",
     "text": [
      "16th video done\n"
     ]
    },
    {
     "name": "stderr",
     "output_type": "stream",
     "text": [
      "ffmpeg version N-91330-ga990184007 Copyright (c) 2000-2018 the FFmpeg developers\n",
      "  built with gcc 7.3.0 (GCC)\n",
      "  configuration: --enable-gpl --enable-version3 --enable-sdl2 --enable-bzlib --enable-fontconfig --enable-gnutls --enable-iconv --enable-libass --enable-libbluray --enable-libfreetype --enable-libmp3lame --enable-libopencore-amrnb --enable-libopencore-amrwb --enable-libopenjpeg --enable-libopus --enable-libshine --enable-libsnappy --enable-libsoxr --enable-libtheora --enable-libtwolame --enable-libvpx --enable-libwavpack --enable-libwebp --enable-libx264 --enable-libx265 --enable-libxml2 --enable-libzimg --enable-lzma --enable-zlib --enable-gmp --enable-libvidstab --enable-libvorbis --enable-libvo-amrwbenc --enable-libmysofa --enable-libspeex --enable-libxvid --enable-libaom --enable-libmfx --enable-amf --enable-ffnvcodec --enable-cuvid --enable-d3d11va --enable-nvenc --enable-nvdec --enable-dxva2 --enable-avisynth\n",
      "  libavutil      56. 18.102 / 56. 18.102\n",
      "  libavcodec     58. 20.103 / 58. 20.103\n",
      "  libavformat    58. 17.100 / 58. 17.100\n",
      "  libavdevice    58.  4.101 / 58.  4.101\n",
      "  libavfilter     7. 25.100 /  7. 25.100\n",
      "  libswscale      5.  2.100 /  5.  2.100\n",
      "  libswresample   3.  2.100 /  3.  2.100\n",
      "  libpostproc    55.  2.100 / 55.  2.100\n",
      "Input #0, avi, from 'Walking//person05_walking_d2_uncomp.avi':\n",
      "  Duration: 00:00:27.00, start: 0.000000, bitrate: 910 kb/s\n",
      "    Stream #0:0: Video: mpeg4 (DX50 / 0x30355844), yuv420p, 160x120 [SAR 1:1 DAR 4:3], 904 kb/s, 25 fps, 25 tbr, 25 tbn, 30k tbc\n",
      "Stream mapping:\n",
      "  Stream #0:0 -> #0:0 (mpeg4 (native) -> mjpeg (native))\n",
      "Press [q] to stop, [?] for help\n",
      "[swscaler @ 00000289b5aa2980] deprecated pixel format used, make sure you did set range correctly\n",
      "Output #0, image2, to 'frames/walk%02d.jpg':\n",
      "  Metadata:\n",
      "    encoder         : Lavf58.17.100\n",
      "    Stream #0:0: Video: mjpeg, yuvj420p(pc), 160x120 [SAR 1:1 DAR 4:3], q=2-31, 200 kb/s, 25 fps, 25 tbn, 25 tbc\n",
      "    Metadata:\n",
      "      encoder         : Lavc58.20.103 mjpeg\n",
      "    Side data:\n",
      "      cpb: bitrate max/min/avg: 0/0/200000 buffer size: 0 vbv_delay: -1\n",
      "frame=   40 fps=0.0 q=12.3 Lsize=N/A time=00:00:01.60 bitrate=N/A speed=4.46x    \n",
      "video:90kB audio:0kB subtitle:0kB other streams:0kB global headers:0kB muxing overhead: unknown\n"
     ]
    },
    {
     "name": "stdout",
     "output_type": "stream",
     "text": [
      "17th video done\n"
     ]
    },
    {
     "name": "stderr",
     "output_type": "stream",
     "text": [
      "ffmpeg version N-91330-ga990184007 Copyright (c) 2000-2018 the FFmpeg developers\n",
      "  built with gcc 7.3.0 (GCC)\n",
      "  configuration: --enable-gpl --enable-version3 --enable-sdl2 --enable-bzlib --enable-fontconfig --enable-gnutls --enable-iconv --enable-libass --enable-libbluray --enable-libfreetype --enable-libmp3lame --enable-libopencore-amrnb --enable-libopencore-amrwb --enable-libopenjpeg --enable-libopus --enable-libshine --enable-libsnappy --enable-libsoxr --enable-libtheora --enable-libtwolame --enable-libvpx --enable-libwavpack --enable-libwebp --enable-libx264 --enable-libx265 --enable-libxml2 --enable-libzimg --enable-lzma --enable-zlib --enable-gmp --enable-libvidstab --enable-libvorbis --enable-libvo-amrwbenc --enable-libmysofa --enable-libspeex --enable-libxvid --enable-libaom --enable-libmfx --enable-amf --enable-ffnvcodec --enable-cuvid --enable-d3d11va --enable-nvenc --enable-nvdec --enable-dxva2 --enable-avisynth\n",
      "  libavutil      56. 18.102 / 56. 18.102\n",
      "  libavcodec     58. 20.103 / 58. 20.103\n",
      "  libavformat    58. 17.100 / 58. 17.100\n",
      "  libavdevice    58.  4.101 / 58.  4.101\n",
      "  libavfilter     7. 25.100 /  7. 25.100\n",
      "  libswscale      5.  2.100 /  5.  2.100\n",
      "  libswresample   3.  2.100 /  3.  2.100\n",
      "  libpostproc    55.  2.100 / 55.  2.100\n",
      "Input #0, avi, from 'Walking//person05_walking_d3_uncomp.avi':\n",
      "  Duration: 00:00:22.08, start: 0.000000, bitrate: 989 kb/s\n",
      "    Stream #0:0: Video: mpeg4 (DX50 / 0x30355844), yuv420p, 160x120 [SAR 1:1 DAR 4:3], 983 kb/s, 25 fps, 25 tbr, 25 tbn, 30k tbc\n",
      "Stream mapping:\n",
      "  Stream #0:0 -> #0:0 (mpeg4 (native) -> mjpeg (native))\n",
      "Press [q] to stop, [?] for help\n",
      "[swscaler @ 000001f04f9e0400] deprecated pixel format used, make sure you did set range correctly\n",
      "Output #0, image2, to 'frames/walk%02d.jpg':\n",
      "  Metadata:\n",
      "    encoder         : Lavf58.17.100\n",
      "    Stream #0:0: Video: mjpeg, yuvj420p(pc), 160x120 [SAR 1:1 DAR 4:3], q=2-31, 200 kb/s, 25 fps, 25 tbn, 25 tbc\n",
      "    Metadata:\n",
      "      encoder         : Lavc58.20.103 mjpeg\n",
      "    Side data:\n",
      "      cpb: bitrate max/min/avg: 0/0/200000 buffer size: 0 vbv_delay: -1\n",
      "frame=   38 fps=0.0 q=13.8 size=N/A time=00:00:01.52 bitrate=N/A speed=3.03x    \n",
      "frame=   40 fps=0.0 q=13.7 Lsize=N/A time=00:00:01.60 bitrate=N/A speed=3.05x    \n",
      "video:92kB audio:0kB subtitle:0kB other streams:0kB global headers:0kB muxing overhead: unknown\n"
     ]
    },
    {
     "name": "stdout",
     "output_type": "stream",
     "text": [
      "18th video done\n"
     ]
    },
    {
     "name": "stderr",
     "output_type": "stream",
     "text": [
      "ffmpeg version N-91330-ga990184007 Copyright (c) 2000-2018 the FFmpeg developers\n",
      "  built with gcc 7.3.0 (GCC)\n",
      "  configuration: --enable-gpl --enable-version3 --enable-sdl2 --enable-bzlib --enable-fontconfig --enable-gnutls --enable-iconv --enable-libass --enable-libbluray --enable-libfreetype --enable-libmp3lame --enable-libopencore-amrnb --enable-libopencore-amrwb --enable-libopenjpeg --enable-libopus --enable-libshine --enable-libsnappy --enable-libsoxr --enable-libtheora --enable-libtwolame --enable-libvpx --enable-libwavpack --enable-libwebp --enable-libx264 --enable-libx265 --enable-libxml2 --enable-libzimg --enable-lzma --enable-zlib --enable-gmp --enable-libvidstab --enable-libvorbis --enable-libvo-amrwbenc --enable-libmysofa --enable-libspeex --enable-libxvid --enable-libaom --enable-libmfx --enable-amf --enable-ffnvcodec --enable-cuvid --enable-d3d11va --enable-nvenc --enable-nvdec --enable-dxva2 --enable-avisynth\n",
      "  libavutil      56. 18.102 / 56. 18.102\n",
      "  libavcodec     58. 20.103 / 58. 20.103\n",
      "  libavformat    58. 17.100 / 58. 17.100\n",
      "  libavdevice    58.  4.101 / 58.  4.101\n",
      "  libavfilter     7. 25.100 /  7. 25.100\n",
      "  libswscale      5.  2.100 /  5.  2.100\n",
      "  libswresample   3.  2.100 /  3.  2.100\n",
      "  libpostproc    55.  2.100 / 55.  2.100\n",
      "Input #0, avi, from 'Walking//person05_walking_d4_uncomp.avi':\n",
      "  Duration: 00:00:20.60, start: 0.000000, bitrate: 443 kb/s\n",
      "    Stream #0:0: Video: mpeg4 (DX50 / 0x30355844), yuv420p, 160x120 [SAR 1:1 DAR 4:3], 436 kb/s, 25 fps, 25 tbr, 25 tbn, 30k tbc\n",
      "Stream mapping:\n",
      "  Stream #0:0 -> #0:0 (mpeg4 (native) -> mjpeg (native))\n",
      "Press [q] to stop, [?] for help\n",
      "[swscaler @ 000001f2efa66600] deprecated pixel format used, make sure you did set range correctly\n",
      "Output #0, image2, to 'frames/walk%02d.jpg':\n",
      "  Metadata:\n",
      "    encoder         : Lavf58.17.100\n",
      "    Stream #0:0: Video: mjpeg, yuvj420p(pc), 160x120 [SAR 1:1 DAR 4:3], q=2-31, 200 kb/s, 25 fps, 25 tbn, 25 tbc\n",
      "    Metadata:\n",
      "      encoder         : Lavc58.20.103 mjpeg\n",
      "    Side data:\n",
      "      cpb: bitrate max/min/avg: 0/0/200000 buffer size: 0 vbv_delay: -1\n",
      "frame=   40 fps=0.0 q=4.3 Lsize=N/A time=00:00:01.60 bitrate=N/A speed=3.48x    \n",
      "video:69kB audio:0kB subtitle:0kB other streams:0kB global headers:0kB muxing overhead: unknown\n"
     ]
    },
    {
     "name": "stdout",
     "output_type": "stream",
     "text": [
      "19th video done\n"
     ]
    },
    {
     "name": "stderr",
     "output_type": "stream",
     "text": [
      "ffmpeg version N-91330-ga990184007 Copyright (c) 2000-2018 the FFmpeg developers\n",
      "  built with gcc 7.3.0 (GCC)\n",
      "  configuration: --enable-gpl --enable-version3 --enable-sdl2 --enable-bzlib --enable-fontconfig --enable-gnutls --enable-iconv --enable-libass --enable-libbluray --enable-libfreetype --enable-libmp3lame --enable-libopencore-amrnb --enable-libopencore-amrwb --enable-libopenjpeg --enable-libopus --enable-libshine --enable-libsnappy --enable-libsoxr --enable-libtheora --enable-libtwolame --enable-libvpx --enable-libwavpack --enable-libwebp --enable-libx264 --enable-libx265 --enable-libxml2 --enable-libzimg --enable-lzma --enable-zlib --enable-gmp --enable-libvidstab --enable-libvorbis --enable-libvo-amrwbenc --enable-libmysofa --enable-libspeex --enable-libxvid --enable-libaom --enable-libmfx --enable-amf --enable-ffnvcodec --enable-cuvid --enable-d3d11va --enable-nvenc --enable-nvdec --enable-dxva2 --enable-avisynth\n",
      "  libavutil      56. 18.102 / 56. 18.102\n",
      "  libavcodec     58. 20.103 / 58. 20.103\n",
      "  libavformat    58. 17.100 / 58. 17.100\n",
      "  libavdevice    58.  4.101 / 58.  4.101\n",
      "  libavfilter     7. 25.100 /  7. 25.100\n",
      "  libswscale      5.  2.100 /  5.  2.100\n",
      "  libswresample   3.  2.100 /  3.  2.100\n",
      "  libpostproc    55.  2.100 / 55.  2.100\n",
      "Input #0, avi, from 'Walking//person06_walking_d1_uncomp.avi':\n",
      "  Duration: 00:00:16.80, start: 0.000000, bitrate: 752 kb/s\n",
      "    Stream #0:0: Video: mpeg4 (DX50 / 0x30355844), yuv420p, 160x120 [SAR 1:1 DAR 4:3], 745 kb/s, 25 fps, 25 tbr, 25 tbn, 30k tbc\n",
      "Stream mapping:\n",
      "  Stream #0:0 -> #0:0 (mpeg4 (native) -> mjpeg (native))\n",
      "Press [q] to stop, [?] for help\n",
      "[swscaler @ 000002b3b5226080] deprecated pixel format used, make sure you did set range correctly\n",
      "Output #0, image2, to 'frames/walk%02d.jpg':\n",
      "  Metadata:\n",
      "    encoder         : Lavf58.17.100\n",
      "    Stream #0:0: Video: mjpeg, yuvj420p(pc), 160x120 [SAR 1:1 DAR 4:3], q=2-31, 200 kb/s, 25 fps, 25 tbn, 25 tbc\n",
      "    Metadata:\n",
      "      encoder         : Lavc58.20.103 mjpeg\n",
      "    Side data:\n",
      "      cpb: bitrate max/min/avg: 0/0/200000 buffer size: 0 vbv_delay: -1\n",
      "frame=   40 fps=0.0 q=5.1 Lsize=N/A time=00:00:01.60 bitrate=N/A speed=4.64x    \n",
      "video:71kB audio:0kB subtitle:0kB other streams:0kB global headers:0kB muxing overhead: unknown\n"
     ]
    },
    {
     "name": "stdout",
     "output_type": "stream",
     "text": [
      "20th video done\n"
     ]
    },
    {
     "name": "stderr",
     "output_type": "stream",
     "text": [
      "ffmpeg version N-91330-ga990184007 Copyright (c) 2000-2018 the FFmpeg developers\n",
      "  built with gcc 7.3.0 (GCC)\n",
      "  configuration: --enable-gpl --enable-version3 --enable-sdl2 --enable-bzlib --enable-fontconfig --enable-gnutls --enable-iconv --enable-libass --enable-libbluray --enable-libfreetype --enable-libmp3lame --enable-libopencore-amrnb --enable-libopencore-amrwb --enable-libopenjpeg --enable-libopus --enable-libshine --enable-libsnappy --enable-libsoxr --enable-libtheora --enable-libtwolame --enable-libvpx --enable-libwavpack --enable-libwebp --enable-libx264 --enable-libx265 --enable-libxml2 --enable-libzimg --enable-lzma --enable-zlib --enable-gmp --enable-libvidstab --enable-libvorbis --enable-libvo-amrwbenc --enable-libmysofa --enable-libspeex --enable-libxvid --enable-libaom --enable-libmfx --enable-amf --enable-ffnvcodec --enable-cuvid --enable-d3d11va --enable-nvenc --enable-nvdec --enable-dxva2 --enable-avisynth\n",
      "  libavutil      56. 18.102 / 56. 18.102\n",
      "  libavcodec     58. 20.103 / 58. 20.103\n",
      "  libavformat    58. 17.100 / 58. 17.100\n",
      "  libavdevice    58.  4.101 / 58.  4.101\n",
      "  libavfilter     7. 25.100 /  7. 25.100\n",
      "  libswscale      5.  2.100 /  5.  2.100\n",
      "  libswresample   3.  2.100 /  3.  2.100\n",
      "  libpostproc    55.  2.100 / 55.  2.100\n",
      "Input #0, avi, from 'Walking//person06_walking_d2_uncomp.avi':\n",
      "  Duration: 00:00:34.72, start: 0.000000, bitrate: 620 kb/s\n",
      "    Stream #0:0: Video: mpeg4 (DX50 / 0x30355844), yuv420p, 160x120 [SAR 1:1 DAR 4:3], 614 kb/s, 25 fps, 25 tbr, 25 tbn, 30k tbc\n",
      "Stream mapping:\n",
      "  Stream #0:0 -> #0:0 (mpeg4 (native) -> mjpeg (native))\n",
      "Press [q] to stop, [?] for help\n",
      "[swscaler @ 0000020e2d421f40] deprecated pixel format used, make sure you did set range correctly\n",
      "Output #0, image2, to 'frames/walk%02d.jpg':\n",
      "  Metadata:\n",
      "    encoder         : Lavf58.17.100\n",
      "    Stream #0:0: Video: mjpeg, yuvj420p(pc), 160x120 [SAR 1:1 DAR 4:3], q=2-31, 200 kb/s, 25 fps, 25 tbn, 25 tbc\n",
      "    Metadata:\n",
      "      encoder         : Lavc58.20.103 mjpeg\n",
      "    Side data:\n",
      "      cpb: bitrate max/min/avg: 0/0/200000 buffer size: 0 vbv_delay: -1\n",
      "frame=   40 fps=0.0 q=4.3 Lsize=N/A time=00:00:01.60 bitrate=N/A speed=4.67x    \n",
      "video:69kB audio:0kB subtitle:0kB other streams:0kB global headers:0kB muxing overhead: unknown\n"
     ]
    },
    {
     "name": "stdout",
     "output_type": "stream",
     "text": [
      "21th video done\n"
     ]
    },
    {
     "name": "stderr",
     "output_type": "stream",
     "text": [
      "ffmpeg version N-91330-ga990184007 Copyright (c) 2000-2018 the FFmpeg developers\n",
      "  built with gcc 7.3.0 (GCC)\n",
      "  configuration: --enable-gpl --enable-version3 --enable-sdl2 --enable-bzlib --enable-fontconfig --enable-gnutls --enable-iconv --enable-libass --enable-libbluray --enable-libfreetype --enable-libmp3lame --enable-libopencore-amrnb --enable-libopencore-amrwb --enable-libopenjpeg --enable-libopus --enable-libshine --enable-libsnappy --enable-libsoxr --enable-libtheora --enable-libtwolame --enable-libvpx --enable-libwavpack --enable-libwebp --enable-libx264 --enable-libx265 --enable-libxml2 --enable-libzimg --enable-lzma --enable-zlib --enable-gmp --enable-libvidstab --enable-libvorbis --enable-libvo-amrwbenc --enable-libmysofa --enable-libspeex --enable-libxvid --enable-libaom --enable-libmfx --enable-amf --enable-ffnvcodec --enable-cuvid --enable-d3d11va --enable-nvenc --enable-nvdec --enable-dxva2 --enable-avisynth\n",
      "  libavutil      56. 18.102 / 56. 18.102\n",
      "  libavcodec     58. 20.103 / 58. 20.103\n",
      "  libavformat    58. 17.100 / 58. 17.100\n",
      "  libavdevice    58.  4.101 / 58.  4.101\n",
      "  libavfilter     7. 25.100 /  7. 25.100\n",
      "  libswscale      5.  2.100 /  5.  2.100\n",
      "  libswresample   3.  2.100 /  3.  2.100\n",
      "  libpostproc    55.  2.100 / 55.  2.100\n",
      "Input #0, avi, from 'Walking//person06_walking_d3_uncomp.avi':\n",
      "  Duration: 00:00:16.32, start: 0.000000, bitrate: 716 kb/s\n",
      "    Stream #0:0: Video: mpeg4 (DX50 / 0x30355844), yuv420p, 160x120 [SAR 1:1 DAR 4:3], 709 kb/s, 25 fps, 25 tbr, 25 tbn, 30k tbc\n",
      "Stream mapping:\n",
      "  Stream #0:0 -> #0:0 (mpeg4 (native) -> mjpeg (native))\n",
      "Press [q] to stop, [?] for help\n",
      "[swscaler @ 00000216549355c0] deprecated pixel format used, make sure you did set range correctly\n",
      "Output #0, image2, to 'frames/walk%02d.jpg':\n",
      "  Metadata:\n",
      "    encoder         : Lavf58.17.100\n",
      "    Stream #0:0: Video: mjpeg, yuvj420p(pc), 160x120 [SAR 1:1 DAR 4:3], q=2-31, 200 kb/s, 25 fps, 25 tbn, 25 tbc\n",
      "    Metadata:\n",
      "      encoder         : Lavc58.20.103 mjpeg\n",
      "    Side data:\n",
      "      cpb: bitrate max/min/avg: 0/0/200000 buffer size: 0 vbv_delay: -1\n",
      "frame=   40 fps=0.0 q=5.5 Lsize=N/A time=00:00:01.60 bitrate=N/A speed=3.57x    \n",
      "video:71kB audio:0kB subtitle:0kB other streams:0kB global headers:0kB muxing overhead: unknown\n"
     ]
    },
    {
     "name": "stdout",
     "output_type": "stream",
     "text": [
      "22th video done\n"
     ]
    },
    {
     "name": "stderr",
     "output_type": "stream",
     "text": [
      "ffmpeg version N-91330-ga990184007 Copyright (c) 2000-2018 the FFmpeg developers\n",
      "  built with gcc 7.3.0 (GCC)\n",
      "  configuration: --enable-gpl --enable-version3 --enable-sdl2 --enable-bzlib --enable-fontconfig --enable-gnutls --enable-iconv --enable-libass --enable-libbluray --enable-libfreetype --enable-libmp3lame --enable-libopencore-amrnb --enable-libopencore-amrwb --enable-libopenjpeg --enable-libopus --enable-libshine --enable-libsnappy --enable-libsoxr --enable-libtheora --enable-libtwolame --enable-libvpx --enable-libwavpack --enable-libwebp --enable-libx264 --enable-libx265 --enable-libxml2 --enable-libzimg --enable-lzma --enable-zlib --enable-gmp --enable-libvidstab --enable-libvorbis --enable-libvo-amrwbenc --enable-libmysofa --enable-libspeex --enable-libxvid --enable-libaom --enable-libmfx --enable-amf --enable-ffnvcodec --enable-cuvid --enable-d3d11va --enable-nvenc --enable-nvdec --enable-dxva2 --enable-avisynth\n",
      "  libavutil      56. 18.102 / 56. 18.102\n",
      "  libavcodec     58. 20.103 / 58. 20.103\n",
      "  libavformat    58. 17.100 / 58. 17.100\n",
      "  libavdevice    58.  4.101 / 58.  4.101\n",
      "  libavfilter     7. 25.100 /  7. 25.100\n",
      "  libswscale      5.  2.100 /  5.  2.100\n",
      "  libswresample   3.  2.100 /  3.  2.100\n",
      "  libpostproc    55.  2.100 / 55.  2.100\n",
      "Input #0, avi, from 'Walking//person06_walking_d4_uncomp.avi':\n",
      "  Duration: 00:00:19.12, start: 0.000000, bitrate: 358 kb/s\n",
      "    Stream #0:0: Video: mpeg4 (DX50 / 0x30355844), yuv420p, 160x120 [SAR 1:1 DAR 4:3], 349 kb/s, 25 fps, 25 tbr, 25 tbn, 30k tbc\n",
      "Stream mapping:\n",
      "  Stream #0:0 -> #0:0 (mpeg4 (native) -> mjpeg (native))\n",
      "Press [q] to stop, [?] for help\n",
      "[swscaler @ 0000026d95f37380] deprecated pixel format used, make sure you did set range correctly\n",
      "Output #0, image2, to 'frames/walk%02d.jpg':\n",
      "  Metadata:\n",
      "    encoder         : Lavf58.17.100\n",
      "    Stream #0:0: Video: mjpeg, yuvj420p(pc), 160x120 [SAR 1:1 DAR 4:3], q=2-31, 200 kb/s, 25 fps, 25 tbn, 25 tbc\n",
      "    Metadata:\n",
      "      encoder         : Lavc58.20.103 mjpeg\n",
      "    Side data:\n",
      "      cpb: bitrate max/min/avg: 0/0/200000 buffer size: 0 vbv_delay: -1\n",
      "frame=   40 fps=0.0 q=4.3 Lsize=N/A time=00:00:01.60 bitrate=N/A speed=4.46x    \n",
      "video:68kB audio:0kB subtitle:0kB other streams:0kB global headers:0kB muxing overhead: unknown\n"
     ]
    },
    {
     "name": "stdout",
     "output_type": "stream",
     "text": [
      "23th video done\n"
     ]
    },
    {
     "name": "stderr",
     "output_type": "stream",
     "text": [
      "ffmpeg version N-91330-ga990184007 Copyright (c) 2000-2018 the FFmpeg developers\n",
      "  built with gcc 7.3.0 (GCC)\n",
      "  configuration: --enable-gpl --enable-version3 --enable-sdl2 --enable-bzlib --enable-fontconfig --enable-gnutls --enable-iconv --enable-libass --enable-libbluray --enable-libfreetype --enable-libmp3lame --enable-libopencore-amrnb --enable-libopencore-amrwb --enable-libopenjpeg --enable-libopus --enable-libshine --enable-libsnappy --enable-libsoxr --enable-libtheora --enable-libtwolame --enable-libvpx --enable-libwavpack --enable-libwebp --enable-libx264 --enable-libx265 --enable-libxml2 --enable-libzimg --enable-lzma --enable-zlib --enable-gmp --enable-libvidstab --enable-libvorbis --enable-libvo-amrwbenc --enable-libmysofa --enable-libspeex --enable-libxvid --enable-libaom --enable-libmfx --enable-amf --enable-ffnvcodec --enable-cuvid --enable-d3d11va --enable-nvenc --enable-nvdec --enable-dxva2 --enable-avisynth\n",
      "  libavutil      56. 18.102 / 56. 18.102\n",
      "  libavcodec     58. 20.103 / 58. 20.103\n",
      "  libavformat    58. 17.100 / 58. 17.100\n",
      "  libavdevice    58.  4.101 / 58.  4.101\n",
      "  libavfilter     7. 25.100 /  7. 25.100\n",
      "  libswscale      5.  2.100 /  5.  2.100\n",
      "  libswresample   3.  2.100 /  3.  2.100\n",
      "  libpostproc    55.  2.100 / 55.  2.100\n",
      "Input #0, avi, from 'Walking//person07_walking_d1_uncomp.avi':\n",
      "  Duration: 00:00:19.00, start: 0.000000, bitrate: 812 kb/s\n",
      "    Stream #0:0: Video: mpeg4 (DX50 / 0x30355844), yuv420p, 160x120 [SAR 1:1 DAR 4:3], 804 kb/s, 25 fps, 25 tbr, 25 tbn, 30k tbc\n",
      "Stream mapping:\n",
      "  Stream #0:0 -> #0:0 (mpeg4 (native) -> mjpeg (native))\n",
      "Press [q] to stop, [?] for help\n",
      "[swscaler @ 0000024cdc884940] deprecated pixel format used, make sure you did set range correctly\n",
      "Output #0, image2, to 'frames/walk%02d.jpg':\n",
      "  Metadata:\n",
      "    encoder         : Lavf58.17.100\n",
      "    Stream #0:0: Video: mjpeg, yuvj420p(pc), 160x120 [SAR 1:1 DAR 4:3], q=2-31, 200 kb/s, 25 fps, 25 tbn, 25 tbc\n",
      "    Metadata:\n",
      "      encoder         : Lavc58.20.103 mjpeg\n",
      "    Side data:\n",
      "      cpb: bitrate max/min/avg: 0/0/200000 buffer size: 0 vbv_delay: -1\n",
      "frame=   40 fps=0.0 q=5.3 Lsize=N/A time=00:00:01.60 bitrate=N/A speed=5.23x    \n",
      "video:69kB audio:0kB subtitle:0kB other streams:0kB global headers:0kB muxing overhead: unknown\n"
     ]
    },
    {
     "name": "stdout",
     "output_type": "stream",
     "text": [
      "24th video done\n"
     ]
    },
    {
     "name": "stderr",
     "output_type": "stream",
     "text": [
      "ffmpeg version N-91330-ga990184007 Copyright (c) 2000-2018 the FFmpeg developers\n",
      "  built with gcc 7.3.0 (GCC)\n",
      "  configuration: --enable-gpl --enable-version3 --enable-sdl2 --enable-bzlib --enable-fontconfig --enable-gnutls --enable-iconv --enable-libass --enable-libbluray --enable-libfreetype --enable-libmp3lame --enable-libopencore-amrnb --enable-libopencore-amrwb --enable-libopenjpeg --enable-libopus --enable-libshine --enable-libsnappy --enable-libsoxr --enable-libtheora --enable-libtwolame --enable-libvpx --enable-libwavpack --enable-libwebp --enable-libx264 --enable-libx265 --enable-libxml2 --enable-libzimg --enable-lzma --enable-zlib --enable-gmp --enable-libvidstab --enable-libvorbis --enable-libvo-amrwbenc --enable-libmysofa --enable-libspeex --enable-libxvid --enable-libaom --enable-libmfx --enable-amf --enable-ffnvcodec --enable-cuvid --enable-d3d11va --enable-nvenc --enable-nvdec --enable-dxva2 --enable-avisynth\n",
      "  libavutil      56. 18.102 / 56. 18.102\n",
      "  libavcodec     58. 20.103 / 58. 20.103\n",
      "  libavformat    58. 17.100 / 58. 17.100\n",
      "  libavdevice    58.  4.101 / 58.  4.101\n",
      "  libavfilter     7. 25.100 /  7. 25.100\n",
      "  libswscale      5.  2.100 /  5.  2.100\n",
      "  libswresample   3.  2.100 /  3.  2.100\n",
      "  libpostproc    55.  2.100 / 55.  2.100\n",
      "Input #0, avi, from 'Walking//person07_walking_d2_uncomp.avi':\n",
      "  Duration: 00:00:25.44, start: 0.000000, bitrate: 648 kb/s\n",
      "    Stream #0:0: Video: mpeg4 (DX50 / 0x30355844), yuv420p, 160x120 [SAR 1:1 DAR 4:3], 641 kb/s, 25 fps, 25 tbr, 25 tbn, 30k tbc\n",
      "Stream mapping:\n",
      "  Stream #0:0 -> #0:0 (mpeg4 (native) -> mjpeg (native))\n",
      "Press [q] to stop, [?] for help\n",
      "[swscaler @ 00000193f4e5f580] deprecated pixel format used, make sure you did set range correctly\n",
      "Output #0, image2, to 'frames/walk%02d.jpg':\n",
      "  Metadata:\n",
      "    encoder         : Lavf58.17.100\n",
      "    Stream #0:0: Video: mjpeg, yuvj420p(pc), 160x120 [SAR 1:1 DAR 4:3], q=2-31, 200 kb/s, 25 fps, 25 tbn, 25 tbc\n",
      "    Metadata:\n",
      "      encoder         : Lavc58.20.103 mjpeg\n",
      "    Side data:\n",
      "      cpb: bitrate max/min/avg: 0/0/200000 buffer size: 0 vbv_delay: -1\n",
      "frame=   40 fps=0.0 q=4.1 Lsize=N/A time=00:00:01.60 bitrate=N/A speed=5.36x    \n",
      "video:68kB audio:0kB subtitle:0kB other streams:0kB global headers:0kB muxing overhead: unknown\n"
     ]
    },
    {
     "name": "stdout",
     "output_type": "stream",
     "text": [
      "25th video done\n"
     ]
    },
    {
     "name": "stderr",
     "output_type": "stream",
     "text": [
      "ffmpeg version N-91330-ga990184007 Copyright (c) 2000-2018 the FFmpeg developers\n",
      "  built with gcc 7.3.0 (GCC)\n",
      "  configuration: --enable-gpl --enable-version3 --enable-sdl2 --enable-bzlib --enable-fontconfig --enable-gnutls --enable-iconv --enable-libass --enable-libbluray --enable-libfreetype --enable-libmp3lame --enable-libopencore-amrnb --enable-libopencore-amrwb --enable-libopenjpeg --enable-libopus --enable-libshine --enable-libsnappy --enable-libsoxr --enable-libtheora --enable-libtwolame --enable-libvpx --enable-libwavpack --enable-libwebp --enable-libx264 --enable-libx265 --enable-libxml2 --enable-libzimg --enable-lzma --enable-zlib --enable-gmp --enable-libvidstab --enable-libvorbis --enable-libvo-amrwbenc --enable-libmysofa --enable-libspeex --enable-libxvid --enable-libaom --enable-libmfx --enable-amf --enable-ffnvcodec --enable-cuvid --enable-d3d11va --enable-nvenc --enable-nvdec --enable-dxva2 --enable-avisynth\n",
      "  libavutil      56. 18.102 / 56. 18.102\n",
      "  libavcodec     58. 20.103 / 58. 20.103\n",
      "  libavformat    58. 17.100 / 58. 17.100\n",
      "  libavdevice    58.  4.101 / 58.  4.101\n",
      "  libavfilter     7. 25.100 /  7. 25.100\n",
      "  libswscale      5.  2.100 /  5.  2.100\n",
      "  libswresample   3.  2.100 /  3.  2.100\n",
      "  libpostproc    55.  2.100 / 55.  2.100\n",
      "Input #0, avi, from 'Walking//person07_walking_d3_uncomp.avi':\n",
      "  Duration: 00:00:19.80, start: 0.000000, bitrate: 648 kb/s\n",
      "    Stream #0:0: Video: mpeg4 (DX50 / 0x30355844), yuv420p, 160x120 [SAR 1:1 DAR 4:3], 641 kb/s, 25 fps, 25 tbr, 25 tbn, 30k tbc\n",
      "Stream mapping:\n",
      "  Stream #0:0 -> #0:0 (mpeg4 (native) -> mjpeg (native))\n",
      "Press [q] to stop, [?] for help\n",
      "[swscaler @ 000001a5e793bfc0] deprecated pixel format used, make sure you did set range correctly\n",
      "Output #0, image2, to 'frames/walk%02d.jpg':\n",
      "  Metadata:\n",
      "    encoder         : Lavf58.17.100\n",
      "    Stream #0:0: Video: mjpeg, yuvj420p(pc), 160x120 [SAR 1:1 DAR 4:3], q=2-31, 200 kb/s, 25 fps, 25 tbn, 25 tbc\n",
      "    Metadata:\n",
      "      encoder         : Lavc58.20.103 mjpeg\n",
      "    Side data:\n",
      "      cpb: bitrate max/min/avg: 0/0/200000 buffer size: 0 vbv_delay: -1\n",
      "frame=   40 fps=0.0 q=4.5 Lsize=N/A time=00:00:01.60 bitrate=N/A speed=5.17x    \n",
      "video:67kB audio:0kB subtitle:0kB other streams:0kB global headers:0kB muxing overhead: unknown\n"
     ]
    },
    {
     "name": "stdout",
     "output_type": "stream",
     "text": [
      "26th video done\n"
     ]
    },
    {
     "name": "stderr",
     "output_type": "stream",
     "text": [
      "ffmpeg version N-91330-ga990184007 Copyright (c) 2000-2018 the FFmpeg developers\n",
      "  built with gcc 7.3.0 (GCC)\n",
      "  configuration: --enable-gpl --enable-version3 --enable-sdl2 --enable-bzlib --enable-fontconfig --enable-gnutls --enable-iconv --enable-libass --enable-libbluray --enable-libfreetype --enable-libmp3lame --enable-libopencore-amrnb --enable-libopencore-amrwb --enable-libopenjpeg --enable-libopus --enable-libshine --enable-libsnappy --enable-libsoxr --enable-libtheora --enable-libtwolame --enable-libvpx --enable-libwavpack --enable-libwebp --enable-libx264 --enable-libx265 --enable-libxml2 --enable-libzimg --enable-lzma --enable-zlib --enable-gmp --enable-libvidstab --enable-libvorbis --enable-libvo-amrwbenc --enable-libmysofa --enable-libspeex --enable-libxvid --enable-libaom --enable-libmfx --enable-amf --enable-ffnvcodec --enable-cuvid --enable-d3d11va --enable-nvenc --enable-nvdec --enable-dxva2 --enable-avisynth\n",
      "  libavutil      56. 18.102 / 56. 18.102\n",
      "  libavcodec     58. 20.103 / 58. 20.103\n",
      "  libavformat    58. 17.100 / 58. 17.100\n",
      "  libavdevice    58.  4.101 / 58.  4.101\n",
      "  libavfilter     7. 25.100 /  7. 25.100\n",
      "  libswscale      5.  2.100 /  5.  2.100\n",
      "  libswresample   3.  2.100 /  3.  2.100\n",
      "  libpostproc    55.  2.100 / 55.  2.100\n",
      "Input #0, avi, from 'Walking//person07_walking_d4_uncomp.avi':\n",
      "  Duration: 00:00:22.00, start: 0.000000, bitrate: 522 kb/s\n",
      "    Stream #0:0: Video: mpeg4 (DX50 / 0x30355844), yuv420p, 160x120 [SAR 1:1 DAR 4:3], 515 kb/s, 25 fps, 25 tbr, 25 tbn, 30k tbc\n",
      "Stream mapping:\n",
      "  Stream #0:0 -> #0:0 (mpeg4 (native) -> mjpeg (native))\n",
      "Press [q] to stop, [?] for help\n",
      "[swscaler @ 0000021023bf5480] deprecated pixel format used, make sure you did set range correctly\n",
      "Output #0, image2, to 'frames/walk%02d.jpg':\n",
      "  Metadata:\n",
      "    encoder         : Lavf58.17.100\n",
      "    Stream #0:0: Video: mjpeg, yuvj420p(pc), 160x120 [SAR 1:1 DAR 4:3], q=2-31, 200 kb/s, 25 fps, 25 tbn, 25 tbc\n",
      "    Metadata:\n",
      "      encoder         : Lavc58.20.103 mjpeg\n",
      "    Side data:\n",
      "      cpb: bitrate max/min/avg: 0/0/200000 buffer size: 0 vbv_delay: -1\n",
      "frame=   40 fps=0.0 q=3.5 Lsize=N/A time=00:00:01.60 bitrate=N/A speed=3.87x    \n",
      "video:67kB audio:0kB subtitle:0kB other streams:0kB global headers:0kB muxing overhead: unknown\n"
     ]
    },
    {
     "name": "stdout",
     "output_type": "stream",
     "text": [
      "27th video done\n"
     ]
    },
    {
     "name": "stderr",
     "output_type": "stream",
     "text": [
      "ffmpeg version N-91330-ga990184007 Copyright (c) 2000-2018 the FFmpeg developers\n",
      "  built with gcc 7.3.0 (GCC)\n",
      "  configuration: --enable-gpl --enable-version3 --enable-sdl2 --enable-bzlib --enable-fontconfig --enable-gnutls --enable-iconv --enable-libass --enable-libbluray --enable-libfreetype --enable-libmp3lame --enable-libopencore-amrnb --enable-libopencore-amrwb --enable-libopenjpeg --enable-libopus --enable-libshine --enable-libsnappy --enable-libsoxr --enable-libtheora --enable-libtwolame --enable-libvpx --enable-libwavpack --enable-libwebp --enable-libx264 --enable-libx265 --enable-libxml2 --enable-libzimg --enable-lzma --enable-zlib --enable-gmp --enable-libvidstab --enable-libvorbis --enable-libvo-amrwbenc --enable-libmysofa --enable-libspeex --enable-libxvid --enable-libaom --enable-libmfx --enable-amf --enable-ffnvcodec --enable-cuvid --enable-d3d11va --enable-nvenc --enable-nvdec --enable-dxva2 --enable-avisynth\n",
      "  libavutil      56. 18.102 / 56. 18.102\n",
      "  libavcodec     58. 20.103 / 58. 20.103\n",
      "  libavformat    58. 17.100 / 58. 17.100\n",
      "  libavdevice    58.  4.101 / 58.  4.101\n",
      "  libavfilter     7. 25.100 /  7. 25.100\n",
      "  libswscale      5.  2.100 /  5.  2.100\n",
      "  libswresample   3.  2.100 /  3.  2.100\n",
      "  libpostproc    55.  2.100 / 55.  2.100\n",
      "Input #0, avi, from 'Walking//person08_walking_d1_uncomp.avi':\n",
      "  Duration: 00:00:25.88, start: 0.000000, bitrate: 897 kb/s\n",
      "    Stream #0:0: Video: mpeg4 (DX50 / 0x30355844), yuv420p, 160x120 [SAR 1:1 DAR 4:3], 890 kb/s, 25 fps, 25 tbr, 25 tbn, 30k tbc\n",
      "Stream mapping:\n",
      "  Stream #0:0 -> #0:0 (mpeg4 (native) -> mjpeg (native))\n",
      "Press [q] to stop, [?] for help\n",
      "[swscaler @ 000001dcfc901d80] deprecated pixel format used, make sure you did set range correctly\n",
      "Output #0, image2, to 'frames/walk%02d.jpg':\n",
      "  Metadata:\n",
      "    encoder         : Lavf58.17.100\n",
      "    Stream #0:0: Video: mjpeg, yuvj420p(pc), 160x120 [SAR 1:1 DAR 4:3], q=2-31, 200 kb/s, 25 fps, 25 tbn, 25 tbc\n",
      "    Metadata:\n",
      "      encoder         : Lavc58.20.103 mjpeg\n",
      "    Side data:\n",
      "      cpb: bitrate max/min/avg: 0/0/200000 buffer size: 0 vbv_delay: -1\n",
      "frame=   40 fps=0.0 q=10.5 Lsize=N/A time=00:00:01.60 bitrate=N/A speed=3.48x    \n",
      "video:86kB audio:0kB subtitle:0kB other streams:0kB global headers:0kB muxing overhead: unknown\n"
     ]
    },
    {
     "name": "stdout",
     "output_type": "stream",
     "text": [
      "28th video done\n"
     ]
    },
    {
     "name": "stderr",
     "output_type": "stream",
     "text": [
      "ffmpeg version N-91330-ga990184007 Copyright (c) 2000-2018 the FFmpeg developers\n",
      "  built with gcc 7.3.0 (GCC)\n",
      "  configuration: --enable-gpl --enable-version3 --enable-sdl2 --enable-bzlib --enable-fontconfig --enable-gnutls --enable-iconv --enable-libass --enable-libbluray --enable-libfreetype --enable-libmp3lame --enable-libopencore-amrnb --enable-libopencore-amrwb --enable-libopenjpeg --enable-libopus --enable-libshine --enable-libsnappy --enable-libsoxr --enable-libtheora --enable-libtwolame --enable-libvpx --enable-libwavpack --enable-libwebp --enable-libx264 --enable-libx265 --enable-libxml2 --enable-libzimg --enable-lzma --enable-zlib --enable-gmp --enable-libvidstab --enable-libvorbis --enable-libvo-amrwbenc --enable-libmysofa --enable-libspeex --enable-libxvid --enable-libaom --enable-libmfx --enable-amf --enable-ffnvcodec --enable-cuvid --enable-d3d11va --enable-nvenc --enable-nvdec --enable-dxva2 --enable-avisynth\n",
      "  libavutil      56. 18.102 / 56. 18.102\n",
      "  libavcodec     58. 20.103 / 58. 20.103\n",
      "  libavformat    58. 17.100 / 58. 17.100\n",
      "  libavdevice    58.  4.101 / 58.  4.101\n",
      "  libavfilter     7. 25.100 /  7. 25.100\n",
      "  libswscale      5.  2.100 /  5.  2.100\n",
      "  libswresample   3.  2.100 /  3.  2.100\n",
      "  libpostproc    55.  2.100 / 55.  2.100\n",
      "Input #0, avi, from 'Walking//person08_walking_d2_uncomp.avi':\n",
      "  Duration: 00:00:30.00, start: 0.000000, bitrate: 853 kb/s\n",
      "    Stream #0:0: Video: mpeg4 (DX50 / 0x30355844), yuv420p, 160x120 [SAR 1:1 DAR 4:3], 847 kb/s, 25 fps, 25 tbr, 25 tbn, 30k tbc\n",
      "Stream mapping:\n",
      "  Stream #0:0 -> #0:0 (mpeg4 (native) -> mjpeg (native))\n",
      "Press [q] to stop, [?] for help\n",
      "[swscaler @ 000002577f270940] deprecated pixel format used, make sure you did set range correctly\n",
      "Output #0, image2, to 'frames/walk%02d.jpg':\n",
      "  Metadata:\n",
      "    encoder         : Lavf58.17.100\n",
      "    Stream #0:0: Video: mjpeg, yuvj420p(pc), 160x120 [SAR 1:1 DAR 4:3], q=2-31, 200 kb/s, 25 fps, 25 tbn, 25 tbc\n",
      "    Metadata:\n",
      "      encoder         : Lavc58.20.103 mjpeg\n",
      "    Side data:\n",
      "      cpb: bitrate max/min/avg: 0/0/200000 buffer size: 0 vbv_delay: -1\n",
      "frame=   40 fps=0.0 q=8.6 Lsize=N/A time=00:00:01.60 bitrate=N/A speed=3.73x    \n",
      "video:83kB audio:0kB subtitle:0kB other streams:0kB global headers:0kB muxing overhead: unknown\n"
     ]
    },
    {
     "name": "stdout",
     "output_type": "stream",
     "text": [
      "29th video done\n"
     ]
    },
    {
     "name": "stderr",
     "output_type": "stream",
     "text": [
      "ffmpeg version N-91330-ga990184007 Copyright (c) 2000-2018 the FFmpeg developers\n",
      "  built with gcc 7.3.0 (GCC)\n",
      "  configuration: --enable-gpl --enable-version3 --enable-sdl2 --enable-bzlib --enable-fontconfig --enable-gnutls --enable-iconv --enable-libass --enable-libbluray --enable-libfreetype --enable-libmp3lame --enable-libopencore-amrnb --enable-libopencore-amrwb --enable-libopenjpeg --enable-libopus --enable-libshine --enable-libsnappy --enable-libsoxr --enable-libtheora --enable-libtwolame --enable-libvpx --enable-libwavpack --enable-libwebp --enable-libx264 --enable-libx265 --enable-libxml2 --enable-libzimg --enable-lzma --enable-zlib --enable-gmp --enable-libvidstab --enable-libvorbis --enable-libvo-amrwbenc --enable-libmysofa --enable-libspeex --enable-libxvid --enable-libaom --enable-libmfx --enable-amf --enable-ffnvcodec --enable-cuvid --enable-d3d11va --enable-nvenc --enable-nvdec --enable-dxva2 --enable-avisynth\n",
      "  libavutil      56. 18.102 / 56. 18.102\n",
      "  libavcodec     58. 20.103 / 58. 20.103\n",
      "  libavformat    58. 17.100 / 58. 17.100\n",
      "  libavdevice    58.  4.101 / 58.  4.101\n",
      "  libavfilter     7. 25.100 /  7. 25.100\n",
      "  libswscale      5.  2.100 /  5.  2.100\n",
      "  libswresample   3.  2.100 /  3.  2.100\n",
      "  libpostproc    55.  2.100 / 55.  2.100\n",
      "Input #0, avi, from 'Walking//person08_walking_d3_uncomp.avi':\n",
      "  Duration: 00:00:23.40, start: 0.000000, bitrate: 930 kb/s\n",
      "    Stream #0:0: Video: mpeg4 (DX50 / 0x30355844), yuv420p, 160x120 [SAR 1:1 DAR 4:3], 923 kb/s, 25 fps, 25 tbr, 25 tbn, 30k tbc\n",
      "Stream mapping:\n",
      "  Stream #0:0 -> #0:0 (mpeg4 (native) -> mjpeg (native))\n",
      "Press [q] to stop, [?] for help\n",
      "[swscaler @ 000001d774f2d540] deprecated pixel format used, make sure you did set range correctly\n",
      "Output #0, image2, to 'frames/walk%02d.jpg':\n",
      "  Metadata:\n",
      "    encoder         : Lavf58.17.100\n",
      "    Stream #0:0: Video: mjpeg, yuvj420p(pc), 160x120 [SAR 1:1 DAR 4:3], q=2-31, 200 kb/s, 25 fps, 25 tbn, 25 tbc\n",
      "    Metadata:\n",
      "      encoder         : Lavc58.20.103 mjpeg\n",
      "    Side data:\n",
      "      cpb: bitrate max/min/avg: 0/0/200000 buffer size: 0 vbv_delay: -1\n",
      "frame=   40 fps=0.0 q=10.2 Lsize=N/A time=00:00:01.60 bitrate=N/A speed=3.18x    \n",
      "video:85kB audio:0kB subtitle:0kB other streams:0kB global headers:0kB muxing overhead: unknown\n"
     ]
    },
    {
     "name": "stdout",
     "output_type": "stream",
     "text": [
      "30th video done\n"
     ]
    },
    {
     "name": "stderr",
     "output_type": "stream",
     "text": [
      "ffmpeg version N-91330-ga990184007 Copyright (c) 2000-2018 the FFmpeg developers\n",
      "  built with gcc 7.3.0 (GCC)\n",
      "  configuration: --enable-gpl --enable-version3 --enable-sdl2 --enable-bzlib --enable-fontconfig --enable-gnutls --enable-iconv --enable-libass --enable-libbluray --enable-libfreetype --enable-libmp3lame --enable-libopencore-amrnb --enable-libopencore-amrwb --enable-libopenjpeg --enable-libopus --enable-libshine --enable-libsnappy --enable-libsoxr --enable-libtheora --enable-libtwolame --enable-libvpx --enable-libwavpack --enable-libwebp --enable-libx264 --enable-libx265 --enable-libxml2 --enable-libzimg --enable-lzma --enable-zlib --enable-gmp --enable-libvidstab --enable-libvorbis --enable-libvo-amrwbenc --enable-libmysofa --enable-libspeex --enable-libxvid --enable-libaom --enable-libmfx --enable-amf --enable-ffnvcodec --enable-cuvid --enable-d3d11va --enable-nvenc --enable-nvdec --enable-dxva2 --enable-avisynth\n",
      "  libavutil      56. 18.102 / 56. 18.102\n",
      "  libavcodec     58. 20.103 / 58. 20.103\n",
      "  libavformat    58. 17.100 / 58. 17.100\n",
      "  libavdevice    58.  4.101 / 58.  4.101\n",
      "  libavfilter     7. 25.100 /  7. 25.100\n",
      "  libswscale      5.  2.100 /  5.  2.100\n",
      "  libswresample   3.  2.100 /  3.  2.100\n",
      "  libpostproc    55.  2.100 / 55.  2.100\n",
      "Input #0, avi, from 'Walking//person08_walking_d4_uncomp.avi':\n",
      "  Duration: 00:00:25.00, start: 0.000000, bitrate: 405 kb/s\n",
      "    Stream #0:0: Video: mpeg4 (DX50 / 0x30355844), yuv420p, 160x120 [SAR 1:1 DAR 4:3], 398 kb/s, 25 fps, 25 tbr, 25 tbn, 30k tbc\n",
      "Stream mapping:\n",
      "  Stream #0:0 -> #0:0 (mpeg4 (native) -> mjpeg (native))\n",
      "Press [q] to stop, [?] for help\n",
      "[swscaler @ 00000252c570fb00] deprecated pixel format used, make sure you did set range correctly\n",
      "Output #0, image2, to 'frames/walk%02d.jpg':\n",
      "  Metadata:\n",
      "    encoder         : Lavf58.17.100\n",
      "    Stream #0:0: Video: mjpeg, yuvj420p(pc), 160x120 [SAR 1:1 DAR 4:3], q=2-31, 200 kb/s, 25 fps, 25 tbn, 25 tbc\n",
      "    Metadata:\n",
      "      encoder         : Lavc58.20.103 mjpeg\n",
      "    Side data:\n",
      "      cpb: bitrate max/min/avg: 0/0/200000 buffer size: 0 vbv_delay: -1\n",
      "frame=   40 fps=0.0 q=3.4 Lsize=N/A time=00:00:01.60 bitrate=N/A speed=4.45x    \n",
      "video:65kB audio:0kB subtitle:0kB other streams:0kB global headers:0kB muxing overhead: unknown\n"
     ]
    },
    {
     "name": "stdout",
     "output_type": "stream",
     "text": [
      "31th video done\n"
     ]
    },
    {
     "name": "stderr",
     "output_type": "stream",
     "text": [
      "ffmpeg version N-91330-ga990184007 Copyright (c) 2000-2018 the FFmpeg developers\n",
      "  built with gcc 7.3.0 (GCC)\n",
      "  configuration: --enable-gpl --enable-version3 --enable-sdl2 --enable-bzlib --enable-fontconfig --enable-gnutls --enable-iconv --enable-libass --enable-libbluray --enable-libfreetype --enable-libmp3lame --enable-libopencore-amrnb --enable-libopencore-amrwb --enable-libopenjpeg --enable-libopus --enable-libshine --enable-libsnappy --enable-libsoxr --enable-libtheora --enable-libtwolame --enable-libvpx --enable-libwavpack --enable-libwebp --enable-libx264 --enable-libx265 --enable-libxml2 --enable-libzimg --enable-lzma --enable-zlib --enable-gmp --enable-libvidstab --enable-libvorbis --enable-libvo-amrwbenc --enable-libmysofa --enable-libspeex --enable-libxvid --enable-libaom --enable-libmfx --enable-amf --enable-ffnvcodec --enable-cuvid --enable-d3d11va --enable-nvenc --enable-nvdec --enable-dxva2 --enable-avisynth\n",
      "  libavutil      56. 18.102 / 56. 18.102\n",
      "  libavcodec     58. 20.103 / 58. 20.103\n",
      "  libavformat    58. 17.100 / 58. 17.100\n",
      "  libavdevice    58.  4.101 / 58.  4.101\n",
      "  libavfilter     7. 25.100 /  7. 25.100\n",
      "  libswscale      5.  2.100 /  5.  2.100\n",
      "  libswresample   3.  2.100 /  3.  2.100\n",
      "  libpostproc    55.  2.100 / 55.  2.100\n",
      "Input #0, avi, from 'Walking//person09_walking_d1_uncomp.avi':\n",
      "  Duration: 00:00:27.40, start: 0.000000, bitrate: 883 kb/s\n",
      "    Stream #0:0: Video: mpeg4 (DX50 / 0x30355844), yuv420p, 160x120 [SAR 1:1 DAR 4:3], 877 kb/s, 25 fps, 25 tbr, 25 tbn, 30k tbc\n",
      "Stream mapping:\n",
      "  Stream #0:0 -> #0:0 (mpeg4 (native) -> mjpeg (native))\n",
      "Press [q] to stop, [?] for help\n",
      "[swscaler @ 000001c325227bc0] deprecated pixel format used, make sure you did set range correctly\n",
      "Output #0, image2, to 'frames/walk%02d.jpg':\n",
      "  Metadata:\n",
      "    encoder         : Lavf58.17.100\n",
      "    Stream #0:0: Video: mjpeg, yuvj420p(pc), 160x120 [SAR 1:1 DAR 4:3], q=2-31, 200 kb/s, 25 fps, 25 tbn, 25 tbc\n",
      "    Metadata:\n",
      "      encoder         : Lavc58.20.103 mjpeg\n",
      "    Side data:\n",
      "      cpb: bitrate max/min/avg: 0/0/200000 buffer size: 0 vbv_delay: -1\n",
      "frame=   40 fps=0.0 q=10.7 Lsize=N/A time=00:00:01.60 bitrate=N/A speed=3.29x    \n",
      "video:85kB audio:0kB subtitle:0kB other streams:0kB global headers:0kB muxing overhead: unknown\n"
     ]
    },
    {
     "name": "stdout",
     "output_type": "stream",
     "text": [
      "32th video done\n"
     ]
    },
    {
     "name": "stderr",
     "output_type": "stream",
     "text": [
      "ffmpeg version N-91330-ga990184007 Copyright (c) 2000-2018 the FFmpeg developers\n",
      "  built with gcc 7.3.0 (GCC)\n",
      "  configuration: --enable-gpl --enable-version3 --enable-sdl2 --enable-bzlib --enable-fontconfig --enable-gnutls --enable-iconv --enable-libass --enable-libbluray --enable-libfreetype --enable-libmp3lame --enable-libopencore-amrnb --enable-libopencore-amrwb --enable-libopenjpeg --enable-libopus --enable-libshine --enable-libsnappy --enable-libsoxr --enable-libtheora --enable-libtwolame --enable-libvpx --enable-libwavpack --enable-libwebp --enable-libx264 --enable-libx265 --enable-libxml2 --enable-libzimg --enable-lzma --enable-zlib --enable-gmp --enable-libvidstab --enable-libvorbis --enable-libvo-amrwbenc --enable-libmysofa --enable-libspeex --enable-libxvid --enable-libaom --enable-libmfx --enable-amf --enable-ffnvcodec --enable-cuvid --enable-d3d11va --enable-nvenc --enable-nvdec --enable-dxva2 --enable-avisynth\n",
      "  libavutil      56. 18.102 / 56. 18.102\n",
      "  libavcodec     58. 20.103 / 58. 20.103\n",
      "  libavformat    58. 17.100 / 58. 17.100\n",
      "  libavdevice    58.  4.101 / 58.  4.101\n",
      "  libavfilter     7. 25.100 /  7. 25.100\n",
      "  libswscale      5.  2.100 /  5.  2.100\n",
      "  libswresample   3.  2.100 /  3.  2.100\n",
      "  libpostproc    55.  2.100 / 55.  2.100\n",
      "Input #0, avi, from 'Walking//person09_walking_d2_uncomp.avi':\n",
      "  Duration: 00:00:32.20, start: 0.000000, bitrate: 818 kb/s\n",
      "    Stream #0:0: Video: mpeg4 (DX50 / 0x30355844), yuv420p, 160x120 [SAR 1:1 DAR 4:3], 811 kb/s, 25 fps, 25 tbr, 25 tbn, 30k tbc\n",
      "Stream mapping:\n",
      "  Stream #0:0 -> #0:0 (mpeg4 (native) -> mjpeg (native))\n",
      "Press [q] to stop, [?] for help\n",
      "[swscaler @ 000002514bdf0780] deprecated pixel format used, make sure you did set range correctly\n",
      "Output #0, image2, to 'frames/walk%02d.jpg':\n",
      "  Metadata:\n",
      "    encoder         : Lavf58.17.100\n",
      "    Stream #0:0: Video: mjpeg, yuvj420p(pc), 160x120 [SAR 1:1 DAR 4:3], q=2-31, 200 kb/s, 25 fps, 25 tbn, 25 tbc\n",
      "    Metadata:\n",
      "      encoder         : Lavc58.20.103 mjpeg\n",
      "    Side data:\n",
      "      cpb: bitrate max/min/avg: 0/0/200000 buffer size: 0 vbv_delay: -1\n",
      "frame=   37 fps=0.0 q=8.6 size=N/A time=00:00:01.48 bitrate=N/A speed=2.96x    \n",
      "frame=   40 fps=0.0 q=8.7 Lsize=N/A time=00:00:01.60 bitrate=N/A speed=3.04x    \n",
      "video:82kB audio:0kB subtitle:0kB other streams:0kB global headers:0kB muxing overhead: unknown\n"
     ]
    },
    {
     "name": "stdout",
     "output_type": "stream",
     "text": [
      "33th video done\n"
     ]
    },
    {
     "name": "stderr",
     "output_type": "stream",
     "text": [
      "ffmpeg version N-91330-ga990184007 Copyright (c) 2000-2018 the FFmpeg developers\n",
      "  built with gcc 7.3.0 (GCC)\n",
      "  configuration: --enable-gpl --enable-version3 --enable-sdl2 --enable-bzlib --enable-fontconfig --enable-gnutls --enable-iconv --enable-libass --enable-libbluray --enable-libfreetype --enable-libmp3lame --enable-libopencore-amrnb --enable-libopencore-amrwb --enable-libopenjpeg --enable-libopus --enable-libshine --enable-libsnappy --enable-libsoxr --enable-libtheora --enable-libtwolame --enable-libvpx --enable-libwavpack --enable-libwebp --enable-libx264 --enable-libx265 --enable-libxml2 --enable-libzimg --enable-lzma --enable-zlib --enable-gmp --enable-libvidstab --enable-libvorbis --enable-libvo-amrwbenc --enable-libmysofa --enable-libspeex --enable-libxvid --enable-libaom --enable-libmfx --enable-amf --enable-ffnvcodec --enable-cuvid --enable-d3d11va --enable-nvenc --enable-nvdec --enable-dxva2 --enable-avisynth\n",
      "  libavutil      56. 18.102 / 56. 18.102\n",
      "  libavcodec     58. 20.103 / 58. 20.103\n",
      "  libavformat    58. 17.100 / 58. 17.100\n",
      "  libavdevice    58.  4.101 / 58.  4.101\n",
      "  libavfilter     7. 25.100 /  7. 25.100\n",
      "  libswscale      5.  2.100 /  5.  2.100\n",
      "  libswresample   3.  2.100 /  3.  2.100\n",
      "  libpostproc    55.  2.100 / 55.  2.100\n",
      "Input #0, avi, from 'Walking//person09_walking_d3_uncomp.avi':\n",
      "  Duration: 00:00:25.60, start: 0.000000, bitrate: 912 kb/s\n",
      "    Stream #0:0: Video: mpeg4 (DX50 / 0x30355844), yuv420p, 160x120 [SAR 1:1 DAR 4:3], 905 kb/s, 25 fps, 25 tbr, 25 tbn, 30k tbc\n",
      "Stream mapping:\n",
      "  Stream #0:0 -> #0:0 (mpeg4 (native) -> mjpeg (native))\n",
      "Press [q] to stop, [?] for help\n",
      "[swscaler @ 000002374131a840] deprecated pixel format used, make sure you did set range correctly\n",
      "Output #0, image2, to 'frames/walk%02d.jpg':\n",
      "  Metadata:\n",
      "    encoder         : Lavf58.17.100\n",
      "    Stream #0:0: Video: mjpeg, yuvj420p(pc), 160x120 [SAR 1:1 DAR 4:3], q=2-31, 200 kb/s, 25 fps, 25 tbn, 25 tbc\n",
      "    Metadata:\n",
      "      encoder         : Lavc58.20.103 mjpeg\n",
      "    Side data:\n",
      "      cpb: bitrate max/min/avg: 0/0/200000 buffer size: 0 vbv_delay: -1\n",
      "frame=   40 fps=0.0 q=12.1 Lsize=N/A time=00:00:01.60 bitrate=N/A speed=4.77x    \n",
      "video:86kB audio:0kB subtitle:0kB other streams:0kB global headers:0kB muxing overhead: unknown\n"
     ]
    },
    {
     "name": "stdout",
     "output_type": "stream",
     "text": [
      "34th video done\n"
     ]
    },
    {
     "name": "stderr",
     "output_type": "stream",
     "text": [
      "ffmpeg version N-91330-ga990184007 Copyright (c) 2000-2018 the FFmpeg developers\n",
      "  built with gcc 7.3.0 (GCC)\n",
      "  configuration: --enable-gpl --enable-version3 --enable-sdl2 --enable-bzlib --enable-fontconfig --enable-gnutls --enable-iconv --enable-libass --enable-libbluray --enable-libfreetype --enable-libmp3lame --enable-libopencore-amrnb --enable-libopencore-amrwb --enable-libopenjpeg --enable-libopus --enable-libshine --enable-libsnappy --enable-libsoxr --enable-libtheora --enable-libtwolame --enable-libvpx --enable-libwavpack --enable-libwebp --enable-libx264 --enable-libx265 --enable-libxml2 --enable-libzimg --enable-lzma --enable-zlib --enable-gmp --enable-libvidstab --enable-libvorbis --enable-libvo-amrwbenc --enable-libmysofa --enable-libspeex --enable-libxvid --enable-libaom --enable-libmfx --enable-amf --enable-ffnvcodec --enable-cuvid --enable-d3d11va --enable-nvenc --enable-nvdec --enable-dxva2 --enable-avisynth\n",
      "  libavutil      56. 18.102 / 56. 18.102\n",
      "  libavcodec     58. 20.103 / 58. 20.103\n",
      "  libavformat    58. 17.100 / 58. 17.100\n",
      "  libavdevice    58.  4.101 / 58.  4.101\n",
      "  libavfilter     7. 25.100 /  7. 25.100\n",
      "  libswscale      5.  2.100 /  5.  2.100\n",
      "  libswresample   3.  2.100 /  3.  2.100\n",
      "  libpostproc    55.  2.100 / 55.  2.100\n",
      "Input #0, avi, from 'Walking//person09_walking_d4_uncomp.avi':\n",
      "  Duration: 00:00:16.88, start: 0.000000, bitrate: 513 kb/s\n",
      "    Stream #0:0: Video: mpeg4 (DX50 / 0x30355844), yuv420p, 160x120 [SAR 1:1 DAR 4:3], 505 kb/s, 25 fps, 25 tbr, 25 tbn, 30k tbc\n",
      "Stream mapping:\n",
      "  Stream #0:0 -> #0:0 (mpeg4 (native) -> mjpeg (native))\n",
      "Press [q] to stop, [?] for help\n",
      "[swscaler @ 0000018be51b7280] deprecated pixel format used, make sure you did set range correctly\n",
      "Output #0, image2, to 'frames/walk%02d.jpg':\n",
      "  Metadata:\n",
      "    encoder         : Lavf58.17.100\n",
      "    Stream #0:0: Video: mjpeg, yuvj420p(pc), 160x120 [SAR 1:1 DAR 4:3], q=2-31, 200 kb/s, 25 fps, 25 tbn, 25 tbc\n",
      "    Metadata:\n",
      "      encoder         : Lavc58.20.103 mjpeg\n",
      "    Side data:\n",
      "      cpb: bitrate max/min/avg: 0/0/200000 buffer size: 0 vbv_delay: -1\n",
      "frame=   40 fps=0.0 q=4.8 Lsize=N/A time=00:00:01.60 bitrate=N/A speed=3.66x    \n",
      "video:71kB audio:0kB subtitle:0kB other streams:0kB global headers:0kB muxing overhead: unknown\n"
     ]
    },
    {
     "name": "stdout",
     "output_type": "stream",
     "text": [
      "35th video done\n"
     ]
    },
    {
     "name": "stderr",
     "output_type": "stream",
     "text": [
      "ffmpeg version N-91330-ga990184007 Copyright (c) 2000-2018 the FFmpeg developers\n",
      "  built with gcc 7.3.0 (GCC)\n",
      "  configuration: --enable-gpl --enable-version3 --enable-sdl2 --enable-bzlib --enable-fontconfig --enable-gnutls --enable-iconv --enable-libass --enable-libbluray --enable-libfreetype --enable-libmp3lame --enable-libopencore-amrnb --enable-libopencore-amrwb --enable-libopenjpeg --enable-libopus --enable-libshine --enable-libsnappy --enable-libsoxr --enable-libtheora --enable-libtwolame --enable-libvpx --enable-libwavpack --enable-libwebp --enable-libx264 --enable-libx265 --enable-libxml2 --enable-libzimg --enable-lzma --enable-zlib --enable-gmp --enable-libvidstab --enable-libvorbis --enable-libvo-amrwbenc --enable-libmysofa --enable-libspeex --enable-libxvid --enable-libaom --enable-libmfx --enable-amf --enable-ffnvcodec --enable-cuvid --enable-d3d11va --enable-nvenc --enable-nvdec --enable-dxva2 --enable-avisynth\n",
      "  libavutil      56. 18.102 / 56. 18.102\n",
      "  libavcodec     58. 20.103 / 58. 20.103\n",
      "  libavformat    58. 17.100 / 58. 17.100\n",
      "  libavdevice    58.  4.101 / 58.  4.101\n",
      "  libavfilter     7. 25.100 /  7. 25.100\n",
      "  libswscale      5.  2.100 /  5.  2.100\n",
      "  libswresample   3.  2.100 /  3.  2.100\n",
      "  libpostproc    55.  2.100 / 55.  2.100\n",
      "Input #0, avi, from 'Walking//person10_walking_d1_uncomp.avi':\n",
      "  Duration: 00:00:26.20, start: 0.000000, bitrate: 811 kb/s\n",
      "    Stream #0:0: Video: mpeg4 (DX50 / 0x30355844), yuv420p, 160x120 [SAR 1:1 DAR 4:3], 805 kb/s, 25 fps, 25 tbr, 25 tbn, 30k tbc\n",
      "Stream mapping:\n",
      "  Stream #0:0 -> #0:0 (mpeg4 (native) -> mjpeg (native))\n",
      "Press [q] to stop, [?] for help\n",
      "[swscaler @ 0000014c48ae1c40] deprecated pixel format used, make sure you did set range correctly\n",
      "Output #0, image2, to 'frames/walk%02d.jpg':\n",
      "  Metadata:\n",
      "    encoder         : Lavf58.17.100\n",
      "    Stream #0:0: Video: mjpeg, yuvj420p(pc), 160x120 [SAR 1:1 DAR 4:3], q=2-31, 200 kb/s, 25 fps, 25 tbn, 25 tbc\n",
      "    Metadata:\n",
      "      encoder         : Lavc58.20.103 mjpeg\n",
      "    Side data:\n",
      "      cpb: bitrate max/min/avg: 0/0/200000 buffer size: 0 vbv_delay: -1\n",
      "frame=   40 fps=0.0 q=6.9 Lsize=N/A time=00:00:01.60 bitrate=N/A speed=3.69x    \n",
      "video:75kB audio:0kB subtitle:0kB other streams:0kB global headers:0kB muxing overhead: unknown\n"
     ]
    },
    {
     "name": "stdout",
     "output_type": "stream",
     "text": [
      "36th video done\n"
     ]
    },
    {
     "name": "stderr",
     "output_type": "stream",
     "text": [
      "ffmpeg version N-91330-ga990184007 Copyright (c) 2000-2018 the FFmpeg developers\n",
      "  built with gcc 7.3.0 (GCC)\n",
      "  configuration: --enable-gpl --enable-version3 --enable-sdl2 --enable-bzlib --enable-fontconfig --enable-gnutls --enable-iconv --enable-libass --enable-libbluray --enable-libfreetype --enable-libmp3lame --enable-libopencore-amrnb --enable-libopencore-amrwb --enable-libopenjpeg --enable-libopus --enable-libshine --enable-libsnappy --enable-libsoxr --enable-libtheora --enable-libtwolame --enable-libvpx --enable-libwavpack --enable-libwebp --enable-libx264 --enable-libx265 --enable-libxml2 --enable-libzimg --enable-lzma --enable-zlib --enable-gmp --enable-libvidstab --enable-libvorbis --enable-libvo-amrwbenc --enable-libmysofa --enable-libspeex --enable-libxvid --enable-libaom --enable-libmfx --enable-amf --enable-ffnvcodec --enable-cuvid --enable-d3d11va --enable-nvenc --enable-nvdec --enable-dxva2 --enable-avisynth\n",
      "  libavutil      56. 18.102 / 56. 18.102\n",
      "  libavcodec     58. 20.103 / 58. 20.103\n",
      "  libavformat    58. 17.100 / 58. 17.100\n",
      "  libavdevice    58.  4.101 / 58.  4.101\n",
      "  libavfilter     7. 25.100 /  7. 25.100\n",
      "  libswscale      5.  2.100 /  5.  2.100\n",
      "  libswresample   3.  2.100 /  3.  2.100\n",
      "  libpostproc    55.  2.100 / 55.  2.100\n",
      "Input #0, avi, from 'Walking//person10_walking_d2_uncomp.avi':\n",
      "  Duration: 00:00:43.68, start: 0.000000, bitrate: 781 kb/s\n",
      "    Stream #0:0: Video: mpeg4 (DX50 / 0x30355844), yuv420p, 160x120 [SAR 1:1 DAR 4:3], 775 kb/s, 25 fps, 25 tbr, 25 tbn, 30k tbc\n",
      "Stream mapping:\n",
      "  Stream #0:0 -> #0:0 (mpeg4 (native) -> mjpeg (native))\n",
      "Press [q] to stop, [?] for help\n",
      "[swscaler @ 0000012cbd29e100] deprecated pixel format used, make sure you did set range correctly\n",
      "Output #0, image2, to 'frames/walk%02d.jpg':\n",
      "  Metadata:\n",
      "    encoder         : Lavf58.17.100\n",
      "    Stream #0:0: Video: mjpeg, yuvj420p(pc), 160x120 [SAR 1:1 DAR 4:3], q=2-31, 200 kb/s, 25 fps, 25 tbn, 25 tbc\n",
      "    Metadata:\n",
      "      encoder         : Lavc58.20.103 mjpeg\n",
      "    Side data:\n",
      "      cpb: bitrate max/min/avg: 0/0/200000 buffer size: 0 vbv_delay: -1\n",
      "frame=   40 fps=0.0 q=5.8 Lsize=N/A time=00:00:01.60 bitrate=N/A speed=5.37x    \n",
      "video:77kB audio:0kB subtitle:0kB other streams:0kB global headers:0kB muxing overhead: unknown\n"
     ]
    },
    {
     "name": "stdout",
     "output_type": "stream",
     "text": [
      "37th video done\n"
     ]
    },
    {
     "name": "stderr",
     "output_type": "stream",
     "text": [
      "ffmpeg version N-91330-ga990184007 Copyright (c) 2000-2018 the FFmpeg developers\n",
      "  built with gcc 7.3.0 (GCC)\n",
      "  configuration: --enable-gpl --enable-version3 --enable-sdl2 --enable-bzlib --enable-fontconfig --enable-gnutls --enable-iconv --enable-libass --enable-libbluray --enable-libfreetype --enable-libmp3lame --enable-libopencore-amrnb --enable-libopencore-amrwb --enable-libopenjpeg --enable-libopus --enable-libshine --enable-libsnappy --enable-libsoxr --enable-libtheora --enable-libtwolame --enable-libvpx --enable-libwavpack --enable-libwebp --enable-libx264 --enable-libx265 --enable-libxml2 --enable-libzimg --enable-lzma --enable-zlib --enable-gmp --enable-libvidstab --enable-libvorbis --enable-libvo-amrwbenc --enable-libmysofa --enable-libspeex --enable-libxvid --enable-libaom --enable-libmfx --enable-amf --enable-ffnvcodec --enable-cuvid --enable-d3d11va --enable-nvenc --enable-nvdec --enable-dxva2 --enable-avisynth\n",
      "  libavutil      56. 18.102 / 56. 18.102\n",
      "  libavcodec     58. 20.103 / 58. 20.103\n",
      "  libavformat    58. 17.100 / 58. 17.100\n",
      "  libavdevice    58.  4.101 / 58.  4.101\n",
      "  libavfilter     7. 25.100 /  7. 25.100\n",
      "  libswscale      5.  2.100 /  5.  2.100\n",
      "  libswresample   3.  2.100 /  3.  2.100\n",
      "  libpostproc    55.  2.100 / 55.  2.100\n",
      "Input #0, avi, from 'Walking//person10_walking_d3_uncomp.avi':\n",
      "  Duration: 00:00:24.60, start: 0.000000, bitrate: 912 kb/s\n",
      "    Stream #0:0: Video: mpeg4 (DX50 / 0x30355844), yuv420p, 160x120 [SAR 1:1 DAR 4:3], 906 kb/s, 25 fps, 25 tbr, 25 tbn, 30k tbc\n",
      "Stream mapping:\n",
      "  Stream #0:0 -> #0:0 (mpeg4 (native) -> mjpeg (native))\n",
      "Press [q] to stop, [?] for help\n",
      "[swscaler @ 000001d9a680cc00] deprecated pixel format used, make sure you did set range correctly\n",
      "Output #0, image2, to 'frames/walk%02d.jpg':\n",
      "  Metadata:\n",
      "    encoder         : Lavf58.17.100\n",
      "    Stream #0:0: Video: mjpeg, yuvj420p(pc), 160x120 [SAR 1:1 DAR 4:3], q=2-31, 200 kb/s, 25 fps, 25 tbn, 25 tbc\n",
      "    Metadata:\n",
      "      encoder         : Lavc58.20.103 mjpeg\n",
      "    Side data:\n",
      "      cpb: bitrate max/min/avg: 0/0/200000 buffer size: 0 vbv_delay: -1\n",
      "frame=   40 fps=0.0 q=8.5 Lsize=N/A time=00:00:01.60 bitrate=N/A speed=5.37x    \n",
      "video:81kB audio:0kB subtitle:0kB other streams:0kB global headers:0kB muxing overhead: unknown\n"
     ]
    },
    {
     "name": "stdout",
     "output_type": "stream",
     "text": [
      "38th video done\n"
     ]
    },
    {
     "name": "stderr",
     "output_type": "stream",
     "text": [
      "ffmpeg version N-91330-ga990184007 Copyright (c) 2000-2018 the FFmpeg developers\n",
      "  built with gcc 7.3.0 (GCC)\n",
      "  configuration: --enable-gpl --enable-version3 --enable-sdl2 --enable-bzlib --enable-fontconfig --enable-gnutls --enable-iconv --enable-libass --enable-libbluray --enable-libfreetype --enable-libmp3lame --enable-libopencore-amrnb --enable-libopencore-amrwb --enable-libopenjpeg --enable-libopus --enable-libshine --enable-libsnappy --enable-libsoxr --enable-libtheora --enable-libtwolame --enable-libvpx --enable-libwavpack --enable-libwebp --enable-libx264 --enable-libx265 --enable-libxml2 --enable-libzimg --enable-lzma --enable-zlib --enable-gmp --enable-libvidstab --enable-libvorbis --enable-libvo-amrwbenc --enable-libmysofa --enable-libspeex --enable-libxvid --enable-libaom --enable-libmfx --enable-amf --enable-ffnvcodec --enable-cuvid --enable-d3d11va --enable-nvenc --enable-nvdec --enable-dxva2 --enable-avisynth\n",
      "  libavutil      56. 18.102 / 56. 18.102\n",
      "  libavcodec     58. 20.103 / 58. 20.103\n",
      "  libavformat    58. 17.100 / 58. 17.100\n",
      "  libavdevice    58.  4.101 / 58.  4.101\n",
      "  libavfilter     7. 25.100 /  7. 25.100\n",
      "  libswscale      5.  2.100 /  5.  2.100\n",
      "  libswresample   3.  2.100 /  3.  2.100\n",
      "  libpostproc    55.  2.100 / 55.  2.100\n",
      "Input #0, avi, from 'Walking//person10_walking_d4_uncomp.avi':\n",
      "  Duration: 00:00:21.76, start: 0.000000, bitrate: 353 kb/s\n",
      "    Stream #0:0: Video: mpeg4 (DX50 / 0x30355844), yuv420p, 160x120 [SAR 1:1 DAR 4:3], 345 kb/s, 25 fps, 25 tbr, 25 tbn, 30k tbc\n",
      "Stream mapping:\n",
      "  Stream #0:0 -> #0:0 (mpeg4 (native) -> mjpeg (native))\n",
      "Press [q] to stop, [?] for help\n",
      "[swscaler @ 0000025893295100] deprecated pixel format used, make sure you did set range correctly\n",
      "Output #0, image2, to 'frames/walk%02d.jpg':\n",
      "  Metadata:\n",
      "    encoder         : Lavf58.17.100\n",
      "    Stream #0:0: Video: mjpeg, yuvj420p(pc), 160x120 [SAR 1:1 DAR 4:3], q=2-31, 200 kb/s, 25 fps, 25 tbn, 25 tbc\n",
      "    Metadata:\n",
      "      encoder         : Lavc58.20.103 mjpeg\n",
      "    Side data:\n",
      "      cpb: bitrate max/min/avg: 0/0/200000 buffer size: 0 vbv_delay: -1\n",
      "frame=   40 fps=0.0 q=5.2 Lsize=N/A time=00:00:01.60 bitrate=N/A speed=4.26x    \n",
      "video:71kB audio:0kB subtitle:0kB other streams:0kB global headers:0kB muxing overhead: unknown\n"
     ]
    },
    {
     "name": "stdout",
     "output_type": "stream",
     "text": [
      "39th video done\n"
     ]
    },
    {
     "name": "stderr",
     "output_type": "stream",
     "text": [
      "ffmpeg version N-91330-ga990184007 Copyright (c) 2000-2018 the FFmpeg developers\n",
      "  built with gcc 7.3.0 (GCC)\n",
      "  configuration: --enable-gpl --enable-version3 --enable-sdl2 --enable-bzlib --enable-fontconfig --enable-gnutls --enable-iconv --enable-libass --enable-libbluray --enable-libfreetype --enable-libmp3lame --enable-libopencore-amrnb --enable-libopencore-amrwb --enable-libopenjpeg --enable-libopus --enable-libshine --enable-libsnappy --enable-libsoxr --enable-libtheora --enable-libtwolame --enable-libvpx --enable-libwavpack --enable-libwebp --enable-libx264 --enable-libx265 --enable-libxml2 --enable-libzimg --enable-lzma --enable-zlib --enable-gmp --enable-libvidstab --enable-libvorbis --enable-libvo-amrwbenc --enable-libmysofa --enable-libspeex --enable-libxvid --enable-libaom --enable-libmfx --enable-amf --enable-ffnvcodec --enable-cuvid --enable-d3d11va --enable-nvenc --enable-nvdec --enable-dxva2 --enable-avisynth\n",
      "  libavutil      56. 18.102 / 56. 18.102\n",
      "  libavcodec     58. 20.103 / 58. 20.103\n",
      "  libavformat    58. 17.100 / 58. 17.100\n",
      "  libavdevice    58.  4.101 / 58.  4.101\n",
      "  libavfilter     7. 25.100 /  7. 25.100\n",
      "  libswscale      5.  2.100 /  5.  2.100\n",
      "  libswresample   3.  2.100 /  3.  2.100\n",
      "  libpostproc    55.  2.100 / 55.  2.100\n",
      "Input #0, avi, from 'Walking//person11_walking_d1_uncomp.avi':\n",
      "  Duration: 00:00:25.60, start: 0.000000, bitrate: 924 kb/s\n",
      "    Stream #0:0: Video: mpeg4 (DX50 / 0x30355844), yuv420p, 160x120 [SAR 1:1 DAR 4:3], 918 kb/s, 25 fps, 25 tbr, 25 tbn, 30k tbc\n",
      "Stream mapping:\n",
      "  Stream #0:0 -> #0:0 (mpeg4 (native) -> mjpeg (native))\n",
      "Press [q] to stop, [?] for help\n",
      "[swscaler @ 000001ef9141fb00] deprecated pixel format used, make sure you did set range correctly\n",
      "Output #0, image2, to 'frames/walk%02d.jpg':\n",
      "  Metadata:\n",
      "    encoder         : Lavf58.17.100\n",
      "    Stream #0:0: Video: mjpeg, yuvj420p(pc), 160x120 [SAR 1:1 DAR 4:3], q=2-31, 200 kb/s, 25 fps, 25 tbn, 25 tbc\n",
      "    Metadata:\n",
      "      encoder         : Lavc58.20.103 mjpeg\n",
      "    Side data:\n",
      "      cpb: bitrate max/min/avg: 0/0/200000 buffer size: 0 vbv_delay: -1\n",
      "frame=   40 fps=0.0 q=9.5 Lsize=N/A time=00:00:01.60 bitrate=N/A speed=3.56x    \n",
      "video:82kB audio:0kB subtitle:0kB other streams:0kB global headers:0kB muxing overhead: unknown\n"
     ]
    },
    {
     "name": "stdout",
     "output_type": "stream",
     "text": [
      "40th video done\n"
     ]
    },
    {
     "name": "stderr",
     "output_type": "stream",
     "text": [
      "ffmpeg version N-91330-ga990184007 Copyright (c) 2000-2018 the FFmpeg developers\n",
      "  built with gcc 7.3.0 (GCC)\n",
      "  configuration: --enable-gpl --enable-version3 --enable-sdl2 --enable-bzlib --enable-fontconfig --enable-gnutls --enable-iconv --enable-libass --enable-libbluray --enable-libfreetype --enable-libmp3lame --enable-libopencore-amrnb --enable-libopencore-amrwb --enable-libopenjpeg --enable-libopus --enable-libshine --enable-libsnappy --enable-libsoxr --enable-libtheora --enable-libtwolame --enable-libvpx --enable-libwavpack --enable-libwebp --enable-libx264 --enable-libx265 --enable-libxml2 --enable-libzimg --enable-lzma --enable-zlib --enable-gmp --enable-libvidstab --enable-libvorbis --enable-libvo-amrwbenc --enable-libmysofa --enable-libspeex --enable-libxvid --enable-libaom --enable-libmfx --enable-amf --enable-ffnvcodec --enable-cuvid --enable-d3d11va --enable-nvenc --enable-nvdec --enable-dxva2 --enable-avisynth\n",
      "  libavutil      56. 18.102 / 56. 18.102\n",
      "  libavcodec     58. 20.103 / 58. 20.103\n",
      "  libavformat    58. 17.100 / 58. 17.100\n",
      "  libavdevice    58.  4.101 / 58.  4.101\n",
      "  libavfilter     7. 25.100 /  7. 25.100\n",
      "  libswscale      5.  2.100 /  5.  2.100\n",
      "  libswresample   3.  2.100 /  3.  2.100\n",
      "  libpostproc    55.  2.100 / 55.  2.100\n",
      "Input #0, avi, from 'Walking//person11_walking_d2_uncomp.avi':\n",
      "  Duration: 00:00:32.40, start: 0.000000, bitrate: 810 kb/s\n",
      "    Stream #0:0: Video: mpeg4 (DX50 / 0x30355844), yuv420p, 160x120 [SAR 1:1 DAR 4:3], 804 kb/s, 25 fps, 25 tbr, 25 tbn, 30k tbc\n",
      "Stream mapping:\n",
      "  Stream #0:0 -> #0:0 (mpeg4 (native) -> mjpeg (native))\n",
      "Press [q] to stop, [?] for help\n",
      "[swscaler @ 000001bb2ffda980] deprecated pixel format used, make sure you did set range correctly\n",
      "Output #0, image2, to 'frames/walk%02d.jpg':\n",
      "  Metadata:\n",
      "    encoder         : Lavf58.17.100\n",
      "    Stream #0:0: Video: mjpeg, yuvj420p(pc), 160x120 [SAR 1:1 DAR 4:3], q=2-31, 200 kb/s, 25 fps, 25 tbn, 25 tbc\n",
      "    Metadata:\n",
      "      encoder         : Lavc58.20.103 mjpeg\n",
      "    Side data:\n",
      "      cpb: bitrate max/min/avg: 0/0/200000 buffer size: 0 vbv_delay: -1\n",
      "frame=   40 fps=0.0 q=10.5 Lsize=N/A time=00:00:01.60 bitrate=N/A speed=5.01x    \n",
      "video:86kB audio:0kB subtitle:0kB other streams:0kB global headers:0kB muxing overhead: unknown\n"
     ]
    },
    {
     "name": "stdout",
     "output_type": "stream",
     "text": [
      "41th video done\n"
     ]
    },
    {
     "name": "stderr",
     "output_type": "stream",
     "text": [
      "ffmpeg version N-91330-ga990184007 Copyright (c) 2000-2018 the FFmpeg developers\n",
      "  built with gcc 7.3.0 (GCC)\n",
      "  configuration: --enable-gpl --enable-version3 --enable-sdl2 --enable-bzlib --enable-fontconfig --enable-gnutls --enable-iconv --enable-libass --enable-libbluray --enable-libfreetype --enable-libmp3lame --enable-libopencore-amrnb --enable-libopencore-amrwb --enable-libopenjpeg --enable-libopus --enable-libshine --enable-libsnappy --enable-libsoxr --enable-libtheora --enable-libtwolame --enable-libvpx --enable-libwavpack --enable-libwebp --enable-libx264 --enable-libx265 --enable-libxml2 --enable-libzimg --enable-lzma --enable-zlib --enable-gmp --enable-libvidstab --enable-libvorbis --enable-libvo-amrwbenc --enable-libmysofa --enable-libspeex --enable-libxvid --enable-libaom --enable-libmfx --enable-amf --enable-ffnvcodec --enable-cuvid --enable-d3d11va --enable-nvenc --enable-nvdec --enable-dxva2 --enable-avisynth\n",
      "  libavutil      56. 18.102 / 56. 18.102\n",
      "  libavcodec     58. 20.103 / 58. 20.103\n",
      "  libavformat    58. 17.100 / 58. 17.100\n",
      "  libavdevice    58.  4.101 / 58.  4.101\n",
      "  libavfilter     7. 25.100 /  7. 25.100\n",
      "  libswscale      5.  2.100 /  5.  2.100\n",
      "  libswresample   3.  2.100 /  3.  2.100\n",
      "  libpostproc    55.  2.100 / 55.  2.100\n",
      "Input #0, avi, from 'Walking//person11_walking_d3_uncomp.avi':\n",
      "  Duration: 00:00:27.20, start: 0.000000, bitrate: 851 kb/s\n",
      "    Stream #0:0: Video: mpeg4 (DX50 / 0x30355844), yuv420p, 160x120 [SAR 1:1 DAR 4:3], 844 kb/s, 25 fps, 25 tbr, 25 tbn, 30k tbc\n",
      "Stream mapping:\n",
      "  Stream #0:0 -> #0:0 (mpeg4 (native) -> mjpeg (native))\n",
      "Press [q] to stop, [?] for help\n",
      "[swscaler @ 000002972d9f43c0] deprecated pixel format used, make sure you did set range correctly\n",
      "Output #0, image2, to 'frames/walk%02d.jpg':\n",
      "  Metadata:\n",
      "    encoder         : Lavf58.17.100\n",
      "    Stream #0:0: Video: mjpeg, yuvj420p(pc), 160x120 [SAR 1:1 DAR 4:3], q=2-31, 200 kb/s, 25 fps, 25 tbn, 25 tbc\n",
      "    Metadata:\n",
      "      encoder         : Lavc58.20.103 mjpeg\n",
      "    Side data:\n",
      "      cpb: bitrate max/min/avg: 0/0/200000 buffer size: 0 vbv_delay: -1\n",
      "frame=   40 fps=0.0 q=11.4 Lsize=N/A time=00:00:01.60 bitrate=N/A speed=5.49x    \n",
      "video:87kB audio:0kB subtitle:0kB other streams:0kB global headers:0kB muxing overhead: unknown\n"
     ]
    },
    {
     "name": "stdout",
     "output_type": "stream",
     "text": [
      "42th video done\n"
     ]
    },
    {
     "name": "stderr",
     "output_type": "stream",
     "text": [
      "ffmpeg version N-91330-ga990184007 Copyright (c) 2000-2018 the FFmpeg developers\n",
      "  built with gcc 7.3.0 (GCC)\n",
      "  configuration: --enable-gpl --enable-version3 --enable-sdl2 --enable-bzlib --enable-fontconfig --enable-gnutls --enable-iconv --enable-libass --enable-libbluray --enable-libfreetype --enable-libmp3lame --enable-libopencore-amrnb --enable-libopencore-amrwb --enable-libopenjpeg --enable-libopus --enable-libshine --enable-libsnappy --enable-libsoxr --enable-libtheora --enable-libtwolame --enable-libvpx --enable-libwavpack --enable-libwebp --enable-libx264 --enable-libx265 --enable-libxml2 --enable-libzimg --enable-lzma --enable-zlib --enable-gmp --enable-libvidstab --enable-libvorbis --enable-libvo-amrwbenc --enable-libmysofa --enable-libspeex --enable-libxvid --enable-libaom --enable-libmfx --enable-amf --enable-ffnvcodec --enable-cuvid --enable-d3d11va --enable-nvenc --enable-nvdec --enable-dxva2 --enable-avisynth\n",
      "  libavutil      56. 18.102 / 56. 18.102\n",
      "  libavcodec     58. 20.103 / 58. 20.103\n",
      "  libavformat    58. 17.100 / 58. 17.100\n",
      "  libavdevice    58.  4.101 / 58.  4.101\n",
      "  libavfilter     7. 25.100 /  7. 25.100\n",
      "  libswscale      5.  2.100 /  5.  2.100\n",
      "  libswresample   3.  2.100 /  3.  2.100\n",
      "  libpostproc    55.  2.100 / 55.  2.100\n",
      "Input #0, avi, from 'Walking//person11_walking_d4_uncomp.avi':\n",
      "  Duration: 00:00:20.80, start: 0.000000, bitrate: 383 kb/s\n",
      "    Stream #0:0: Video: mpeg4 (DX50 / 0x30355844), yuv420p, 160x120 [SAR 1:1 DAR 4:3], 375 kb/s, 25 fps, 25 tbr, 25 tbn, 30k tbc\n",
      "Stream mapping:\n",
      "  Stream #0:0 -> #0:0 (mpeg4 (native) -> mjpeg (native))\n",
      "Press [q] to stop, [?] for help\n",
      "[swscaler @ 000002a5e3cfdc80] deprecated pixel format used, make sure you did set range correctly\n",
      "Output #0, image2, to 'frames/walk%02d.jpg':\n",
      "  Metadata:\n",
      "    encoder         : Lavf58.17.100\n",
      "    Stream #0:0: Video: mjpeg, yuvj420p(pc), 160x120 [SAR 1:1 DAR 4:3], q=2-31, 200 kb/s, 25 fps, 25 tbn, 25 tbc\n",
      "    Metadata:\n",
      "      encoder         : Lavc58.20.103 mjpeg\n",
      "    Side data:\n",
      "      cpb: bitrate max/min/avg: 0/0/200000 buffer size: 0 vbv_delay: -1\n",
      "frame=   40 fps=0.0 q=4.7 Lsize=N/A time=00:00:01.60 bitrate=N/A speed=5.61x    \n",
      "video:71kB audio:0kB subtitle:0kB other streams:0kB global headers:0kB muxing overhead: unknown\n"
     ]
    },
    {
     "name": "stdout",
     "output_type": "stream",
     "text": [
      "43th video done\n"
     ]
    },
    {
     "name": "stderr",
     "output_type": "stream",
     "text": [
      "ffmpeg version N-91330-ga990184007 Copyright (c) 2000-2018 the FFmpeg developers\n",
      "  built with gcc 7.3.0 (GCC)\n",
      "  configuration: --enable-gpl --enable-version3 --enable-sdl2 --enable-bzlib --enable-fontconfig --enable-gnutls --enable-iconv --enable-libass --enable-libbluray --enable-libfreetype --enable-libmp3lame --enable-libopencore-amrnb --enable-libopencore-amrwb --enable-libopenjpeg --enable-libopus --enable-libshine --enable-libsnappy --enable-libsoxr --enable-libtheora --enable-libtwolame --enable-libvpx --enable-libwavpack --enable-libwebp --enable-libx264 --enable-libx265 --enable-libxml2 --enable-libzimg --enable-lzma --enable-zlib --enable-gmp --enable-libvidstab --enable-libvorbis --enable-libvo-amrwbenc --enable-libmysofa --enable-libspeex --enable-libxvid --enable-libaom --enable-libmfx --enable-amf --enable-ffnvcodec --enable-cuvid --enable-d3d11va --enable-nvenc --enable-nvdec --enable-dxva2 --enable-avisynth\n",
      "  libavutil      56. 18.102 / 56. 18.102\n",
      "  libavcodec     58. 20.103 / 58. 20.103\n",
      "  libavformat    58. 17.100 / 58. 17.100\n",
      "  libavdevice    58.  4.101 / 58.  4.101\n",
      "  libavfilter     7. 25.100 /  7. 25.100\n",
      "  libswscale      5.  2.100 /  5.  2.100\n",
      "  libswresample   3.  2.100 /  3.  2.100\n",
      "  libpostproc    55.  2.100 / 55.  2.100\n",
      "Input #0, avi, from 'Walking//person12_walking_d1_uncomp.avi':\n",
      "  Duration: 00:00:22.80, start: 0.000000, bitrate: 991 kb/s\n",
      "    Stream #0:0: Video: mpeg4 (DX50 / 0x30355844), yuv420p, 160x120 [SAR 1:1 DAR 4:3], 985 kb/s, 25 fps, 25 tbr, 25 tbn, 30k tbc\n",
      "Stream mapping:\n",
      "  Stream #0:0 -> #0:0 (mpeg4 (native) -> mjpeg (native))\n",
      "Press [q] to stop, [?] for help\n",
      "[swscaler @ 000002bc7e9aa440] deprecated pixel format used, make sure you did set range correctly\n",
      "Output #0, image2, to 'frames/walk%02d.jpg':\n",
      "  Metadata:\n",
      "    encoder         : Lavf58.17.100\n",
      "    Stream #0:0: Video: mjpeg, yuvj420p(pc), 160x120 [SAR 1:1 DAR 4:3], q=2-31, 200 kb/s, 25 fps, 25 tbn, 25 tbc\n",
      "    Metadata:\n",
      "      encoder         : Lavc58.20.103 mjpeg\n",
      "    Side data:\n",
      "      cpb: bitrate max/min/avg: 0/0/200000 buffer size: 0 vbv_delay: -1\n",
      "frame=   32 fps=0.0 q=12.4 size=N/A time=00:00:01.28 bitrate=N/A speed=2.51x    \n",
      "frame=   40 fps=0.0 q=12.6 Lsize=N/A time=00:00:01.60 bitrate=N/A speed=2.55x    \n",
      "video:89kB audio:0kB subtitle:0kB other streams:0kB global headers:0kB muxing overhead: unknown\n"
     ]
    },
    {
     "name": "stdout",
     "output_type": "stream",
     "text": [
      "44th video done\n"
     ]
    },
    {
     "name": "stderr",
     "output_type": "stream",
     "text": [
      "ffmpeg version N-91330-ga990184007 Copyright (c) 2000-2018 the FFmpeg developers\n",
      "  built with gcc 7.3.0 (GCC)\n",
      "  configuration: --enable-gpl --enable-version3 --enable-sdl2 --enable-bzlib --enable-fontconfig --enable-gnutls --enable-iconv --enable-libass --enable-libbluray --enable-libfreetype --enable-libmp3lame --enable-libopencore-amrnb --enable-libopencore-amrwb --enable-libopenjpeg --enable-libopus --enable-libshine --enable-libsnappy --enable-libsoxr --enable-libtheora --enable-libtwolame --enable-libvpx --enable-libwavpack --enable-libwebp --enable-libx264 --enable-libx265 --enable-libxml2 --enable-libzimg --enable-lzma --enable-zlib --enable-gmp --enable-libvidstab --enable-libvorbis --enable-libvo-amrwbenc --enable-libmysofa --enable-libspeex --enable-libxvid --enable-libaom --enable-libmfx --enable-amf --enable-ffnvcodec --enable-cuvid --enable-d3d11va --enable-nvenc --enable-nvdec --enable-dxva2 --enable-avisynth\n",
      "  libavutil      56. 18.102 / 56. 18.102\n",
      "  libavcodec     58. 20.103 / 58. 20.103\n",
      "  libavformat    58. 17.100 / 58. 17.100\n",
      "  libavdevice    58.  4.101 / 58.  4.101\n",
      "  libavfilter     7. 25.100 /  7. 25.100\n",
      "  libswscale      5.  2.100 /  5.  2.100\n",
      "  libswresample   3.  2.100 /  3.  2.100\n",
      "  libpostproc    55.  2.100 / 55.  2.100\n",
      "Input #0, avi, from 'Walking//person12_walking_d2_uncomp.avi':\n",
      "  Duration: 00:00:34.00, start: 0.000000, bitrate: 823 kb/s\n",
      "    Stream #0:0: Video: mpeg4 (DX50 / 0x30355844), yuv420p, 160x120 [SAR 1:1 DAR 4:3], 817 kb/s, 25 fps, 25 tbr, 25 tbn, 30k tbc\n",
      "Stream mapping:\n",
      "  Stream #0:0 -> #0:0 (mpeg4 (native) -> mjpeg (native))\n",
      "Press [q] to stop, [?] for help\n",
      "[swscaler @ 00000255df0bf780] deprecated pixel format used, make sure you did set range correctly\n",
      "Output #0, image2, to 'frames/walk%02d.jpg':\n",
      "  Metadata:\n",
      "    encoder         : Lavf58.17.100\n",
      "    Stream #0:0: Video: mjpeg, yuvj420p(pc), 160x120 [SAR 1:1 DAR 4:3], q=2-31, 200 kb/s, 25 fps, 25 tbn, 25 tbc\n",
      "    Metadata:\n",
      "      encoder         : Lavc58.20.103 mjpeg\n",
      "    Side data:\n",
      "      cpb: bitrate max/min/avg: 0/0/200000 buffer size: 0 vbv_delay: -1\n",
      "frame=   40 fps=0.0 q=9.9 Lsize=N/A time=00:00:01.60 bitrate=N/A speed=3.94x    \n",
      "video:85kB audio:0kB subtitle:0kB other streams:0kB global headers:0kB muxing overhead: unknown\n"
     ]
    },
    {
     "name": "stdout",
     "output_type": "stream",
     "text": [
      "45th video done\n"
     ]
    },
    {
     "name": "stderr",
     "output_type": "stream",
     "text": [
      "ffmpeg version N-91330-ga990184007 Copyright (c) 2000-2018 the FFmpeg developers\n",
      "  built with gcc 7.3.0 (GCC)\n",
      "  configuration: --enable-gpl --enable-version3 --enable-sdl2 --enable-bzlib --enable-fontconfig --enable-gnutls --enable-iconv --enable-libass --enable-libbluray --enable-libfreetype --enable-libmp3lame --enable-libopencore-amrnb --enable-libopencore-amrwb --enable-libopenjpeg --enable-libopus --enable-libshine --enable-libsnappy --enable-libsoxr --enable-libtheora --enable-libtwolame --enable-libvpx --enable-libwavpack --enable-libwebp --enable-libx264 --enable-libx265 --enable-libxml2 --enable-libzimg --enable-lzma --enable-zlib --enable-gmp --enable-libvidstab --enable-libvorbis --enable-libvo-amrwbenc --enable-libmysofa --enable-libspeex --enable-libxvid --enable-libaom --enable-libmfx --enable-amf --enable-ffnvcodec --enable-cuvid --enable-d3d11va --enable-nvenc --enable-nvdec --enable-dxva2 --enable-avisynth\n",
      "  libavutil      56. 18.102 / 56. 18.102\n",
      "  libavcodec     58. 20.103 / 58. 20.103\n",
      "  libavformat    58. 17.100 / 58. 17.100\n",
      "  libavdevice    58.  4.101 / 58.  4.101\n",
      "  libavfilter     7. 25.100 /  7. 25.100\n",
      "  libswscale      5.  2.100 /  5.  2.100\n",
      "  libswresample   3.  2.100 /  3.  2.100\n",
      "  libpostproc    55.  2.100 / 55.  2.100\n",
      "Input #0, avi, from 'Walking//person12_walking_d3_uncomp.avi':\n",
      "  Duration: 00:00:20.40, start: 0.000000, bitrate: 1060 kb/s\n",
      "    Stream #0:0: Video: mpeg4 (DX50 / 0x30355844), yuv420p, 160x120 [SAR 1:1 DAR 4:3], 1053 kb/s, 25 fps, 25 tbr, 25 tbn, 30k tbc\n",
      "Stream mapping:\n",
      "  Stream #0:0 -> #0:0 (mpeg4 (native) -> mjpeg (native))\n",
      "Press [q] to stop, [?] for help\n",
      "[swscaler @ 00000263db591a80] deprecated pixel format used, make sure you did set range correctly\n",
      "Output #0, image2, to 'frames/walk%02d.jpg':\n",
      "  Metadata:\n",
      "    encoder         : Lavf58.17.100\n",
      "    Stream #0:0: Video: mjpeg, yuvj420p(pc), 160x120 [SAR 1:1 DAR 4:3], q=2-31, 200 kb/s, 25 fps, 25 tbn, 25 tbc\n",
      "    Metadata:\n",
      "      encoder         : Lavc58.20.103 mjpeg\n",
      "    Side data:\n",
      "      cpb: bitrate max/min/avg: 0/0/200000 buffer size: 0 vbv_delay: -1\n",
      "frame=   40 fps=0.0 q=10.6 Lsize=N/A time=00:00:01.60 bitrate=N/A speed=3.44x    \n",
      "video:88kB audio:0kB subtitle:0kB other streams:0kB global headers:0kB muxing overhead: unknown\n"
     ]
    },
    {
     "name": "stdout",
     "output_type": "stream",
     "text": [
      "46th video done\n"
     ]
    },
    {
     "name": "stderr",
     "output_type": "stream",
     "text": [
      "ffmpeg version N-91330-ga990184007 Copyright (c) 2000-2018 the FFmpeg developers\n",
      "  built with gcc 7.3.0 (GCC)\n",
      "  configuration: --enable-gpl --enable-version3 --enable-sdl2 --enable-bzlib --enable-fontconfig --enable-gnutls --enable-iconv --enable-libass --enable-libbluray --enable-libfreetype --enable-libmp3lame --enable-libopencore-amrnb --enable-libopencore-amrwb --enable-libopenjpeg --enable-libopus --enable-libshine --enable-libsnappy --enable-libsoxr --enable-libtheora --enable-libtwolame --enable-libvpx --enable-libwavpack --enable-libwebp --enable-libx264 --enable-libx265 --enable-libxml2 --enable-libzimg --enable-lzma --enable-zlib --enable-gmp --enable-libvidstab --enable-libvorbis --enable-libvo-amrwbenc --enable-libmysofa --enable-libspeex --enable-libxvid --enable-libaom --enable-libmfx --enable-amf --enable-ffnvcodec --enable-cuvid --enable-d3d11va --enable-nvenc --enable-nvdec --enable-dxva2 --enable-avisynth\n",
      "  libavutil      56. 18.102 / 56. 18.102\n",
      "  libavcodec     58. 20.103 / 58. 20.103\n",
      "  libavformat    58. 17.100 / 58. 17.100\n",
      "  libavdevice    58.  4.101 / 58.  4.101\n",
      "  libavfilter     7. 25.100 /  7. 25.100\n",
      "  libswscale      5.  2.100 /  5.  2.100\n",
      "  libswresample   3.  2.100 /  3.  2.100\n",
      "  libpostproc    55.  2.100 / 55.  2.100\n",
      "Input #0, avi, from 'Walking//person12_walking_d4_uncomp.avi':\n",
      "  Duration: 00:00:25.60, start: 0.000000, bitrate: 490 kb/s\n",
      "    Stream #0:0: Video: mpeg4 (DX50 / 0x30355844), yuv420p, 160x120 [SAR 1:1 DAR 4:3], 482 kb/s, 25 fps, 25 tbr, 25 tbn, 30k tbc\n",
      "Stream mapping:\n",
      "  Stream #0:0 -> #0:0 (mpeg4 (native) -> mjpeg (native))\n",
      "Press [q] to stop, [?] for help\n",
      "[swscaler @ 000002030424a980] deprecated pixel format used, make sure you did set range correctly\n",
      "Output #0, image2, to 'frames/walk%02d.jpg':\n",
      "  Metadata:\n",
      "    encoder         : Lavf58.17.100\n",
      "    Stream #0:0: Video: mjpeg, yuvj420p(pc), 160x120 [SAR 1:1 DAR 4:3], q=2-31, 200 kb/s, 25 fps, 25 tbn, 25 tbc\n",
      "    Metadata:\n",
      "      encoder         : Lavc58.20.103 mjpeg\n",
      "    Side data:\n",
      "      cpb: bitrate max/min/avg: 0/0/200000 buffer size: 0 vbv_delay: -1\n",
      "frame=   37 fps=0.0 q=4.1 size=N/A time=00:00:01.48 bitrate=N/A speed=2.92x    \n",
      "frame=   40 fps=0.0 q=4.6 Lsize=N/A time=00:00:01.60 bitrate=N/A speed=2.88x    \n",
      "video:69kB audio:0kB subtitle:0kB other streams:0kB global headers:0kB muxing overhead: unknown\n"
     ]
    },
    {
     "name": "stdout",
     "output_type": "stream",
     "text": [
      "47th video done\n"
     ]
    },
    {
     "name": "stderr",
     "output_type": "stream",
     "text": [
      "ffmpeg version N-91330-ga990184007 Copyright (c) 2000-2018 the FFmpeg developers\n",
      "  built with gcc 7.3.0 (GCC)\n",
      "  configuration: --enable-gpl --enable-version3 --enable-sdl2 --enable-bzlib --enable-fontconfig --enable-gnutls --enable-iconv --enable-libass --enable-libbluray --enable-libfreetype --enable-libmp3lame --enable-libopencore-amrnb --enable-libopencore-amrwb --enable-libopenjpeg --enable-libopus --enable-libshine --enable-libsnappy --enable-libsoxr --enable-libtheora --enable-libtwolame --enable-libvpx --enable-libwavpack --enable-libwebp --enable-libx264 --enable-libx265 --enable-libxml2 --enable-libzimg --enable-lzma --enable-zlib --enable-gmp --enable-libvidstab --enable-libvorbis --enable-libvo-amrwbenc --enable-libmysofa --enable-libspeex --enable-libxvid --enable-libaom --enable-libmfx --enable-amf --enable-ffnvcodec --enable-cuvid --enable-d3d11va --enable-nvenc --enable-nvdec --enable-dxva2 --enable-avisynth\n",
      "  libavutil      56. 18.102 / 56. 18.102\n",
      "  libavcodec     58. 20.103 / 58. 20.103\n",
      "  libavformat    58. 17.100 / 58. 17.100\n",
      "  libavdevice    58.  4.101 / 58.  4.101\n",
      "  libavfilter     7. 25.100 /  7. 25.100\n",
      "  libswscale      5.  2.100 /  5.  2.100\n",
      "  libswresample   3.  2.100 /  3.  2.100\n",
      "  libpostproc    55.  2.100 / 55.  2.100\n",
      "Input #0, avi, from 'Walking//person13_walking_d1_uncomp.avi':\n",
      "  Duration: 00:00:27.60, start: 0.000000, bitrate: 892 kb/s\n",
      "    Stream #0:0: Video: mpeg4 (DX50 / 0x30355844), yuv420p, 160x120 [SAR 1:1 DAR 4:3], 885 kb/s, 25 fps, 25 tbr, 25 tbn, 30k tbc\n",
      "Stream mapping:\n",
      "  Stream #0:0 -> #0:0 (mpeg4 (native) -> mjpeg (native))\n",
      "Press [q] to stop, [?] for help\n",
      "[swscaler @ 000001d469e9d240] deprecated pixel format used, make sure you did set range correctly\n",
      "Output #0, image2, to 'frames/walk%02d.jpg':\n",
      "  Metadata:\n",
      "    encoder         : Lavf58.17.100\n",
      "    Stream #0:0: Video: mjpeg, yuvj420p(pc), 160x120 [SAR 1:1 DAR 4:3], q=2-31, 200 kb/s, 25 fps, 25 tbn, 25 tbc\n",
      "    Metadata:\n",
      "      encoder         : Lavc58.20.103 mjpeg\n",
      "    Side data:\n",
      "      cpb: bitrate max/min/avg: 0/0/200000 buffer size: 0 vbv_delay: -1\n",
      "frame=   40 fps=0.0 q=11.3 Lsize=N/A time=00:00:01.60 bitrate=N/A speed=4.82x    \n",
      "video:87kB audio:0kB subtitle:0kB other streams:0kB global headers:0kB muxing overhead: unknown\n"
     ]
    },
    {
     "name": "stdout",
     "output_type": "stream",
     "text": [
      "48th video done\n"
     ]
    },
    {
     "name": "stderr",
     "output_type": "stream",
     "text": [
      "ffmpeg version N-91330-ga990184007 Copyright (c) 2000-2018 the FFmpeg developers\n",
      "  built with gcc 7.3.0 (GCC)\n",
      "  configuration: --enable-gpl --enable-version3 --enable-sdl2 --enable-bzlib --enable-fontconfig --enable-gnutls --enable-iconv --enable-libass --enable-libbluray --enable-libfreetype --enable-libmp3lame --enable-libopencore-amrnb --enable-libopencore-amrwb --enable-libopenjpeg --enable-libopus --enable-libshine --enable-libsnappy --enable-libsoxr --enable-libtheora --enable-libtwolame --enable-libvpx --enable-libwavpack --enable-libwebp --enable-libx264 --enable-libx265 --enable-libxml2 --enable-libzimg --enable-lzma --enable-zlib --enable-gmp --enable-libvidstab --enable-libvorbis --enable-libvo-amrwbenc --enable-libmysofa --enable-libspeex --enable-libxvid --enable-libaom --enable-libmfx --enable-amf --enable-ffnvcodec --enable-cuvid --enable-d3d11va --enable-nvenc --enable-nvdec --enable-dxva2 --enable-avisynth\n",
      "  libavutil      56. 18.102 / 56. 18.102\n",
      "  libavcodec     58. 20.103 / 58. 20.103\n",
      "  libavformat    58. 17.100 / 58. 17.100\n",
      "  libavdevice    58.  4.101 / 58.  4.101\n",
      "  libavfilter     7. 25.100 /  7. 25.100\n",
      "  libswscale      5.  2.100 /  5.  2.100\n",
      "  libswresample   3.  2.100 /  3.  2.100\n",
      "  libpostproc    55.  2.100 / 55.  2.100\n",
      "Input #0, avi, from 'Walking//person13_walking_d2_uncomp.avi':\n",
      "  Duration: 00:00:37.60, start: 0.000000, bitrate: 796 kb/s\n",
      "    Stream #0:0: Video: mpeg4 (DX50 / 0x30355844), yuv420p, 160x120 [SAR 1:1 DAR 4:3], 790 kb/s, 25 fps, 25 tbr, 25 tbn, 30k tbc\n",
      "Stream mapping:\n",
      "  Stream #0:0 -> #0:0 (mpeg4 (native) -> mjpeg (native))\n",
      "Press [q] to stop, [?] for help\n",
      "[swscaler @ 0000020765186dc0] deprecated pixel format used, make sure you did set range correctly\n",
      "Output #0, image2, to 'frames/walk%02d.jpg':\n",
      "  Metadata:\n",
      "    encoder         : Lavf58.17.100\n",
      "    Stream #0:0: Video: mjpeg, yuvj420p(pc), 160x120 [SAR 1:1 DAR 4:3], q=2-31, 200 kb/s, 25 fps, 25 tbn, 25 tbc\n",
      "    Metadata:\n",
      "      encoder         : Lavc58.20.103 mjpeg\n",
      "    Side data:\n",
      "      cpb: bitrate max/min/avg: 0/0/200000 buffer size: 0 vbv_delay: -1\n",
      "frame=   40 fps=0.0 q=11.5 Lsize=N/A time=00:00:01.60 bitrate=N/A speed=3.97x    \n",
      "video:88kB audio:0kB subtitle:0kB other streams:0kB global headers:0kB muxing overhead: unknown\n"
     ]
    },
    {
     "name": "stdout",
     "output_type": "stream",
     "text": [
      "49th video done\n"
     ]
    },
    {
     "name": "stderr",
     "output_type": "stream",
     "text": [
      "ffmpeg version N-91330-ga990184007 Copyright (c) 2000-2018 the FFmpeg developers\n",
      "  built with gcc 7.3.0 (GCC)\n",
      "  configuration: --enable-gpl --enable-version3 --enable-sdl2 --enable-bzlib --enable-fontconfig --enable-gnutls --enable-iconv --enable-libass --enable-libbluray --enable-libfreetype --enable-libmp3lame --enable-libopencore-amrnb --enable-libopencore-amrwb --enable-libopenjpeg --enable-libopus --enable-libshine --enable-libsnappy --enable-libsoxr --enable-libtheora --enable-libtwolame --enable-libvpx --enable-libwavpack --enable-libwebp --enable-libx264 --enable-libx265 --enable-libxml2 --enable-libzimg --enable-lzma --enable-zlib --enable-gmp --enable-libvidstab --enable-libvorbis --enable-libvo-amrwbenc --enable-libmysofa --enable-libspeex --enable-libxvid --enable-libaom --enable-libmfx --enable-amf --enable-ffnvcodec --enable-cuvid --enable-d3d11va --enable-nvenc --enable-nvdec --enable-dxva2 --enable-avisynth\n",
      "  libavutil      56. 18.102 / 56. 18.102\n",
      "  libavcodec     58. 20.103 / 58. 20.103\n",
      "  libavformat    58. 17.100 / 58. 17.100\n",
      "  libavdevice    58.  4.101 / 58.  4.101\n",
      "  libavfilter     7. 25.100 /  7. 25.100\n",
      "  libswscale      5.  2.100 /  5.  2.100\n",
      "  libswresample   3.  2.100 /  3.  2.100\n",
      "  libpostproc    55.  2.100 / 55.  2.100\n",
      "Input #0, avi, from 'Walking//person13_walking_d3_uncomp.avi':\n",
      "  Duration: 00:00:26.80, start: 0.000000, bitrate: 891 kb/s\n",
      "    Stream #0:0: Video: mpeg4 (DX50 / 0x30355844), yuv420p, 160x120 [SAR 1:1 DAR 4:3], 885 kb/s, 25 fps, 25 tbr, 25 tbn, 30k tbc\n",
      "Stream mapping:\n",
      "  Stream #0:0 -> #0:0 (mpeg4 (native) -> mjpeg (native))\n",
      "Press [q] to stop, [?] for help\n",
      "[swscaler @ 0000022fb480f380] deprecated pixel format used, make sure you did set range correctly\n",
      "Output #0, image2, to 'frames/walk%02d.jpg':\n",
      "  Metadata:\n",
      "    encoder         : Lavf58.17.100\n",
      "    Stream #0:0: Video: mjpeg, yuvj420p(pc), 160x120 [SAR 1:1 DAR 4:3], q=2-31, 200 kb/s, 25 fps, 25 tbn, 25 tbc\n",
      "    Metadata:\n",
      "      encoder         : Lavc58.20.103 mjpeg\n",
      "    Side data:\n",
      "      cpb: bitrate max/min/avg: 0/0/200000 buffer size: 0 vbv_delay: -1\n",
      "frame=   40 fps=0.0 q=10.5 Lsize=N/A time=00:00:01.60 bitrate=N/A speed=4.84x    \n",
      "video:87kB audio:0kB subtitle:0kB other streams:0kB global headers:0kB muxing overhead: unknown\n"
     ]
    },
    {
     "ename": "IndexError",
     "evalue": "index 50 is out of bounds for axis 0 with size 50",
     "output_type": "error",
     "traceback": [
      "\u001b[0;31m---------------------------------------------------------------------------\u001b[0m",
      "\u001b[0;31mIndexError\u001b[0m                                Traceback (most recent call last)",
      "\u001b[0;32m<ipython-input-102-518a8c5c7599>\u001b[0m in \u001b[0;36m<module>\u001b[0;34m()\u001b[0m\n\u001b[1;32m     10\u001b[0m     \u001b[0mget_ipython\u001b[0m\u001b[1;33m(\u001b[0m\u001b[1;33m)\u001b[0m\u001b[1;33m.\u001b[0m\u001b[0msystem\u001b[0m\u001b[1;33m(\u001b[0m\u001b[1;34m' rm  frames/*'\u001b[0m\u001b[1;33m)\u001b[0m\u001b[1;33m\u001b[0m\u001b[0m\n\u001b[1;32m     11\u001b[0m     \u001b[0mpred\u001b[0m\u001b[1;33m=\u001b[0m\u001b[0mmodel_fin\u001b[0m\u001b[1;33m.\u001b[0m\u001b[0mpredict\u001b[0m\u001b[1;33m(\u001b[0m\u001b[0marr\u001b[0m\u001b[1;33m)\u001b[0m\u001b[1;33m\u001b[0m\u001b[0m\n\u001b[0;32m---> 12\u001b[0;31m     \u001b[0mwalking_final_data\u001b[0m\u001b[1;33m[\u001b[0m\u001b[0mind\u001b[0m\u001b[1;33m]\u001b[0m\u001b[1;33m=\u001b[0m\u001b[0mpred\u001b[0m\u001b[1;33m\u001b[0m\u001b[0m\n\u001b[0m\u001b[1;32m     13\u001b[0m     \u001b[0mprint\u001b[0m\u001b[1;33m(\u001b[0m\u001b[0mstr\u001b[0m\u001b[1;33m(\u001b[0m\u001b[0mind\u001b[0m\u001b[1;33m)\u001b[0m\u001b[1;33m+\u001b[0m\u001b[1;34m\"th video done\"\u001b[0m\u001b[1;33m)\u001b[0m\u001b[1;33m\u001b[0m\u001b[0m\n",
      "\u001b[0;31mIndexError\u001b[0m: index 50 is out of bounds for axis 0 with size 50"
     ]
    }
   ],
   "source": [
    "for ind,vid in enumerate(walk_vids):\n",
    "    \n",
    "    arr=np.zeros(shape=(40,128,128,3))\n",
    "    vid_file=\"Walking//\"+vid\n",
    "    \n",
    "    !ffmpeg  -i $vid_file -vframes 40 frames/walk%02d.jpg\n",
    "    \n",
    "    for i,img in enumerate(os.listdir(\"frames/\")):\n",
    "        img=plt.imread(\"frames/\"+img)\n",
    "        img=imresize(img,(128,128))\n",
    "        arr[i]=img\n",
    "        #print(str(i)+\"th image\")\n",
    "    ! rm  frames/*\n",
    "    pred=model_fin.predict(arr)\n",
    "    walking_final_data[ind]=pred\n",
    "    print(str(ind)+\"th video done\")"
   ]
  },
  {
   "cell_type": "code",
   "execution_count": 103,
   "metadata": {},
   "outputs": [
    {
     "data": {
      "text/plain": [
       "(50, 40, 512)"
      ]
     },
     "execution_count": 103,
     "metadata": {},
     "output_type": "execute_result"
    }
   ],
   "source": [
    "walking_final_data.shape"
   ]
  },
  {
   "cell_type": "markdown",
   "metadata": {},
   "source": [
    "### Sequential_Model Architechture "
   ]
  },
  {
   "cell_type": "code",
   "execution_count": 104,
   "metadata": {
    "collapsed": true
   },
   "outputs": [],
   "source": [
    "from keras.layers import Dense,LSTM,Dropout\n",
    "from keras.models import Sequential"
   ]
  },
  {
   "cell_type": "code",
   "execution_count": 145,
   "metadata": {
    "collapsed": true
   },
   "outputs": [],
   "source": [
    "#this is the main trainable model , we are going to use ,\n",
    "model = Sequential()\n",
    "model.add(LSTM(256, return_sequences=False,    #spit out a 1024 dimension vector based on given input sequence,\n",
    "                                              #input sequence is a 40 frame video \n",
    "                       input_shape=(40,512),\n",
    "                       dropout=0.5))\n",
    "model.add(Dense(128, activation='relu'))\n",
    "model.add(Dropout(0.5))\n",
    "model.add(Dense(1, activation='sigmoid'))  #since only  one class ,sigmoid is the activation"
   ]
  },
  {
   "cell_type": "code",
   "execution_count": 146,
   "metadata": {},
   "outputs": [
    {
     "name": "stdout",
     "output_type": "stream",
     "text": [
      "_________________________________________________________________\n",
      "Layer (type)                 Output Shape              Param #   \n",
      "=================================================================\n",
      "lstm_2 (LSTM)                (None, 256)               787456    \n",
      "_________________________________________________________________\n",
      "dense_3 (Dense)              (None, 128)               32896     \n",
      "_________________________________________________________________\n",
      "dropout_2 (Dropout)          (None, 128)               0         \n",
      "_________________________________________________________________\n",
      "dense_4 (Dense)              (None, 1)                 129       \n",
      "=================================================================\n",
      "Total params: 820,481\n",
      "Trainable params: 820,481\n",
      "Non-trainable params: 0\n",
      "_________________________________________________________________\n"
     ]
    }
   ],
   "source": [
    "model.summary()"
   ]
  },
  {
   "cell_type": "markdown",
   "metadata": {},
   "source": [
    "### Generating a binary_class_label vector (or labels or  y )"
   ]
  },
  {
   "cell_type": "code",
   "execution_count": 109,
   "metadata": {
    "collapsed": true
   },
   "outputs": [],
   "source": [
    "cat2index={\"walking\":0,\"jogging\":1}"
   ]
  },
  {
   "cell_type": "markdown",
   "metadata": {},
   "source": [
    "jogging has 49,walking has 50"
   ]
  },
  {
   "cell_type": "code",
   "execution_count": 110,
   "metadata": {
    "collapsed": true
   },
   "outputs": [],
   "source": [
    "labels=[0 for i in range(49)]+[1 for i in range(50)]"
   ]
  },
  {
   "cell_type": "code",
   "execution_count": 111,
   "metadata": {},
   "outputs": [
    {
     "data": {
      "text/plain": [
       "99"
      ]
     },
     "execution_count": 111,
     "metadata": {},
     "output_type": "execute_result"
    }
   ],
   "source": [
    "len(labels)"
   ]
  },
  {
   "cell_type": "markdown",
   "metadata": {},
   "source": [
    "### Compiling "
   ]
  },
  {
   "cell_type": "code",
   "execution_count": 147,
   "metadata": {
    "collapsed": true
   },
   "outputs": [],
   "source": [
    "model.compile(optimizer=\"adam\",loss=\"binary_crossentropy\",metrics=[\"accuracy\"])"
   ]
  },
  {
   "cell_type": "code",
   "execution_count": 116,
   "metadata": {
    "collapsed": true
   },
   "outputs": [],
   "source": [
    "jogging_final_data=jogging_final_data[:49]"
   ]
  },
  {
   "cell_type": "code",
   "execution_count": 117,
   "metadata": {},
   "outputs": [
    {
     "data": {
      "text/plain": [
       "(49, 40, 512)"
      ]
     },
     "execution_count": 117,
     "metadata": {},
     "output_type": "execute_result"
    }
   ],
   "source": [
    "jogging_final_data.shape"
   ]
  },
  {
   "cell_type": "code",
   "execution_count": 118,
   "metadata": {},
   "outputs": [
    {
     "data": {
      "text/plain": [
       "(49, 40, 512)"
      ]
     },
     "execution_count": 118,
     "metadata": {},
     "output_type": "execute_result"
    }
   ],
   "source": [
    "jogging_final_data.shape"
   ]
  },
  {
   "cell_type": "code",
   "execution_count": 119,
   "metadata": {},
   "outputs": [
    {
     "data": {
      "text/plain": [
       "(50, 40, 512)"
      ]
     },
     "execution_count": 119,
     "metadata": {},
     "output_type": "execute_result"
    }
   ],
   "source": [
    "walking_final_data.shape"
   ]
  },
  {
   "cell_type": "code",
   "execution_count": 122,
   "metadata": {
    "collapsed": true
   },
   "outputs": [],
   "source": [
    "### Concating the Jogging_data_array and Walking_data_array  to create  final_data_array\n",
    "final_data=np.concatenate((walking_final_data,jogging_final_data),axis=0)"
   ]
  },
  {
   "cell_type": "code",
   "execution_count": 123,
   "metadata": {},
   "outputs": [
    {
     "data": {
      "text/plain": [
       "(99, 40, 512)"
      ]
     },
     "execution_count": 123,
     "metadata": {},
     "output_type": "execute_result"
    }
   ],
   "source": [
    "final_data.shape"
   ]
  },
  {
   "cell_type": "markdown",
   "metadata": {},
   "source": [
    "### Training"
   ]
  },
  {
   "cell_type": "code",
   "execution_count": 166,
   "metadata": {},
   "outputs": [
    {
     "name": "stdout",
     "output_type": "stream",
     "text": [
      "Epoch 1/10\n",
      "99/99 [==============================] - 2s 25ms/step - loss: 0.1462 - acc: 0.9394\n",
      "Epoch 2/10\n",
      "99/99 [==============================] - 2s 25ms/step - loss: 0.1601 - acc: 0.9192\n",
      "Epoch 3/10\n",
      "99/99 [==============================] - 2s 24ms/step - loss: 0.1625 - acc: 0.9192\n",
      "Epoch 4/10\n",
      "99/99 [==============================] - 3s 25ms/step - loss: 0.2075 - acc: 0.9293\n",
      "Epoch 5/10\n",
      "99/99 [==============================] - 2s 22ms/step - loss: 0.1737 - acc: 0.9192\n",
      "Epoch 6/10\n",
      "99/99 [==============================] - 2s 23ms/step - loss: 0.2675 - acc: 0.9192\n",
      "Epoch 7/10\n",
      "99/99 [==============================] - 2s 25ms/step - loss: 0.0783 - acc: 0.9899\n",
      "Epoch 8/10\n",
      "99/99 [==============================] - 3s 27ms/step - loss: 0.1258 - acc: 0.9697\n",
      "Epoch 9/10\n",
      "99/99 [==============================] - 3s 25ms/step - loss: 0.1148 - acc: 0.9495\n",
      "Epoch 10/10\n",
      "99/99 [==============================] - 3s 27ms/step - loss: 0.1578 - acc: 0.9192\n"
     ]
    },
    {
     "data": {
      "text/plain": [
       "<keras.callbacks.History at 0x2bb21c4a978>"
      ]
     },
     "execution_count": 166,
     "metadata": {},
     "output_type": "execute_result"
    }
   ],
   "source": [
    "model.fit(final_data,labels,batch_size=8,epochs=10,callbacks=[cb])"
   ]
  },
  {
   "cell_type": "markdown",
   "metadata": {},
   "source": [
    "This pretrained lite CNN model ie. squeeznet and RNN Duo gives satisfactory result"
   ]
  },
  {
   "cell_type": "markdown",
   "metadata": {},
   "source": [
    "### Further PlayArounds to increase accuracy \n",
    "1. we can increase the no. of frames from 40 to 100 or may be 200 \n",
    "   which might give better results as we adds more training examples (or frames) \n",
    "2. we can use use Bidirectional LSTM instead for bidirectional information flow .\n",
    "3. we can use another CNN architecture like VGG-16, (provided it'll be more computational)\n",
    "4. can try another approach may with conv3D"
   ]
  },
  {
   "cell_type": "markdown",
   "metadata": {},
   "source": []
  },
  {
   "cell_type": "code",
   "execution_count": null,
   "metadata": {
    "collapsed": true
   },
   "outputs": [],
   "source": []
  },
  {
   "cell_type": "code",
   "execution_count": null,
   "metadata": {
    "collapsed": true
   },
   "outputs": [],
   "source": [
    "#saving the model"
   ]
  },
  {
   "cell_type": "code",
   "execution_count": 136,
   "metadata": {
    "collapsed": true
   },
   "outputs": [],
   "source": [
    "from keras.models import save_model"
   ]
  },
  {
   "cell_type": "code",
   "execution_count": 167,
   "metadata": {
    "collapsed": true
   },
   "outputs": [],
   "source": [
    "save_model(model,\"model_1.h5\")"
   ]
  },
  {
   "cell_type": "code",
   "execution_count": 141,
   "metadata": {
    "collapsed": true
   },
   "outputs": [],
   "source": [
    "from keras.models import load_model"
   ]
  },
  {
   "cell_type": "code",
   "execution_count": 142,
   "metadata": {
    "collapsed": true
   },
   "outputs": [],
   "source": [
    "model_loaded=load_model(\"model_1.h5\")"
   ]
  },
  {
   "cell_type": "code",
   "execution_count": 143,
   "metadata": {},
   "outputs": [
    {
     "name": "stdout",
     "output_type": "stream",
     "text": [
      "_________________________________________________________________\n",
      "Layer (type)                 Output Shape              Param #   \n",
      "=================================================================\n",
      "lstm_1 (LSTM)                (None, 1024)              6295552   \n",
      "_________________________________________________________________\n",
      "dense_1 (Dense)              (None, 128)               131200    \n",
      "_________________________________________________________________\n",
      "dropout_1 (Dropout)          (None, 128)               0         \n",
      "_________________________________________________________________\n",
      "dense_2 (Dense)              (None, 1)                 129       \n",
      "=================================================================\n",
      "Total params: 6,426,881\n",
      "Trainable params: 6,426,881\n",
      "Non-trainable params: 0\n",
      "_________________________________________________________________\n"
     ]
    }
   ],
   "source": [
    "model_loaded.summary()"
   ]
  },
  {
   "cell_type": "code",
   "execution_count": null,
   "metadata": {
    "collapsed": true
   },
   "outputs": [],
   "source": []
  },
  {
   "cell_type": "code",
   "execution_count": null,
   "metadata": {
    "collapsed": true
   },
   "outputs": [],
   "source": []
  },
  {
   "cell_type": "code",
   "execution_count": null,
   "metadata": {
    "collapsed": true
   },
   "outputs": [],
   "source": []
  }
 ],
 "metadata": {
  "anaconda-cloud": {},
  "kernelspec": {
   "display_name": "Python 3",
   "language": "python",
   "name": "python3"
  },
  "language_info": {
   "codemirror_mode": {
    "name": "ipython",
    "version": 3
   },
   "file_extension": ".py",
   "mimetype": "text/x-python",
   "name": "python",
   "nbconvert_exporter": "python",
   "pygments_lexer": "ipython3",
   "version": "3.6.3"
  }
 },
 "nbformat": 4,
 "nbformat_minor": 1
}
